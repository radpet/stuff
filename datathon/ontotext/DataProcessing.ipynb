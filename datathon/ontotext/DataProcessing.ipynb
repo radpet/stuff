{
 "cells": [
  {
   "cell_type": "code",
   "execution_count": 1,
   "metadata": {},
   "outputs": [],
   "source": [
    "import pandas as pd"
   ]
  },
  {
   "cell_type": "code",
   "execution_count": 2,
   "metadata": {},
   "outputs": [
    {
     "data": {
      "text/plain": [
       "(79383, 4)"
      ]
     },
     "execution_count": 2,
     "metadata": {},
     "output_type": "execute_result"
    }
   ],
   "source": [
    "dataset = pd.read_csv(\"data/train.csv\")\n",
    "dataset.drop_duplicates(inplace=True)\n",
    "dataset.shape"
   ]
  },
  {
   "cell_type": "code",
   "execution_count": 3,
   "metadata": {},
   "outputs": [
    {
     "data": {
      "text/html": [
       "<div>\n",
       "<style scoped>\n",
       "    .dataframe tbody tr th:only-of-type {\n",
       "        vertical-align: middle;\n",
       "    }\n",
       "\n",
       "    .dataframe tbody tr th {\n",
       "        vertical-align: top;\n",
       "    }\n",
       "\n",
       "    .dataframe thead th {\n",
       "        text-align: right;\n",
       "    }\n",
       "</style>\n",
       "<table border=\"1\" class=\"dataframe\">\n",
       "  <thead>\n",
       "    <tr style=\"text-align: right;\">\n",
       "      <th></th>\n",
       "      <th>company1</th>\n",
       "      <th>company2</th>\n",
       "      <th>is_parent</th>\n",
       "      <th>snippet</th>\n",
       "    </tr>\n",
       "  </thead>\n",
       "  <tbody>\n",
       "    <tr>\n",
       "      <th>0</th>\n",
       "      <td>Sprint_Corporation</td>\n",
       "      <td>Verizon_Communications</td>\n",
       "      <td>False</td>\n",
       "      <td>1 wireless carrier Verizon_Communications (NY...</td>\n",
       "    </tr>\n",
       "    <tr>\n",
       "      <th>1</th>\n",
       "      <td>Sprint_Corporation</td>\n",
       "      <td>Verizon_Communications</td>\n",
       "      <td>False</td>\n",
       "      <td>While AT&amp;T, Sprint_Corporation, and T-Mobile ...</td>\n",
       "    </tr>\n",
       "    <tr>\n",
       "      <th>2</th>\n",
       "      <td>Sprint_Corporation</td>\n",
       "      <td>Verizon_Communications</td>\n",
       "      <td>False</td>\n",
       "      <td>\\nAT&amp;T, Sprint_Corporation, and Verizon_Commun...</td>\n",
       "    </tr>\n",
       "    <tr>\n",
       "      <th>3</th>\n",
       "      <td>Alexa_Internet</td>\n",
       "      <td>Amazon.com</td>\n",
       "      <td>False</td>\n",
       "      <td>Logitech addsAmazon.comn'sAlexa_Interneta skil...</td>\n",
       "    </tr>\n",
       "    <tr>\n",
       "      <th>4</th>\n",
       "      <td>Alexa_Internet</td>\n",
       "      <td>Amazon.com</td>\n",
       "      <td>False</td>\n",
       "      <td>\\nLogitech has announced a new version of the ...</td>\n",
       "    </tr>\n",
       "  </tbody>\n",
       "</table>\n",
       "</div>"
      ],
      "text/plain": [
       "             company1                company2  is_parent  \\\n",
       "0  Sprint_Corporation  Verizon_Communications      False   \n",
       "1  Sprint_Corporation  Verizon_Communications      False   \n",
       "2  Sprint_Corporation  Verizon_Communications      False   \n",
       "3      Alexa_Internet              Amazon.com      False   \n",
       "4      Alexa_Internet              Amazon.com      False   \n",
       "\n",
       "                                             snippet  \n",
       "0   1 wireless carrier Verizon_Communications (NY...  \n",
       "1   While AT&T, Sprint_Corporation, and T-Mobile ...  \n",
       "2  \\nAT&T, Sprint_Corporation, and Verizon_Commun...  \n",
       "3  Logitech addsAmazon.comn'sAlexa_Interneta skil...  \n",
       "4  \\nLogitech has announced a new version of the ...  "
      ]
     },
     "execution_count": 3,
     "metadata": {},
     "output_type": "execute_result"
    }
   ],
   "source": [
    "dataset.head()"
   ]
  },
  {
   "cell_type": "code",
   "execution_count": 9,
   "metadata": {},
   "outputs": [
    {
     "data": {
      "text/plain": [
       "array([['Sprint_Corporation', 'Verizon_Communications', False,\n",
       "        ' 1 wireless carrier Verizon_Communications (NYSE: VZ). While AT&T, Sprint_Corporation, and T-Mobile were trotting out impressive statistics, Verizon_Communications stated a few days after preorders began that the iPhone 7 launch was in line with typical numbers for a new iPhone model. ###END###'],\n",
       "       ['Sprint_Corporation', 'Verizon_Communications', False,\n",
       "        ' While AT&T, Sprint_Corporation, and T-Mobile were trotting out impressive statistics, Verizon_Communications stated a few days after preorders began that the iPhone 7 launch was in line with typical numbers for a new iPhone model. ###END###'],\n",
       "       ['Sprint_Corporation', 'Verizon_Communications', False,\n",
       "        '\\nAT&T, Sprint_Corporation, and Verizon_Communications quickly copied T-Mobile with similar offers. ###END###'],\n",
       "       ['Alexa_Internet', 'Amazon.com', False,\n",
       "        \"Logitech addsAmazon.comn'sAlexa_Interneta skills to its ZeroTouch voice-control smartphone mount Natufia brings the farmers' market straight to your home with its Kitchen. ###END###\"],\n",
       "       ['Alexa_Internet', 'Amazon.com', False,\n",
       "        \"\\nLogitech has announced a new version of the app for its ZeroTouch Android smartphone mounts (there is no iPhone version) that incorporates Amazon.com's Alexa_Internet voice-controlled digital assistant. ###END###\"],\n",
       "       ['Alexa_Internet', 'Amazon.com', False,\n",
       "        ' Say \"Alexa_Internet,\" and you can access any of the 8,000 skills associated with Amazon.com\\'s digital assistant. ###END###'],\n",
       "       ['Lufthansa', 'British_Airways', False,\n",
       "        \"''\\nGary Leff, author of the blog, View From The Wing, says United's new lie-flat seat is better than what is found on British_Airways and Lufthansa, and comparable to what is offered by American and Delta. ###END###\"],\n",
       "       ['Asda', 'Walmart', False,\n",
       "        \" It is understood that B&M has no knowledge of Asda's interest.\\xa0\\nWalmart has been on an acquisitive streak in the US, but has focused primarily on online businesses to bolster its defences against Amazon, which has stepped up its grocery interests with a takeover of Whole Foods. ###END###\"],\n",
       "       ['Comcast', 'Verizon_Communications', False,\n",
       "        ' wireless industry to ease pricing pressure in the market, which could benefit AT&T and Verizon_Communications, who have lost share to their smaller rivals. Cable companies Comcast Corp ( CMCSA. ###END###'],\n",
       "       ['Comcast', 'Verizon_Communications', False,\n",
       "        'O ) are also entering the market with wireless service on Verizon_Communications\\'s airwaves.\\n\"With no merger of Sprint and T-Mobile, as well as the entrance of Comcast and Charter into wireless, we expect Verizon_Communications to have a difficult run going forward,\" said Philip Cusick, an analyst at JPMorgan, in a research note. ###END###'],\n",
       "       ['Comcast', 'Verizon_Communications', False,\n",
       "        '\\n\"With no merger of Sprint and T-Mobile, as well as the entrance of Comcast and Charter into wireless, we expect Verizon_Communications to have a difficult run going forward,\" said Philip Cusick, an analyst at JPMorgan, in a research note. ###END###'],\n",
       "       ['AOL', 'Verizon_Communications', False,\n",
       "        ' The closure follows an acquisition of the parent company by Verizon_Communications for $4.5 billion, who will merge both Yahoo and AOL into a new subsidiary, named Oath . ###END###'],\n",
       "       ['AOL', 'Verizon_Communications', False,\n",
       "        '\\nRead More: Will Verizon_Communications\\'s Big Yahoo Content Play Work?\\n\"By acquiring Yahoo, we are scaling up to be a major competitor in mobile media,\" said Verizon_Communications chairman and CEO Lowell McAdam. \"Yahoo is a complementary business to AOL, giving us market-leading content brands and a valuable portfolio of online properties and mobile applications that attract over 1 billion monthly active consumer views. ###END###'],\n",
       "       ['AOL', 'Verizon_Communications', False,\n",
       "        '\"\\nThe company said AOL delivered \"strong revenue growth\" in the second quarter.\\nVerizon_Communications also reported Tuesday that it lost 13,000 net new FiOS broadband connections in the second quarter, compared with a gain of 98,000 in the first quarter and 72,000 in the second quarter of last year. ###END###'],\n",
       "       ['PrimeSense', 'Apple_Inc.', False,\n",
       "        ' Apple_Inc. made few acquisitions related to AR which includes PrimeSense, RealFace and Metaio. ###END###'],\n",
       "       ['PrimeSense', 'Apple_Inc.', False,\n",
       "        ' Apple_Inc. made few acquisitions related to AR which includes PrimeSense, RealFace and Metaio.\\nIt looks like Apple_Inc. is more interested in AR technologies rather than VR. ###END###'],\n",
       "       ['Sprint_Corporation', 'T-Mobile_US', False,\n",
       "        ' carriers lift fees to Belgium NEW YORK—AT&T, Sprint_Corporation, T-Mobile_US and Verizon are all waiving fees for people trying to communicate with loved ones in Brussels. ###END###'],\n",
       "       ['Janssen_Pharmaceutica', 'Johnson_&_Johnson', False,\n",
       "        \"\\nAny revision would affect marketing efforts by\\xa0manufacturers, including privately held Purdue Pharma and\\xa0Pharmascience, as well as publicly traded Teva Pharmaceuticals\\xa0Industries, Mallinckrodt Plc,\\xa0Novartis's Sandoz and Johnson_&_Johnson's Janssen_Pharmaceutica\\xa0Pharma. ###END###\"],\n",
       "       ['Ford_Motor_Company', 'Volvo_Cars', False,\n",
       "        '\\xa0\\nGeely acquired Volvo_Cars from American automaker, Ford_Motor_Company, in 2010 for US$1. ###END###'],\n",
       "       ['BMW', 'Porsche', False,\n",
       "        ' In Malaysia, it\\'s RM890k for the Porsche, and RM789k for the BMW.\\nThe benchmark runs comprise of four main \"obstacles,\" that is the zero to 60 mph (0 to 96 km/h) sprint, G-force cornering, slalom run and an all-out hot lap on the track. ###END###']],\n",
       "      dtype=object)"
      ]
     },
     "execution_count": 9,
     "metadata": {},
     "output_type": "execute_result"
    }
   ],
   "source": [
    "dataset[ dataset[\"is_parent\"] == False][:20].values"
   ]
  },
  {
   "cell_type": "code",
   "execution_count": 4,
   "metadata": {},
   "outputs": [],
   "source": [
    "# using this strategy to fix the problem (stated in the paper) for pairs order\n",
    "\n",
    "def preprocess(dataset):\n",
    "    aliased_snippet = []\n",
    "    companies = dataset[\"company1\"].append(dataset[\"company2\"]).value_counts().keys()\n",
    "    for i in range(dataset.shape[0]):\n",
    "        current_row = dataset.iloc[i]\n",
    "        snippet = current_row[\"snippet\"]\n",
    "         # I am adding more spaces cuz in some samples the words and concatanated\n",
    "        for company in companies:\n",
    "            snippet = snippet.replace(company, ' ' + company +' ')\n",
    "        preprocessed = snippet.replace(current_row[\"company1\"],\" company1 \").replace(current_row[\"company2\"],\" company2 \").replace(\"\\xa0\", \" \").replace(\"\\n\", \" \")\n",
    "                \n",
    "        aliased_snippet.append(preprocessed)\n",
    "    dataset['aliased_snippet'] = aliased_snippet\n",
    "\n",
    "    dataset['aliased_snippet'] = dataset['aliased_snippet'].str.lower()\n",
    "    print(\"Companies shape\",companies.shape)\n",
    "    return dataset"
   ]
  },
  {
   "cell_type": "code",
   "execution_count": 5,
   "metadata": {},
   "outputs": [
    {
     "name": "stdout",
     "output_type": "stream",
     "text": [
      "Companies shape (451,)\n"
     ]
    },
    {
     "data": {
      "text/plain": [
       "(79383, 5)"
      ]
     },
     "execution_count": 5,
     "metadata": {},
     "output_type": "execute_result"
    }
   ],
   "source": [
    "dataset = preprocess(dataset)\n",
    "dataset.shape"
   ]
  },
  {
   "cell_type": "code",
   "execution_count": 6,
   "metadata": {},
   "outputs": [
    {
     "data": {
      "text/plain": [
       "((55568, 5), (23815, 5))"
      ]
     },
     "execution_count": 6,
     "metadata": {},
     "output_type": "execute_result"
    }
   ],
   "source": [
    "# I will split the train data to train,dev,test in ratio 70/20/10\n",
    "from sklearn.model_selection import train_test_split\n",
    "train, other = train_test_split(dataset, stratify=dataset[\"is_parent\"],test_size=0.3,random_state=26)\n",
    "train.shape, other.shape"
   ]
  },
  {
   "cell_type": "code",
   "execution_count": 7,
   "metadata": {},
   "outputs": [
    {
     "data": {
      "text/plain": [
       "False    39038\n",
       "True     16530\n",
       "Name: is_parent, dtype: int64"
      ]
     },
     "execution_count": 7,
     "metadata": {},
     "output_type": "execute_result"
    }
   ],
   "source": [
    "train[\"is_parent\"].value_counts()"
   ]
  },
  {
   "cell_type": "code",
   "execution_count": 8,
   "metadata": {},
   "outputs": [
    {
     "data": {
      "text/plain": [
       "False    16730\n",
       "True      7085\n",
       "Name: is_parent, dtype: int64"
      ]
     },
     "execution_count": 8,
     "metadata": {},
     "output_type": "execute_result"
    }
   ],
   "source": [
    "other[\"is_parent\"].value_counts()"
   ]
  },
  {
   "cell_type": "code",
   "execution_count": 9,
   "metadata": {},
   "outputs": [
    {
     "data": {
      "text/plain": [
       "((15876, 5), (7939, 5))"
      ]
     },
     "execution_count": 9,
     "metadata": {},
     "output_type": "execute_result"
    }
   ],
   "source": [
    "from sklearn.model_selection import train_test_split\n",
    "dev,test = train_test_split(other, stratify=other[\"is_parent\"], test_size=(1/3), random_state=26)\n",
    "dev.shape, test.shape"
   ]
  },
  {
   "cell_type": "markdown",
   "metadata": {},
   "source": [
    "Lets check whether we splitted it correctly"
   ]
  },
  {
   "cell_type": "code",
   "execution_count": 10,
   "metadata": {},
   "outputs": [
    {
     "name": "stdout",
     "output_type": "stream",
     "text": [
      "69.99987402844438\n",
      "19.999244170666262\n",
      "10.00088180088936\n"
     ]
    }
   ],
   "source": [
    "def in_percent(ratio):\n",
    "    return ratio*100\n",
    "\n",
    "print(in_percent(train.shape[0]/dataset.shape[0]))\n",
    "print(in_percent(dev.shape[0]/dataset.shape[0]))\n",
    "print(in_percent(test.shape[0]/dataset.shape[0]))"
   ]
  },
  {
   "cell_type": "code",
   "execution_count": 11,
   "metadata": {},
   "outputs": [
    {
     "name": "stdout",
     "output_type": "stream",
     "text": [
      "mkdir: cannot create directory ‘split’: File exists\r\n"
     ]
    }
   ],
   "source": [
    "%mkdir split"
   ]
  },
  {
   "cell_type": "code",
   "execution_count": 12,
   "metadata": {},
   "outputs": [],
   "source": [
    "train.to_csv(\"split/train.csv\")\n",
    "dev.to_csv(\"split/dev.csv\")\n",
    "test.to_csv(\"split/test.csv\")"
   ]
  },
  {
   "cell_type": "code",
   "execution_count": 13,
   "metadata": {},
   "outputs": [
    {
     "data": {
      "text/plain": [
       "False    39038\n",
       "True     16530\n",
       "Name: is_parent, dtype: int64"
      ]
     },
     "execution_count": 13,
     "metadata": {},
     "output_type": "execute_result"
    }
   ],
   "source": [
    "train[\"is_parent\"].value_counts()"
   ]
  },
  {
   "cell_type": "code",
   "execution_count": 14,
   "metadata": {},
   "outputs": [
    {
     "data": {
      "text/plain": [
       "False    11153\n",
       "True      4723\n",
       "Name: is_parent, dtype: int64"
      ]
     },
     "execution_count": 14,
     "metadata": {},
     "output_type": "execute_result"
    }
   ],
   "source": [
    "dev[\"is_parent\"].value_counts()"
   ]
  },
  {
   "cell_type": "code",
   "execution_count": 15,
   "metadata": {},
   "outputs": [
    {
     "data": {
      "text/plain": [
       "False    5577\n",
       "True     2362\n",
       "Name: is_parent, dtype: int64"
      ]
     },
     "execution_count": 15,
     "metadata": {},
     "output_type": "execute_result"
    }
   ],
   "source": [
    "test[\"is_parent\"].value_counts()"
   ]
  },
  {
   "cell_type": "markdown",
   "metadata": {},
   "source": [
    "### Now lets preprocess the unlabeled test set in order to use it as corpus for more words and prepare it for input in the models"
   ]
  },
  {
   "cell_type": "code",
   "execution_count": 21,
   "metadata": {},
   "outputs": [
    {
     "data": {
      "text/plain": [
       "(18002, 7)"
      ]
     },
     "execution_count": 21,
     "metadata": {},
     "output_type": "execute_result"
    }
   ],
   "source": [
    "onto_test = pd.read_csv(\"data/test-labeled.csv\")\n",
    "onto_test.drop_duplicates(inplace=True)\n",
    "onto_test.shape"
   ]
  },
  {
   "cell_type": "code",
   "execution_count": 22,
   "metadata": {},
   "outputs": [
    {
     "data": {
      "text/html": [
       "<div>\n",
       "<style scoped>\n",
       "    .dataframe tbody tr th:only-of-type {\n",
       "        vertical-align: middle;\n",
       "    }\n",
       "\n",
       "    .dataframe tbody tr th {\n",
       "        vertical-align: top;\n",
       "    }\n",
       "\n",
       "    .dataframe thead th {\n",
       "        text-align: right;\n",
       "    }\n",
       "</style>\n",
       "<table border=\"1\" class=\"dataframe\">\n",
       "  <thead>\n",
       "    <tr style=\"text-align: right;\">\n",
       "      <th></th>\n",
       "      <th>entity1ID</th>\n",
       "      <th>entity2ID</th>\n",
       "      <th>label1</th>\n",
       "      <th>label2</th>\n",
       "      <th>relation</th>\n",
       "      <th>snippet</th>\n",
       "      <th>relation.1</th>\n",
       "    </tr>\n",
       "  </thead>\n",
       "  <tbody>\n",
       "    <tr>\n",
       "      <th>0</th>\n",
       "      <td>497</td>\n",
       "      <td>494</td>\n",
       "      <td>Ford_Motor_Company</td>\n",
       "      <td>Holden</td>\n",
       "      <td>NaN</td>\n",
       "      <td>95s to top the sheets ahead of Kiwi Fabian Cou...</td>\n",
       "      <td>False</td>\n",
       "    </tr>\n",
       "    <tr>\n",
       "      <th>2</th>\n",
       "      <td>188</td>\n",
       "      <td>244</td>\n",
       "      <td>Apple_Inc.</td>\n",
       "      <td>HBO</td>\n",
       "      <td>NaN</td>\n",
       "      <td>\\nGamers who want to access HBO Now on the Xbo...</td>\n",
       "      <td>False</td>\n",
       "    </tr>\n",
       "    <tr>\n",
       "      <th>3</th>\n",
       "      <td>188</td>\n",
       "      <td>244</td>\n",
       "      <td>Apple_Inc.</td>\n",
       "      <td>HBO</td>\n",
       "      <td>NaN</td>\n",
       "      <td>\\nHBO first launched its standalone subscripti...</td>\n",
       "      <td>False</td>\n",
       "    </tr>\n",
       "    <tr>\n",
       "      <th>5</th>\n",
       "      <td>456</td>\n",
       "      <td>314</td>\n",
       "      <td>Google</td>\n",
       "      <td>Verizon_Communications</td>\n",
       "      <td>NaN</td>\n",
       "      <td>\\nGoogle's business immediately took a hit : p...</td>\n",
       "      <td>False</td>\n",
       "    </tr>\n",
       "    <tr>\n",
       "      <th>6</th>\n",
       "      <td>522</td>\n",
       "      <td>178</td>\n",
       "      <td>Twitter</td>\n",
       "      <td>Beats_Electronics</td>\n",
       "      <td>NaN</td>\n",
       "      <td>His endorsement list ain't bad either, includ...</td>\n",
       "      <td>False</td>\n",
       "    </tr>\n",
       "  </tbody>\n",
       "</table>\n",
       "</div>"
      ],
      "text/plain": [
       "   entity1ID  entity2ID              label1                  label2  relation  \\\n",
       "0        497        494  Ford_Motor_Company                  Holden       NaN   \n",
       "2        188        244          Apple_Inc.                     HBO       NaN   \n",
       "3        188        244          Apple_Inc.                     HBO       NaN   \n",
       "5        456        314              Google  Verizon_Communications       NaN   \n",
       "6        522        178             Twitter       Beats_Electronics       NaN   \n",
       "\n",
       "                                             snippet  relation.1  \n",
       "0  95s to top the sheets ahead of Kiwi Fabian Cou...       False  \n",
       "2  \\nGamers who want to access HBO Now on the Xbo...       False  \n",
       "3  \\nHBO first launched its standalone subscripti...       False  \n",
       "5  \\nGoogle's business immediately took a hit : p...       False  \n",
       "6   His endorsement list ain't bad either, includ...       False  "
      ]
     },
     "execution_count": 22,
     "metadata": {},
     "output_type": "execute_result"
    }
   ],
   "source": [
    "onto_test.head()"
   ]
  },
  {
   "cell_type": "code",
   "execution_count": 23,
   "metadata": {},
   "outputs": [],
   "source": [
    "onto_test[\"company1\"] = onto_test[\"label1\"]\n",
    "onto_test[\"company2\"] = onto_test[\"label2\"]\n",
    "onto_test[\"is_parent\"] = onto_test[\"relation.1\"]"
   ]
  },
  {
   "cell_type": "code",
   "execution_count": 28,
   "metadata": {},
   "outputs": [
    {
     "data": {
      "text/plain": [
       "Series([], Name: relation, dtype: int64)"
      ]
     },
     "execution_count": 28,
     "metadata": {},
     "output_type": "execute_result"
    }
   ],
   "source": [
    "onto_test[\"relation\"].value_counts()"
   ]
  },
  {
   "cell_type": "code",
   "execution_count": 25,
   "metadata": {},
   "outputs": [
    {
     "name": "stdout",
     "output_type": "stream",
     "text": [
      "Companies shape (279,)\n"
     ]
    },
    {
     "data": {
      "text/html": [
       "<div>\n",
       "<style scoped>\n",
       "    .dataframe tbody tr th:only-of-type {\n",
       "        vertical-align: middle;\n",
       "    }\n",
       "\n",
       "    .dataframe tbody tr th {\n",
       "        vertical-align: top;\n",
       "    }\n",
       "\n",
       "    .dataframe thead th {\n",
       "        text-align: right;\n",
       "    }\n",
       "</style>\n",
       "<table border=\"1\" class=\"dataframe\">\n",
       "  <thead>\n",
       "    <tr style=\"text-align: right;\">\n",
       "      <th></th>\n",
       "      <th>entity1ID</th>\n",
       "      <th>entity2ID</th>\n",
       "      <th>label1</th>\n",
       "      <th>label2</th>\n",
       "      <th>relation</th>\n",
       "      <th>snippet</th>\n",
       "      <th>relation.1</th>\n",
       "      <th>company1</th>\n",
       "      <th>company2</th>\n",
       "      <th>is_parent</th>\n",
       "      <th>aliased_snippet</th>\n",
       "    </tr>\n",
       "  </thead>\n",
       "  <tbody>\n",
       "    <tr>\n",
       "      <th>0</th>\n",
       "      <td>497</td>\n",
       "      <td>494</td>\n",
       "      <td>Ford_Motor_Company</td>\n",
       "      <td>Holden</td>\n",
       "      <td>NaN</td>\n",
       "      <td>95s to top the sheets ahead of Kiwi Fabian Cou...</td>\n",
       "      <td>False</td>\n",
       "      <td>Ford_Motor_Company</td>\n",
       "      <td>Holden</td>\n",
       "      <td>False</td>\n",
       "      <td>95s to top the sheets ahead of kiwi fabian cou...</td>\n",
       "    </tr>\n",
       "    <tr>\n",
       "      <th>2</th>\n",
       "      <td>188</td>\n",
       "      <td>244</td>\n",
       "      <td>Apple_Inc.</td>\n",
       "      <td>HBO</td>\n",
       "      <td>NaN</td>\n",
       "      <td>\\nGamers who want to access HBO Now on the Xbo...</td>\n",
       "      <td>False</td>\n",
       "      <td>Apple_Inc.</td>\n",
       "      <td>HBO</td>\n",
       "      <td>False</td>\n",
       "      <td>gamers who want to access   company2   now on...</td>\n",
       "    </tr>\n",
       "    <tr>\n",
       "      <th>3</th>\n",
       "      <td>188</td>\n",
       "      <td>244</td>\n",
       "      <td>Apple_Inc.</td>\n",
       "      <td>HBO</td>\n",
       "      <td>NaN</td>\n",
       "      <td>\\nHBO first launched its standalone subscripti...</td>\n",
       "      <td>False</td>\n",
       "      <td>Apple_Inc.</td>\n",
       "      <td>HBO</td>\n",
       "      <td>False</td>\n",
       "      <td>company2   first launched its standalone su...</td>\n",
       "    </tr>\n",
       "    <tr>\n",
       "      <th>5</th>\n",
       "      <td>456</td>\n",
       "      <td>314</td>\n",
       "      <td>Google</td>\n",
       "      <td>Verizon_Communications</td>\n",
       "      <td>NaN</td>\n",
       "      <td>\\nGoogle's business immediately took a hit : p...</td>\n",
       "      <td>False</td>\n",
       "      <td>Google</td>\n",
       "      <td>Verizon_Communications</td>\n",
       "      <td>False</td>\n",
       "      <td>company1  's business immediately took a hi...</td>\n",
       "    </tr>\n",
       "    <tr>\n",
       "      <th>6</th>\n",
       "      <td>522</td>\n",
       "      <td>178</td>\n",
       "      <td>Twitter</td>\n",
       "      <td>Beats_Electronics</td>\n",
       "      <td>NaN</td>\n",
       "      <td>His endorsement list ain't bad either, includ...</td>\n",
       "      <td>False</td>\n",
       "      <td>Twitter</td>\n",
       "      <td>Beats_Electronics</td>\n",
       "      <td>False</td>\n",
       "      <td>his endorsement list ain't bad either, includ...</td>\n",
       "    </tr>\n",
       "  </tbody>\n",
       "</table>\n",
       "</div>"
      ],
      "text/plain": [
       "   entity1ID  entity2ID              label1                  label2  relation  \\\n",
       "0        497        494  Ford_Motor_Company                  Holden       NaN   \n",
       "2        188        244          Apple_Inc.                     HBO       NaN   \n",
       "3        188        244          Apple_Inc.                     HBO       NaN   \n",
       "5        456        314              Google  Verizon_Communications       NaN   \n",
       "6        522        178             Twitter       Beats_Electronics       NaN   \n",
       "\n",
       "                                             snippet  relation.1  \\\n",
       "0  95s to top the sheets ahead of Kiwi Fabian Cou...       False   \n",
       "2  \\nGamers who want to access HBO Now on the Xbo...       False   \n",
       "3  \\nHBO first launched its standalone subscripti...       False   \n",
       "5  \\nGoogle's business immediately took a hit : p...       False   \n",
       "6   His endorsement list ain't bad either, includ...       False   \n",
       "\n",
       "             company1                company2  is_parent  \\\n",
       "0  Ford_Motor_Company                  Holden      False   \n",
       "2          Apple_Inc.                     HBO      False   \n",
       "3          Apple_Inc.                     HBO      False   \n",
       "5              Google  Verizon_Communications      False   \n",
       "6             Twitter       Beats_Electronics      False   \n",
       "\n",
       "                                     aliased_snippet  \n",
       "0  95s to top the sheets ahead of kiwi fabian cou...  \n",
       "2   gamers who want to access   company2   now on...  \n",
       "3     company2   first launched its standalone su...  \n",
       "5     company1  's business immediately took a hi...  \n",
       "6   his endorsement list ain't bad either, includ...  "
      ]
     },
     "execution_count": 25,
     "metadata": {},
     "output_type": "execute_result"
    }
   ],
   "source": [
    "onto_test = preprocess(onto_test)\n",
    "onto_test.head()"
   ]
  },
  {
   "cell_type": "code",
   "execution_count": 19,
   "metadata": {},
   "outputs": [
    {
     "name": "stdout",
     "output_type": "stream",
     "text": [
      "mkdir: cannot create directory ‘processed’: File exists\r\n"
     ]
    }
   ],
   "source": [
    "%mkdir processed"
   ]
  },
  {
   "cell_type": "code",
   "execution_count": 26,
   "metadata": {},
   "outputs": [],
   "source": [
    "onto_test.to_csv(\"processed/test.csv\", index_label=False)"
   ]
  }
 ],
 "metadata": {
  "kernelspec": {
   "display_name": "Python 3",
   "language": "python",
   "name": "python3"
  },
  "language_info": {
   "codemirror_mode": {
    "name": "ipython",
    "version": 3
   },
   "file_extension": ".py",
   "mimetype": "text/x-python",
   "name": "python",
   "nbconvert_exporter": "python",
   "pygments_lexer": "ipython3",
   "version": "3.5.2"
  }
 },
 "nbformat": 4,
 "nbformat_minor": 2
}
