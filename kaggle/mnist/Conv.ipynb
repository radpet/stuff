{
 "cells": [
  {
   "cell_type": "code",
   "execution_count": 36,
   "metadata": {},
   "outputs": [],
   "source": [
    "from util import load_dataset\n",
    "import numpy as np"
   ]
  },
  {
   "cell_type": "code",
   "execution_count": 42,
   "metadata": {},
   "outputs": [],
   "source": [
    "train, labels = load_dataset('./data/train.csv')"
   ]
  },
  {
   "cell_type": "code",
   "execution_count": 20,
   "metadata": {},
   "outputs": [],
   "source": [
    "from keras.layers import Dense, Convolution2D, MaxPooling2D, AveragePooling2D, Input, Concatenate, Flatten, Dropout\n",
    "from keras.models import Model"
   ]
  },
  {
   "cell_type": "code",
   "execution_count": 44,
   "metadata": {},
   "outputs": [
    {
     "data": {
      "text/plain": [
       "(42000, 28, 28, 1)"
      ]
     },
     "execution_count": 44,
     "metadata": {},
     "output_type": "execute_result"
    }
   ],
   "source": [
    "train = train[:,:,:,np.newaxis]\n",
    "train.shape"
   ]
  },
  {
   "cell_type": "code",
   "execution_count": 88,
   "metadata": {},
   "outputs": [],
   "source": [
    "def get_model():\n",
    "    inp = Input(shape=(28,28,1))\n",
    "    \n",
    "    x_1 = Convolution2D(filters=32, kernel_size=(3,3), activation='relu', padding='same')(inp)\n",
    "    x_1 = Convolution2D(filters=64, kernel_size=(5,5), activation='relu', padding='same')(x_1)\n",
    "    x_1 = AveragePooling2D(pool_size=(2, 2))(x_1)\n",
    "    x_1 = Convolution2D(filters=128, kernel_size=(3,3), activation='relu', padding='same')(x_1)\n",
    "    x_1 = MaxPooling2D(pool_size=(3, 3))(x_1)\n",
    "    x_1 = Dropout(0.3)(x_1)\n",
    "    x_1 = Flatten()(x_1)\n",
    "    \n",
    "    \n",
    "    x_2 = Convolution2D(filters=32, kernel_size=(3, 3),activation='relu')(inp)\n",
    "    x_2 = Convolution2D(filters=64, kernel_size=(3, 3), activation='relu')(x_2)\n",
    "    x_2 = MaxPooling2D(pool_size=(2, 2))(x_2)\n",
    "    x_2=Dropout(0.4)(x_2)\n",
    "    x_2=Flatten()(x_2)\n",
    "    \n",
    "    x = Concatenate()([x_1, x_2])\n",
    "    \n",
    "    x=Dense(200, activation='relu')(x)\n",
    "    x=Dropout(0.5)(x)\n",
    "    \n",
    "    out = Dense(10, activation='softmax')(x)\n",
    "    model = Model(inputs = inp, outputs = out)\n",
    "    \n",
    "    model.summary()\n",
    "    \n",
    "    model.compile(optimizer='adam', loss='sparse_categorical_crossentropy', metrics=['acc'])\n",
    "    return model"
   ]
  },
  {
   "cell_type": "code",
   "execution_count": 89,
   "metadata": {},
   "outputs": [
    {
     "name": "stdout",
     "output_type": "stream",
     "text": [
      "__________________________________________________________________________________________________\n",
      "Layer (type)                    Output Shape         Param #     Connected to                     \n",
      "==================================================================================================\n",
      "input_14 (InputLayer)           (None, 28, 28, 1)    0                                            \n",
      "__________________________________________________________________________________________________\n",
      "conv2d_44 (Conv2D)              (None, 28, 28, 32)   320         input_14[0][0]                   \n",
      "__________________________________________________________________________________________________\n",
      "conv2d_45 (Conv2D)              (None, 28, 28, 64)   51264       conv2d_44[0][0]                  \n",
      "__________________________________________________________________________________________________\n",
      "average_pooling2d_11 (AveragePo (None, 14, 14, 64)   0           conv2d_45[0][0]                  \n",
      "__________________________________________________________________________________________________\n",
      "conv2d_47 (Conv2D)              (None, 26, 26, 32)   320         input_14[0][0]                   \n",
      "__________________________________________________________________________________________________\n",
      "conv2d_46 (Conv2D)              (None, 14, 14, 128)  73856       average_pooling2d_11[0][0]       \n",
      "__________________________________________________________________________________________________\n",
      "conv2d_48 (Conv2D)              (None, 24, 24, 64)   18496       conv2d_47[0][0]                  \n",
      "__________________________________________________________________________________________________\n",
      "max_pooling2d_11 (MaxPooling2D) (None, 4, 4, 128)    0           conv2d_46[0][0]                  \n",
      "__________________________________________________________________________________________________\n",
      "max_pooling2d_12 (MaxPooling2D) (None, 12, 12, 64)   0           conv2d_48[0][0]                  \n",
      "__________________________________________________________________________________________________\n",
      "dropout_25 (Dropout)            (None, 4, 4, 128)    0           max_pooling2d_11[0][0]           \n",
      "__________________________________________________________________________________________________\n",
      "dropout_26 (Dropout)            (None, 12, 12, 64)   0           max_pooling2d_12[0][0]           \n",
      "__________________________________________________________________________________________________\n",
      "flatten_19 (Flatten)            (None, 2048)         0           dropout_25[0][0]                 \n",
      "__________________________________________________________________________________________________\n",
      "flatten_20 (Flatten)            (None, 9216)         0           dropout_26[0][0]                 \n",
      "__________________________________________________________________________________________________\n",
      "concatenate_10 (Concatenate)    (None, 11264)        0           flatten_19[0][0]                 \n",
      "                                                                 flatten_20[0][0]                 \n",
      "__________________________________________________________________________________________________\n",
      "dense_14 (Dense)                (None, 200)          2253000     concatenate_10[0][0]             \n",
      "__________________________________________________________________________________________________\n",
      "dropout_27 (Dropout)            (None, 200)          0           dense_14[0][0]                   \n",
      "__________________________________________________________________________________________________\n",
      "dense_15 (Dense)                (None, 10)           2010        dropout_27[0][0]                 \n",
      "==================================================================================================\n",
      "Total params: 2,399,266\n",
      "Trainable params: 2,399,266\n",
      "Non-trainable params: 0\n",
      "__________________________________________________________________________________________________\n"
     ]
    }
   ],
   "source": [
    "model = get_model()"
   ]
  },
  {
   "cell_type": "code",
   "execution_count": 90,
   "metadata": {},
   "outputs": [],
   "source": [
    "from sklearn.model_selection import train_test_split"
   ]
  },
  {
   "cell_type": "code",
   "execution_count": 91,
   "metadata": {},
   "outputs": [
    {
     "name": "stderr",
     "output_type": "stream",
     "text": [
      "/usr/local/lib/python3.5/dist-packages/sklearn/model_selection/_split.py:2010: FutureWarning: From version 0.21, test_size will always complement train_size unless both are specified.\n",
      "  FutureWarning)\n"
     ]
    }
   ],
   "source": [
    "train_x, val_x, train_y, val_y = train_test_split(train, labels, stratify=labels, train_size=0.9, random_state=12345)"
   ]
  },
  {
   "cell_type": "code",
   "execution_count": 92,
   "metadata": {
    "scrolled": false
   },
   "outputs": [
    {
     "name": "stdout",
     "output_type": "stream",
     "text": [
      "Train on 37800 samples, validate on 4200 samples\n",
      "Epoch 1/20\n",
      "37800/37800 [==============================] - 14s 359us/step - loss: 0.1813 - acc: 0.9440 - val_loss: 0.0918 - val_acc: 0.9733\n",
      "Epoch 2/20\n",
      "37800/37800 [==============================] - 13s 340us/step - loss: 0.0709 - acc: 0.9789 - val_loss: 0.0440 - val_acc: 0.9860\n",
      "Epoch 3/20\n",
      "37800/37800 [==============================] - 13s 343us/step - loss: 0.0506 - acc: 0.9843 - val_loss: 0.0478 - val_acc: 0.9848\n",
      "Epoch 4/20\n",
      "37800/37800 [==============================] - 13s 340us/step - loss: 0.0431 - acc: 0.9869 - val_loss: 0.0470 - val_acc: 0.9852\n",
      "Epoch 5/20\n",
      "37800/37800 [==============================] - 13s 340us/step - loss: 0.0365 - acc: 0.9888 - val_loss: 0.0469 - val_acc: 0.9874\n",
      "Epoch 6/20\n",
      "37800/37800 [==============================] - 13s 341us/step - loss: 0.0316 - acc: 0.9904 - val_loss: 0.0378 - val_acc: 0.9879\n",
      "Epoch 7/20\n",
      "37800/37800 [==============================] - 13s 343us/step - loss: 0.0281 - acc: 0.9908 - val_loss: 0.0484 - val_acc: 0.9883\n",
      "Epoch 8/20\n",
      "37800/37800 [==============================] - 13s 342us/step - loss: 0.0240 - acc: 0.9925 - val_loss: 0.0374 - val_acc: 0.9910\n",
      "Epoch 9/20\n",
      "37800/37800 [==============================] - 13s 340us/step - loss: 0.0219 - acc: 0.9933 - val_loss: 0.0368 - val_acc: 0.9905\n",
      "Epoch 10/20\n",
      "37800/37800 [==============================] - 13s 341us/step - loss: 0.0214 - acc: 0.9937 - val_loss: 0.0419 - val_acc: 0.9883\n",
      "Epoch 11/20\n",
      "37800/37800 [==============================] - 13s 343us/step - loss: 0.0185 - acc: 0.9946 - val_loss: 0.0528 - val_acc: 0.9869\n",
      "Epoch 12/20\n",
      "37800/37800 [==============================] - 13s 342us/step - loss: 0.0179 - acc: 0.9943 - val_loss: 0.0458 - val_acc: 0.9890\n",
      "Epoch 13/20\n",
      "37800/37800 [==============================] - 13s 344us/step - loss: 0.0176 - acc: 0.9944 - val_loss: 0.0432 - val_acc: 0.9893\n",
      "Epoch 14/20\n",
      "37800/37800 [==============================] - 13s 342us/step - loss: 0.0139 - acc: 0.9955 - val_loss: 0.0436 - val_acc: 0.9907\n",
      "Epoch 15/20\n",
      "37800/37800 [==============================] - 13s 343us/step - loss: 0.0135 - acc: 0.9958 - val_loss: 0.0470 - val_acc: 0.9910\n",
      "Epoch 16/20\n",
      "37800/37800 [==============================] - 13s 348us/step - loss: 0.0140 - acc: 0.9957 - val_loss: 0.0483 - val_acc: 0.9902\n",
      "Epoch 17/20\n",
      "37800/37800 [==============================] - 13s 343us/step - loss: 0.0154 - acc: 0.9951 - val_loss: 0.0474 - val_acc: 0.9900\n",
      "Epoch 18/20\n",
      "37800/37800 [==============================] - 13s 343us/step - loss: 0.0126 - acc: 0.9960 - val_loss: 0.0545 - val_acc: 0.9890\n",
      "Epoch 19/20\n",
      "37800/37800 [==============================] - 13s 343us/step - loss: 0.0119 - acc: 0.9963 - val_loss: 0.0520 - val_acc: 0.9886\n",
      "Epoch 20/20\n",
      "37800/37800 [==============================] - 13s 345us/step - loss: 0.0115 - acc: 0.9965 - val_loss: 0.0627 - val_acc: 0.9879\n"
     ]
    },
    {
     "data": {
      "text/plain": [
       "<keras.callbacks.History at 0x7f86600f3c18>"
      ]
     },
     "execution_count": 92,
     "metadata": {},
     "output_type": "execute_result"
    }
   ],
   "source": [
    "model.fit(train_x, train_y,\n",
    "                    validation_data=(val_x, val_y),\n",
    "                    epochs=20)"
   ]
  },
  {
   "cell_type": "code",
   "execution_count": 64,
   "metadata": {},
   "outputs": [],
   "source": [
    "import pandas as pd"
   ]
  },
  {
   "cell_type": "code",
   "execution_count": 93,
   "metadata": {},
   "outputs": [],
   "source": [
    "test_pd = pd.read_csv('./data/test.csv')\n",
    "\n",
    "test = test_pd.values.reshape((test_pd.shape[0],28,28,1))"
   ]
  },
  {
   "cell_type": "code",
   "execution_count": 94,
   "metadata": {},
   "outputs": [
    {
     "data": {
      "text/plain": [
       "(28000, 28, 28, 1)"
      ]
     },
     "execution_count": 94,
     "metadata": {},
     "output_type": "execute_result"
    }
   ],
   "source": [
    "test.shape"
   ]
  },
  {
   "cell_type": "code",
   "execution_count": 95,
   "metadata": {},
   "outputs": [],
   "source": [
    "preds = model.predict(test)"
   ]
  },
  {
   "cell_type": "code",
   "execution_count": 96,
   "metadata": {},
   "outputs": [],
   "source": [
    "preds_val = np.argmax(preds, axis=1)"
   ]
  },
  {
   "cell_type": "code",
   "execution_count": 97,
   "metadata": {},
   "outputs": [
    {
     "data": {
      "text/html": [
       "<div>\n",
       "<table border=\"1\" class=\"dataframe\">\n",
       "  <thead>\n",
       "    <tr style=\"text-align: right;\">\n",
       "      <th></th>\n",
       "      <th>ImageId</th>\n",
       "      <th>Label</th>\n",
       "    </tr>\n",
       "  </thead>\n",
       "  <tbody>\n",
       "    <tr>\n",
       "      <th>0</th>\n",
       "      <td>1</td>\n",
       "      <td>2</td>\n",
       "    </tr>\n",
       "    <tr>\n",
       "      <th>1</th>\n",
       "      <td>2</td>\n",
       "      <td>0</td>\n",
       "    </tr>\n",
       "    <tr>\n",
       "      <th>2</th>\n",
       "      <td>3</td>\n",
       "      <td>9</td>\n",
       "    </tr>\n",
       "    <tr>\n",
       "      <th>3</th>\n",
       "      <td>4</td>\n",
       "      <td>0</td>\n",
       "    </tr>\n",
       "    <tr>\n",
       "      <th>4</th>\n",
       "      <td>5</td>\n",
       "      <td>3</td>\n",
       "    </tr>\n",
       "  </tbody>\n",
       "</table>\n",
       "</div>"
      ],
      "text/plain": [
       "   ImageId  Label\n",
       "0        1      2\n",
       "1        2      0\n",
       "2        3      9\n",
       "3        4      0\n",
       "4        5      3"
      ]
     },
     "execution_count": 97,
     "metadata": {},
     "output_type": "execute_result"
    }
   ],
   "source": [
    "subm = pd.read_csv('./data/sample_submission.csv')\n",
    "subm['Label']=preds_val\n",
    "subm.head()"
   ]
  },
  {
   "cell_type": "code",
   "execution_count": 98,
   "metadata": {},
   "outputs": [],
   "source": [
    "subm.to_csv('submissions/conv.csv', index=False)"
   ]
  }
 ],
 "metadata": {
  "kernelspec": {
   "display_name": "Python 3",
   "language": "python",
   "name": "python3"
  },
  "language_info": {
   "codemirror_mode": {
    "name": "ipython",
    "version": 3
   },
   "file_extension": ".py",
   "mimetype": "text/x-python",
   "name": "python",
   "nbconvert_exporter": "python",
   "pygments_lexer": "ipython3",
   "version": "3.5.2"
  }
 },
 "nbformat": 4,
 "nbformat_minor": 2
}
