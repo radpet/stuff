{
 "cells": [
  {
   "cell_type": "code",
   "execution_count": 1,
   "metadata": {},
   "outputs": [],
   "source": [
    "import pandas as pd"
   ]
  },
  {
   "cell_type": "code",
   "execution_count": 2,
   "metadata": {},
   "outputs": [],
   "source": [
    "logistic = pd.read_csv('./submission-tmp/submission_tf_nb.csv')\n",
    "pooled_gru = pd.read_csv('./submission-tmp/pooled_gru_fastext.csv')\n",
    "att_gru = pd.read_csv('./submission-tmp/att_gru_fastext.csv')"
   ]
  },
  {
   "cell_type": "code",
   "execution_count": 3,
   "metadata": {},
   "outputs": [],
   "source": [
    "from util import labels"
   ]
  },
  {
   "cell_type": "code",
   "execution_count": 4,
   "metadata": {},
   "outputs": [],
   "source": [
    "subm = pd.DataFrame(columns=labels, index=logistic['id'])"
   ]
  },
  {
   "cell_type": "code",
   "execution_count": 12,
   "metadata": {},
   "outputs": [],
   "source": [
    "for label in labels:\n",
    "    subm[label] = 0.20*logistic[label].values + 0.40*pooled_gru[label].values + 0.40*att_gru[label].values"
   ]
  },
  {
   "cell_type": "code",
   "execution_count": 13,
   "metadata": {},
   "outputs": [
    {
     "data": {
      "text/html": [
       "<div>\n",
       "<table border=\"1\" class=\"dataframe\">\n",
       "  <thead>\n",
       "    <tr style=\"text-align: right;\">\n",
       "      <th></th>\n",
       "      <th>toxic</th>\n",
       "      <th>severe_toxic</th>\n",
       "      <th>obscene</th>\n",
       "      <th>threat</th>\n",
       "      <th>insult</th>\n",
       "      <th>identity_hate</th>\n",
       "    </tr>\n",
       "    <tr>\n",
       "      <th>id</th>\n",
       "      <th></th>\n",
       "      <th></th>\n",
       "      <th></th>\n",
       "      <th></th>\n",
       "      <th></th>\n",
       "      <th></th>\n",
       "    </tr>\n",
       "  </thead>\n",
       "  <tbody>\n",
       "    <tr>\n",
       "      <th>00001cee341fdb12</th>\n",
       "      <td>0.996042</td>\n",
       "      <td>0.350125</td>\n",
       "      <td>0.988691</td>\n",
       "      <td>0.102223</td>\n",
       "      <td>0.956629</td>\n",
       "      <td>0.277553</td>\n",
       "    </tr>\n",
       "    <tr>\n",
       "      <th>0000247867823ef7</th>\n",
       "      <td>0.000637</td>\n",
       "      <td>0.000078</td>\n",
       "      <td>0.000269</td>\n",
       "      <td>0.000025</td>\n",
       "      <td>0.000515</td>\n",
       "      <td>0.000089</td>\n",
       "    </tr>\n",
       "    <tr>\n",
       "      <th>00013b17ad220c46</th>\n",
       "      <td>0.002101</td>\n",
       "      <td>0.000145</td>\n",
       "      <td>0.000651</td>\n",
       "      <td>0.000040</td>\n",
       "      <td>0.000783</td>\n",
       "      <td>0.000109</td>\n",
       "    </tr>\n",
       "    <tr>\n",
       "      <th>00017563c3f7919a</th>\n",
       "      <td>0.000744</td>\n",
       "      <td>0.000065</td>\n",
       "      <td>0.000433</td>\n",
       "      <td>0.000066</td>\n",
       "      <td>0.000470</td>\n",
       "      <td>0.000064</td>\n",
       "    </tr>\n",
       "    <tr>\n",
       "      <th>00017695ad8997eb</th>\n",
       "      <td>0.004896</td>\n",
       "      <td>0.000140</td>\n",
       "      <td>0.000777</td>\n",
       "      <td>0.000052</td>\n",
       "      <td>0.000679</td>\n",
       "      <td>0.000085</td>\n",
       "    </tr>\n",
       "  </tbody>\n",
       "</table>\n",
       "</div>"
      ],
      "text/plain": [
       "                     toxic  severe_toxic   obscene    threat    insult  \\\n",
       "id                                                                       \n",
       "00001cee341fdb12  0.996042      0.350125  0.988691  0.102223  0.956629   \n",
       "0000247867823ef7  0.000637      0.000078  0.000269  0.000025  0.000515   \n",
       "00013b17ad220c46  0.002101      0.000145  0.000651  0.000040  0.000783   \n",
       "00017563c3f7919a  0.000744      0.000065  0.000433  0.000066  0.000470   \n",
       "00017695ad8997eb  0.004896      0.000140  0.000777  0.000052  0.000679   \n",
       "\n",
       "                  identity_hate  \n",
       "id                               \n",
       "00001cee341fdb12       0.277553  \n",
       "0000247867823ef7       0.000089  \n",
       "00013b17ad220c46       0.000109  \n",
       "00017563c3f7919a       0.000064  \n",
       "00017695ad8997eb       0.000085  "
      ]
     },
     "execution_count": 13,
     "metadata": {},
     "output_type": "execute_result"
    }
   ],
   "source": [
    "subm.head()"
   ]
  },
  {
   "cell_type": "code",
   "execution_count": 14,
   "metadata": {},
   "outputs": [],
   "source": [
    "subm.to_csv('./submission-tmp/subm_stack.csv')"
   ]
  },
  {
   "cell_type": "code",
   "execution_count": null,
   "metadata": {},
   "outputs": [],
   "source": []
  }
 ],
 "metadata": {
  "kernelspec": {
   "display_name": "Python 3",
   "language": "python",
   "name": "python3"
  },
  "language_info": {
   "codemirror_mode": {
    "name": "ipython",
    "version": 3
   },
   "file_extension": ".py",
   "mimetype": "text/x-python",
   "name": "python",
   "nbconvert_exporter": "python",
   "pygments_lexer": "ipython3",
   "version": "3.5.2"
  }
 },
 "nbformat": 4,
 "nbformat_minor": 2
}
