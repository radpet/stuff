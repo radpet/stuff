{
 "cells": [
  {
   "cell_type": "code",
   "execution_count": 1,
   "metadata": {},
   "outputs": [],
   "source": [
    "import pandas as pd"
   ]
  },
  {
   "cell_type": "code",
   "execution_count": 3,
   "metadata": {},
   "outputs": [],
   "source": [
    "train = pd.read_csv('./data/train_cleaned.csv')\n",
    "test = pd.read_csv('./data/test_cleaned.csv')"
   ]
  },
  {
   "cell_type": "code",
   "execution_count": 4,
   "metadata": {},
   "outputs": [],
   "source": [
    "embedd_dim = 300\n",
    "embedd_file = '/media/radoslav/ce763dbf-b2a6-4110-960f-2ef10c8c6bde/MachineLearning/crawl-300d-2M.vec'\n",
    "max_features = 30000\n",
    "maxlen = 100"
   ]
  },
  {
   "cell_type": "code",
   "execution_count": 5,
   "metadata": {},
   "outputs": [],
   "source": [
    "from util import labels, RocAucEvaluation, AttentionWithContext, get_fastext_embedding"
   ]
  },
  {
   "cell_type": "code",
   "execution_count": 6,
   "metadata": {},
   "outputs": [],
   "source": [
    "from keras.preprocessing.text import Tokenizer\n",
    "from keras.preprocessing.sequence import pad_sequences"
   ]
  },
  {
   "cell_type": "code",
   "execution_count": 13,
   "metadata": {},
   "outputs": [],
   "source": [
    "tokenizer = Tokenizer(num_words=max_features)\n",
    "tokenizer.fit_on_texts(train['comment_text'].append(test['comment_text']))"
   ]
  },
  {
   "cell_type": "code",
   "execution_count": 11,
   "metadata": {},
   "outputs": [],
   "source": [
    "def get_features(comments):\n",
    "    seq = tokenizer.texts_to_sequences(comments)\n",
    "    seq = pad_sequences(seq, maxlen=maxlen)\n",
    "    return seq"
   ]
  },
  {
   "cell_type": "code",
   "execution_count": 14,
   "metadata": {},
   "outputs": [],
   "source": [
    "embedding_matrix = get_fastext_embedding(embed_file=embedd_file, embed_size=embedd_dim, max_features=max_features, word_index=tokenizer.word_index)"
   ]
  },
  {
   "cell_type": "code",
   "execution_count": 19,
   "metadata": {},
   "outputs": [],
   "source": [
    "from keras.layers import Input, Dense, CuDNNGRU, Bidirectional, SpatialDropout1D, Embedding\n",
    "from keras.models import Model"
   ]
  },
  {
   "cell_type": "code",
   "execution_count": 31,
   "metadata": {},
   "outputs": [],
   "source": [
    "def get_model():\n",
    "    inp = Input(shape=(maxlen,))\n",
    "    x = Embedding(max_features, embedd_dim, weights=[embedding_matrix], trainable=False)(inp)\n",
    "    x = SpatialDropout1D(0.2)(x)\n",
    "    x = Bidirectional(CuDNNGRU(100, return_sequences=True))(x)\n",
    "    x = AttentionWithContext()(x)\n",
    "    output = Dense(6, activation='sigmoid')(x)\n",
    "    \n",
    "    model = Model(inputs=inp, outputs=output)\n",
    "    model.summary()\n",
    "    model.compile(optimizer='adam', loss='binary_crossentropy', metrics=['accuracy'])\n",
    "    return model"
   ]
  },
  {
   "cell_type": "code",
   "execution_count": 35,
   "metadata": {},
   "outputs": [
    {
     "name": "stdout",
     "output_type": "stream",
     "text": [
      "_________________________________________________________________\n",
      "Layer (type)                 Output Shape              Param #   \n",
      "=================================================================\n",
      "input_4 (InputLayer)         (None, 100)               0         \n",
      "_________________________________________________________________\n",
      "embedding_4 (Embedding)      (None, 100, 300)          9000000   \n",
      "_________________________________________________________________\n",
      "spatial_dropout1d_4 (Spatial (None, 100, 300)          0         \n",
      "_________________________________________________________________\n",
      "bidirectional_4 (Bidirection (None, 100, 200)          241200    \n",
      "_________________________________________________________________\n",
      "attention_with_context_4 (At (None, 200)               40400     \n",
      "_________________________________________________________________\n",
      "dense_4 (Dense)              (None, 6)                 1206      \n",
      "=================================================================\n",
      "Total params: 9,282,806\n",
      "Trainable params: 282,806\n",
      "Non-trainable params: 9,000,000\n",
      "_________________________________________________________________\n"
     ]
    }
   ],
   "source": [
    "model = get_model()"
   ]
  },
  {
   "cell_type": "code",
   "execution_count": 22,
   "metadata": {},
   "outputs": [],
   "source": [
    "from sklearn.model_selection import train_test_split"
   ]
  },
  {
   "cell_type": "code",
   "execution_count": 23,
   "metadata": {},
   "outputs": [
    {
     "name": "stderr",
     "output_type": "stream",
     "text": [
      "/usr/local/lib/python3.5/dist-packages/sklearn/model_selection/_split.py:2010: FutureWarning: From version 0.21, test_size will always complement train_size unless both are specified.\n",
      "  FutureWarning)\n"
     ]
    }
   ],
   "source": [
    "train_fold, val_fold = train_test_split(train, train_size=0.90, random_state=12345)"
   ]
  },
  {
   "cell_type": "code",
   "execution_count": 24,
   "metadata": {},
   "outputs": [],
   "source": [
    "train_seq = get_features(train_fold['comment_text'])\n",
    "val_seq = get_features(val_fold['comment_text'])"
   ]
  },
  {
   "cell_type": "code",
   "execution_count": 25,
   "metadata": {},
   "outputs": [],
   "source": [
    "roc_auc = RocAucEvaluation(validation_data=(val_seq, val_fold[labels].values))"
   ]
  },
  {
   "cell_type": "code",
   "execution_count": 36,
   "metadata": {},
   "outputs": [
    {
     "name": "stdout",
     "output_type": "stream",
     "text": [
      "Train on 143613 samples, validate on 15958 samples\n",
      "Epoch 1/4\n",
      "143488/143613 [============================>.] - ETA: 0s - loss: 0.0540 - acc: 0.9810\n",
      " ROC-AUC - epoch: 1 - score: 0.985301 \n",
      "\n",
      "143613/143613 [==============================] - 58s 406us/step - loss: 0.0540 - acc: 0.9810 - val_loss: 0.0452 - val_acc: 0.9834\n",
      "Epoch 2/4\n",
      "143552/143613 [============================>.] - ETA: 0s - loss: 0.0443 - acc: 0.9832\n",
      " ROC-AUC - epoch: 2 - score: 0.985116 \n",
      "\n",
      "143613/143613 [==============================] - 57s 396us/step - loss: 0.0443 - acc: 0.9832 - val_loss: 0.0470 - val_acc: 0.9831\n",
      "Epoch 3/4\n",
      "143552/143613 [============================>.] - ETA: 0s - loss: 0.0418 - acc: 0.9840\n",
      " ROC-AUC - epoch: 3 - score: 0.986720 \n",
      "\n",
      "143613/143613 [==============================] - 57s 400us/step - loss: 0.0418 - acc: 0.9840 - val_loss: 0.0425 - val_acc: 0.9842\n",
      "Epoch 4/4\n",
      "143488/143613 [============================>.] - ETA: 0s - loss: 0.0400 - acc: 0.9846\n",
      " ROC-AUC - epoch: 4 - score: 0.987339 \n",
      "\n",
      "143613/143613 [==============================] - 57s 400us/step - loss: 0.0399 - acc: 0.9846 - val_loss: 0.0424 - val_acc: 0.9839\n"
     ]
    },
    {
     "data": {
      "text/plain": [
       "<keras.callbacks.History at 0x7f53eb135f98>"
      ]
     },
     "execution_count": 36,
     "metadata": {},
     "output_type": "execute_result"
    }
   ],
   "source": [
    "model.fit(train_seq, train_fold[labels].values, \n",
    "          validation_data=(val_seq, val_fold[labels].values),\n",
    "          batch_size=64,\n",
    "          epochs=4,\n",
    "          callbacks=[roc_auc]\n",
    "         )"
   ]
  },
  {
   "cell_type": "code",
   "execution_count": 37,
   "metadata": {},
   "outputs": [],
   "source": [
    "test_seq = get_features(test['comment_text'])"
   ]
  },
  {
   "cell_type": "code",
   "execution_count": 38,
   "metadata": {},
   "outputs": [],
   "source": [
    "preds = model.predict(test_seq)"
   ]
  },
  {
   "cell_type": "code",
   "execution_count": 39,
   "metadata": {},
   "outputs": [],
   "source": [
    "subm = pd.DataFrame(preds, columns=labels, index=test['id'])"
   ]
  },
  {
   "cell_type": "code",
   "execution_count": 40,
   "metadata": {},
   "outputs": [
    {
     "data": {
      "text/html": [
       "<div>\n",
       "<table border=\"1\" class=\"dataframe\">\n",
       "  <thead>\n",
       "    <tr style=\"text-align: right;\">\n",
       "      <th></th>\n",
       "      <th>toxic</th>\n",
       "      <th>severe_toxic</th>\n",
       "      <th>obscene</th>\n",
       "      <th>threat</th>\n",
       "      <th>insult</th>\n",
       "      <th>identity_hate</th>\n",
       "    </tr>\n",
       "    <tr>\n",
       "      <th>id</th>\n",
       "      <th></th>\n",
       "      <th></th>\n",
       "      <th></th>\n",
       "      <th></th>\n",
       "      <th></th>\n",
       "      <th></th>\n",
       "    </tr>\n",
       "  </thead>\n",
       "  <tbody>\n",
       "    <tr>\n",
       "      <th>00001cee341fdb12</th>\n",
       "      <td>0.993797</td>\n",
       "      <td>0.470241</td>\n",
       "      <td>0.983761</td>\n",
       "      <td>0.210092</td>\n",
       "      <td>0.937724</td>\n",
       "      <td>0.518181</td>\n",
       "    </tr>\n",
       "    <tr>\n",
       "      <th>0000247867823ef7</th>\n",
       "      <td>0.000411</td>\n",
       "      <td>0.000032</td>\n",
       "      <td>0.000108</td>\n",
       "      <td>0.000006</td>\n",
       "      <td>0.000138</td>\n",
       "      <td>0.000035</td>\n",
       "    </tr>\n",
       "    <tr>\n",
       "      <th>00013b17ad220c46</th>\n",
       "      <td>0.000125</td>\n",
       "      <td>0.000104</td>\n",
       "      <td>0.000115</td>\n",
       "      <td>0.000019</td>\n",
       "      <td>0.000117</td>\n",
       "      <td>0.000029</td>\n",
       "    </tr>\n",
       "    <tr>\n",
       "      <th>00017563c3f7919a</th>\n",
       "      <td>0.000725</td>\n",
       "      <td>0.000037</td>\n",
       "      <td>0.000272</td>\n",
       "      <td>0.000036</td>\n",
       "      <td>0.000286</td>\n",
       "      <td>0.000017</td>\n",
       "    </tr>\n",
       "    <tr>\n",
       "      <th>00017695ad8997eb</th>\n",
       "      <td>0.001608</td>\n",
       "      <td>0.000068</td>\n",
       "      <td>0.000461</td>\n",
       "      <td>0.000029</td>\n",
       "      <td>0.000121</td>\n",
       "      <td>0.000012</td>\n",
       "    </tr>\n",
       "  </tbody>\n",
       "</table>\n",
       "</div>"
      ],
      "text/plain": [
       "                     toxic  severe_toxic   obscene    threat    insult  \\\n",
       "id                                                                       \n",
       "00001cee341fdb12  0.993797      0.470241  0.983761  0.210092  0.937724   \n",
       "0000247867823ef7  0.000411      0.000032  0.000108  0.000006  0.000138   \n",
       "00013b17ad220c46  0.000125      0.000104  0.000115  0.000019  0.000117   \n",
       "00017563c3f7919a  0.000725      0.000037  0.000272  0.000036  0.000286   \n",
       "00017695ad8997eb  0.001608      0.000068  0.000461  0.000029  0.000121   \n",
       "\n",
       "                  identity_hate  \n",
       "id                               \n",
       "00001cee341fdb12       0.518181  \n",
       "0000247867823ef7       0.000035  \n",
       "00013b17ad220c46       0.000029  \n",
       "00017563c3f7919a       0.000017  \n",
       "00017695ad8997eb       0.000012  "
      ]
     },
     "execution_count": 40,
     "metadata": {},
     "output_type": "execute_result"
    }
   ],
   "source": [
    "subm.head()"
   ]
  },
  {
   "cell_type": "code",
   "execution_count": 43,
   "metadata": {},
   "outputs": [],
   "source": [
    "subm.to_csv('./submission-tmp/att_gru_fastext.csv')"
   ]
  },
  {
   "cell_type": "code",
   "execution_count": null,
   "metadata": {},
   "outputs": [],
   "source": []
  }
 ],
 "metadata": {
  "kernelspec": {
   "display_name": "Python 3",
   "language": "python",
   "name": "python3"
  },
  "language_info": {
   "codemirror_mode": {
    "name": "ipython",
    "version": 3
   },
   "file_extension": ".py",
   "mimetype": "text/x-python",
   "name": "python",
   "nbconvert_exporter": "python",
   "pygments_lexer": "ipython3",
   "version": "3.5.2"
  }
 },
 "nbformat": 4,
 "nbformat_minor": 2
}
