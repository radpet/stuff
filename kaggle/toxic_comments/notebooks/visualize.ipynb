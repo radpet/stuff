{
 "cells": [
  {
   "cell_type": "code",
   "execution_count": 1,
   "metadata": {},
   "outputs": [],
   "source": [
    "import pandas as pd\n",
    "import matplotlib.pyplot as plt\n",
    "pd.set_option('display.max_colwidth', -1)\n"
   ]
  },
  {
   "cell_type": "code",
   "execution_count": 2,
   "metadata": {},
   "outputs": [],
   "source": [
    "train = pd.read_csv('./data/train.csv')\n",
    "test = pd.read_csv('./data/test.csv')"
   ]
  },
  {
   "cell_type": "code",
   "execution_count": 31,
   "metadata": {},
   "outputs": [
    {
     "data": {
      "text/html": [
       "<div>\n",
       "<table border=\"1\" class=\"dataframe\">\n",
       "  <thead>\n",
       "    <tr style=\"text-align: right;\">\n",
       "      <th></th>\n",
       "      <th>id</th>\n",
       "      <th>comment_text</th>\n",
       "      <th>toxic</th>\n",
       "      <th>severe_toxic</th>\n",
       "      <th>obscene</th>\n",
       "      <th>threat</th>\n",
       "      <th>insult</th>\n",
       "      <th>identity_hate</th>\n",
       "    </tr>\n",
       "  </thead>\n",
       "  <tbody>\n",
       "  </tbody>\n",
       "</table>\n",
       "</div>"
      ],
      "text/plain": [
       "Empty DataFrame\n",
       "Columns: [id, comment_text, toxic, severe_toxic, obscene, threat, insult, identity_hate]\n",
       "Index: []"
      ]
     },
     "execution_count": 31,
     "metadata": {},
     "output_type": "execute_result"
    }
   ],
   "source": [
    "train.head(0)"
   ]
  },
  {
   "cell_type": "code",
   "execution_count": 4,
   "metadata": {},
   "outputs": [],
   "source": [
    "TOXIC = 'toxic'\n",
    "S_TOXIC = 'severe_toxic'\n",
    "OBSCENE = 'obscene'\n",
    "THREAT = 'threat'\n",
    "INSULT = 'insult'\n",
    "I_HATE = 'identity_hate'\n",
    "ys = [TOXIC, S_TOXIC, OBSCENE, THREAT, INSULT, I_HATE]"
   ]
  },
  {
   "cell_type": "code",
   "execution_count": 11,
   "metadata": {},
   "outputs": [
    {
     "name": "stdout",
     "output_type": "stream",
     "text": [
      "Label toxic\n",
      "['I never edit on wikipedia!!!!! What the f*ck are you doing , Bbb23 , you s*n of b*ch of b*stard'\n",
      " 'gonna get you... \\n\\n...you giant twat faced prick!!! 86.179.113.103'\n",
      " \"Hey \\n\\nAnd you're telling me that without a greeting with welcome or something you animal!\"\n",
      " \"citation needed. \\n\\nWhy are they're little kids on here who need information if the song was the greatest gainer in Canada? How dumb.\"\n",
      " \"ooh I'M SCARED!  FUCK YOU\"]\n",
      "\n",
      "Label severe_toxic\n",
      "['Hi, you poor twerps. My money does far more good than your pathetic rule enforcing. Have fun with your fat wives and gay hookers.'\n",
      " 'hELLO, TIPTOY, I HOPE YOU DIE. YOU ARE BEING SUCH A FREAKIN JEW, AND PLEASE, PLEASE GET OFF YOUR FATASS AND STOP MASTURBATING, BECAUSE ITS REALLY GETTING BAD. THE SEMINAL FLUID IS EVERYWHERE, BUT THEN AGAIN, I GUESS YOU LIKE IT THAT WAY, YOU FATASS MOTHER F****ER. GET A F***ING LIFE, AND GO FUCK YOURSELF, (YOU PROBABLY DO ANYWAY)'\n",
      " \"Someone should have told you by now, if you stop sucking so many dicks, you'll be more relaxed.  Too much dick-sucking (so I'm told) can lead to temporary psychosis.\"\n",
      " 'Fuck off you nazi loving cunt'\n",
      " 'FUCK YOU GEORGE \\n\\nYOU GET MY POINT, AKHTAK SHARMOTA']\n",
      "\n",
      "Label obscene\n",
      "['eat a dick is an apt insult not an attack a ddos would be an attack, knifing the bitch would be an attack telling her to eat a dick is what she deserves if she is gonna go around harrasing people...'\n",
      " \"I'm not gonna bother with AGK and  is a dick move.  account\"\n",
      " 'Dumb Liberals \\n\\nLiberals suck.  I will beat you at tanks anytime you swastika wearing freak.  Sieg Heil.'\n",
      " 'wah wah \\n\\nWhy not tell that communist faggot Jeffrey to fuck off and quit being a shit face?'\n",
      " 'yo will i am sorry \\n\\nwill i would like to apologiz...i have been actin like a stragiht nigga who is buggin and that aint right....uz a mad down nigga doin around helpin ohter niggas like me..and other pages so bitch ass kids can fckin get they reports down quicker...i didnt mean no offence to u nawmean? will i just want to put this shit behind and be friends...i wanna be real with a nigga and no mroe bull....but on some real shit u cant be goin around deleted niggas pages...nawmean? but yo will u jus keep doing ya thang and keep it real dawg']\n",
      "\n",
      "Label threat\n",
      "['For what you did and wrote about me, you are a twat of the highest order: David Bret. Furthermore, if we ever meet face to face I will punch your fucking lights out.'\n",
      " 'I HATE YOU \\n\\nLISTEN YOU MOTHERFUCKER, STAY OUT OF MY WAY, DONT TELL ME IM VANDALISING STUFF OR ILL COME AND VANDALISE YOU UGLY FACE. ILL COME FIND YOU AND MUSHHHHHHHHH YOU FAT ASS UP!!!!! and thanks for showing me the sandbox.\\n                                          MUGAMBO'\n",
      " 'I Hate You\\n\\nAnd I hope you die in a fire. 128.61.128.159'\n",
      " \"Help! \\n\\nIf you become an admin, I will fuckin find ya then fuckin kill ya because you are a gross, fuckin homosexual who doesn't deserve the upgrade.\"\n",
      " 'You Hurt My Feelings For The Last Time, Gladys!!!!!!! Try THAT One More Time I Will Hunt You Down And Murder You!!!!!!!!!!!!!!!!!!!!!!!!!!!!!!!!!!!!!!!!!!!!!!!!!!!!!!!!!!!!!!!!!!!!!!!!!!!!!!!!!!!!!!!!!!!!!!!!!!!!!!!!!!!!!!!!!!!!!!!!!!!!!!!!!!!!!!!!!!!!!!!!!!!!!!!!!!!!!!!!!!!!!!!!!!!!!!!!!!!!!!!!!!!!!!!!!!!!!!!!!!!!!!!!!!!!!!!!!!!!!!!!!!!!!!!!!!!!!!!!!!!!!!!!!!!!!!!!!!!!!!!!!!!!!!!!!!!!!!!!!!!!!!!!!!!!!!!!!!!!!!!!!!!!!!!!!!!!!!!!!!!!!!!!!!!!!!!!!!!!!!!!!!!!!!!!!!!!!!!!!!!!!!!!!!!!!!!!!!!!!!!!!!!!!!!!!!!!!!!!!\\n\\nP.S. I Mean It!!!!!!!!!!!!!!!!!!!!!!!!!']\n",
      "\n",
      "Label insult\n",
      "['| decline=Take a hike, idiot!'\n",
      " 'adopt \\n\\nGo and see what that stupid Jeff person left me!'\n",
      " '\"\\nSeriously, which 100% complete ass had the 100% completely idiotic idea to call this article \"\"Death of Neda Agha-Soltan\"\"???  You call it by her name and indicate that she became famous for the manner of her death.  Doh. 74.233.165.176  \"'\n",
      " '\"\\n\\n==Hey Travis deleting shit isn\\'t something to be proud of.  You seem to be so proud to be part of some group called \"\"WikiProject Wikipedians for Decency\"\" but you sure like to determine what is deleted.  Get rid of that faggoty mustache.\"'\n",
      " 'TRY TALKING FOR YOURSELF INSTEAD OF REFERRING ME TO PLACES   HOW BOUT YOU READ THE MESSAGE I WROTE ON YOUR DADS COCK TELLING HIM HO SHIT IN BED YOUR MUM WAS']\n",
      "\n",
      "Label identity_hate\n",
      "['Also, I burn jews for fun.'\n",
      " \"stop your lying. the jews of the biblical era died out long ago. Modern day 'jews' are just asimilated people from europe, spain and north africa, trying to make themselves seem legitimate via cultural theft and illegaly occupying Palestine and other 100% ARAB LANDS!\"\n",
      " 'Do you know the location of the laceration in a Jewish circ?'\n",
      " 'Get fucked you Dutch cunt.'\n",
      " 'Talk:Nigger \\n Please stop your disruptive editing. If you continue to vandalize Wikipedia,  you will be blocked from editing.   ☎']\n",
      "\n"
     ]
    }
   ],
   "source": [
    "for y_l in ys:\n",
    "    print('Label',y_l)\n",
    "    print(train[train[y_l]==1].sample(5)['comment_text'].values)\n",
    "    print()"
   ]
  },
  {
   "cell_type": "code",
   "execution_count": 26,
   "metadata": {},
   "outputs": [
    {
     "data": {
      "text/html": [
       "<div>\n",
       "<table border=\"1\" class=\"dataframe\">\n",
       "  <thead>\n",
       "    <tr style=\"text-align: right;\">\n",
       "      <th></th>\n",
       "      <th>toxic</th>\n",
       "      <th>severe_toxic</th>\n",
       "      <th>obscene</th>\n",
       "      <th>threat</th>\n",
       "      <th>insult</th>\n",
       "      <th>identity_hate</th>\n",
       "    </tr>\n",
       "  </thead>\n",
       "  <tbody>\n",
       "    <tr>\n",
       "      <th>toxic</th>\n",
       "      <td>1.000000</td>\n",
       "      <td>0.914151</td>\n",
       "      <td>0.950549</td>\n",
       "      <td>0.906788</td>\n",
       "      <td>0.946839</td>\n",
       "      <td>0.911669</td>\n",
       "    </tr>\n",
       "    <tr>\n",
       "      <th>severe_toxic</th>\n",
       "      <td>0.914151</td>\n",
       "      <td>1.000000</td>\n",
       "      <td>0.956070</td>\n",
       "      <td>0.988413</td>\n",
       "      <td>0.957824</td>\n",
       "      <td>0.985123</td>\n",
       "    </tr>\n",
       "    <tr>\n",
       "      <th>obscene</th>\n",
       "      <td>0.950549</td>\n",
       "      <td>0.956070</td>\n",
       "      <td>1.000000</td>\n",
       "      <td>0.947829</td>\n",
       "      <td>0.974833</td>\n",
       "      <td>0.951182</td>\n",
       "    </tr>\n",
       "    <tr>\n",
       "      <th>threat</th>\n",
       "      <td>0.906788</td>\n",
       "      <td>0.988413</td>\n",
       "      <td>0.947829</td>\n",
       "      <td>1.000000</td>\n",
       "      <td>0.951489</td>\n",
       "      <td>0.989428</td>\n",
       "    </tr>\n",
       "    <tr>\n",
       "      <th>insult</th>\n",
       "      <td>0.946839</td>\n",
       "      <td>0.957824</td>\n",
       "      <td>0.974833</td>\n",
       "      <td>0.951489</td>\n",
       "      <td>1.000000</td>\n",
       "      <td>0.956371</td>\n",
       "    </tr>\n",
       "    <tr>\n",
       "      <th>identity_hate</th>\n",
       "      <td>0.911669</td>\n",
       "      <td>0.985123</td>\n",
       "      <td>0.951182</td>\n",
       "      <td>0.989428</td>\n",
       "      <td>0.956371</td>\n",
       "      <td>1.000000</td>\n",
       "    </tr>\n",
       "  </tbody>\n",
       "</table>\n",
       "</div>"
      ],
      "text/plain": [
       "                  toxic  severe_toxic   obscene    threat    insult  \\\n",
       "toxic          1.000000  0.914151      0.950549  0.906788  0.946839   \n",
       "severe_toxic   0.914151  1.000000      0.956070  0.988413  0.957824   \n",
       "obscene        0.950549  0.956070      1.000000  0.947829  0.974833   \n",
       "threat         0.906788  0.988413      0.947829  1.000000  0.951489   \n",
       "insult         0.946839  0.957824      0.974833  0.951489  1.000000   \n",
       "identity_hate  0.911669  0.985123      0.951182  0.989428  0.956371   \n",
       "\n",
       "               identity_hate  \n",
       "toxic          0.911669       \n",
       "severe_toxic   0.985123       \n",
       "obscene        0.951182       \n",
       "threat         0.989428       \n",
       "insult         0.956371       \n",
       "identity_hate  1.000000       "
      ]
     },
     "execution_count": 26,
     "metadata": {},
     "output_type": "execute_result"
    }
   ],
   "source": [
    "from sklearn.metrics.pairwise import pairwise_distances\n",
    "jac_sim = 1 - pairwise_distances(train[ys].T, metric = \"hamming\")\n",
    "# optionally convert it to a DataFrame\n",
    "jac_sim = pd.DataFrame(jac_sim, index=ys, columns=ys)\n",
    "jac_sim"
   ]
  },
  {
   "cell_type": "code",
   "execution_count": 47,
   "metadata": {},
   "outputs": [],
   "source": [
    "\n",
    "import math\n",
    "from collections import Counter\n",
    "import numpy as np\n",
    "import seaborn as sns\n",
    "import pandas as pd\n",
    "import scipy.stats as ss\n",
    "import matplotlib.pyplot as plt\n",
    "import sklearn.preprocessing as sp\n",
    "from sklearn.tree import DecisionTreeClassifier\n",
    "from sklearn.model_selection import train_test_split\n",
    "from sklearn.metrics import classification_report, confusion_matrix, accuracy_score\n",
    "def conditional_entropy(x,y):\n",
    "    # entropy of x given y\n",
    "    y_counter = Counter(y)\n",
    "    xy_counter = Counter(list(zip(x,y)))\n",
    "    total_occurrences = sum(y_counter.values())\n",
    "    entropy = 0\n",
    "    for xy in xy_counter.keys():\n",
    "        p_xy = xy_counter[xy] / total_occurrences\n",
    "        p_y = y_counter[xy[1]] / total_occurrences\n",
    "        entropy += p_xy * math.log(p_y/p_xy)\n",
    "    return entropy\n",
    "\n",
    "def theil_u(x,y):\n",
    "    s_xy = conditional_entropy(x,y)\n",
    "    x_counter = Counter(x)\n",
    "    total_occurrences = sum(x_counter.values())\n",
    "    p_x = list(map(lambda n: n/total_occurrences, x_counter.values()))\n",
    "    s_x = ss.entropy(p_x)\n",
    "    if s_x == 0:\n",
    "        return 1\n",
    "    else:\n",
    "        return (s_x - s_xy) / s_x"
   ]
  },
  {
   "cell_type": "code",
   "execution_count": 98,
   "metadata": {},
   "outputs": [
    {
     "name": "stdout",
     "output_type": "stream",
     "text": [
      "toxic            15294\n",
      "severe_toxic     1595 \n",
      "obscene          8449 \n",
      "threat           478  \n",
      "insult           7877 \n",
      "identity_hate    1405 \n",
      "dtype: int64\n",
      "\n",
      "only toxic label 5666\n",
      "only severe_toxic label 0\n",
      "only obscene label 317\n",
      "only threat label 22\n",
      "only insult label 301\n",
      "only identity_hate label 54\n",
      "\n",
      "toxic vs severe_toxic 1595 none severe_toxic 13699\n",
      "toxic vs obscene 7926 none obscene 7368\n",
      "toxic vs threat 449 none threat 14845\n",
      "toxic vs insult 7344 none insult 7950\n",
      "toxic vs identity_hate 1302 none identity_hate 13992\n",
      "severe_toxic vs obscene 1517 none obscene 78\n",
      "severe_toxic vs threat 112 none threat 1483\n",
      "severe_toxic vs insult 1371 none insult 224\n",
      "severe_toxic vs identity_hate 313 none identity_hate 1282\n",
      "obscene vs threat 301 none threat 8148\n",
      "obscene vs insult 6155 none insult 2294\n",
      "obscene vs identity_hate 1032 none identity_hate 7417\n",
      "threat vs insult 307 none insult 171\n",
      "threat vs identity_hate 98 none identity_hate 380\n",
      "insult vs identity_hate 1160 none identity_hate 6717\n"
     ]
    }
   ],
   "source": [
    "print(train[ys].sum())\n",
    "print()\n",
    "for i,a in enumerate(ys):\n",
    "    only = train\n",
    "    for j,b in enumerate(ys):\n",
    "        if i != j:\n",
    "            only = only[only[a] & (only[b]==0)]\n",
    "    print('only {} label'.format(a),only.shape[0])\n",
    "    \n",
    "print()\n",
    "for i,a in enumerate(ys):\n",
    "    for j,b in enumerate(ys):\n",
    "        if i<j:\n",
    "            print(a,'vs',b, (train[a] & train[b]).sum(), 'none',b,(train[a] & ~train[b]).sum())"
   ]
  },
  {
   "cell_type": "code",
   "execution_count": 57,
   "metadata": {},
   "outputs": [
    {
     "data": {
      "image/png": "[encoded data removed]",
      "text/plain": [
       "<matplotlib.figure.Figure at 0x7fda3eb1d518>"
      ]
     },
     "metadata": {},
     "output_type": "display_data"
    },
    {
     "data": {
      "image/png": "[encoded data removed]",
      "text/plain": [
       "<matplotlib.figure.Figure at 0x7fda3caa2668>"
      ]
     },
     "metadata": {},
     "output_type": "display_data"
    },
    {
     "data": {
      "image/png": "[encoded data removed]",
      "text/plain": [
       "<matplotlib.figure.Figure at 0x7fda3c8b4860>"
      ]
     },
     "metadata": {},
     "output_type": "display_data"
    },
    {
     "data": {
      "image/png": "[encoded data removed]",
      "text/plain": [
       "<matplotlib.figure.Figure at 0x7fda3c915908>"
      ]
     },
     "metadata": {},
     "output_type": "display_data"
    },
    {
     "data": {
      "image/png": "[encoded data removed]",
      "text/plain": [
       "<matplotlib.figure.Figure at 0x7fda3ecba780>"
      ]
     },
     "metadata": {},
     "output_type": "display_data"
    },
    {
     "data": {
      "image/png": "[encoded data removed]",
      "text/plain": [
       "<matplotlib.figure.Figure at 0x7fda412fd748>"
      ]
     },
     "metadata": {},
     "output_type": "display_data"
    }
   ],
   "source": [
    "for y_l in ys:\n",
    "    theilu = pd.DataFrame(index=[y_l],columns=ys)\n",
    "    columns = ys\n",
    "    for j in range(0,len(columns)):\n",
    "        u = theil_u(train[y_l].tolist(),train[columns[j]].tolist())\n",
    "        theilu.loc[:,columns[j]] = u\n",
    "    theilu.fillna(value=np.nan,inplace=True)\n",
    "    plt.figure(figsize=(20,1))\n",
    "    sns.heatmap(theilu,annot=True,fmt='.2f')\n",
    "    plt.show()"
   ]
  },
  {
   "cell_type": "code",
   "execution_count": null,
   "metadata": {},
   "outputs": [],
   "source": []
  },
  {
   "cell_type": "code",
   "execution_count": null,
   "metadata": {},
   "outputs": [],
   "source": []
  },
  {
   "cell_type": "code",
   "execution_count": null,
   "metadata": {},
   "outputs": [],
   "source": []
  },
  {
   "cell_type": "code",
   "execution_count": null,
   "metadata": {},
   "outputs": [],
   "source": []
  },
  {
   "cell_type": "code",
   "execution_count": null,
   "metadata": {},
   "outputs": [],
   "source": []
  },
  {
   "cell_type": "code",
   "execution_count": null,
   "metadata": {},
   "outputs": [],
   "source": []
  },
  {
   "cell_type": "code",
   "execution_count": null,
   "metadata": {},
   "outputs": [],
   "source": []
  },
  {
   "cell_type": "code",
   "execution_count": null,
   "metadata": {},
   "outputs": [],
   "source": []
  },
  {
   "cell_type": "code",
   "execution_count": null,
   "metadata": {},
   "outputs": [],
   "source": [
    "train[ys].plot(kind='bar')"
   ]
  },
  {
   "cell_type": "code",
   "execution_count": null,
   "metadata": {},
   "outputs": [],
   "source": []
  },
  {
   "cell_type": "code",
   "execution_count": null,
   "metadata": {},
   "outputs": [],
   "source": []
  },
  {
   "cell_type": "code",
   "execution_count": null,
   "metadata": {},
   "outputs": [],
   "source": []
  },
  {
   "cell_type": "code",
   "execution_count": null,
   "metadata": {},
   "outputs": [],
   "source": []
  },
  {
   "cell_type": "code",
   "execution_count": null,
   "metadata": {},
   "outputs": [],
   "source": []
  },
  {
   "cell_type": "code",
   "execution_count": null,
   "metadata": {},
   "outputs": [],
   "source": []
  },
  {
   "cell_type": "code",
   "execution_count": null,
   "metadata": {},
   "outputs": [],
   "source": []
  },
  {
   "cell_type": "code",
   "execution_count": null,
   "metadata": {},
   "outputs": [],
   "source": []
  },
  {
   "cell_type": "code",
   "execution_count": null,
   "metadata": {},
   "outputs": [],
   "source": []
  },
  {
   "cell_type": "code",
   "execution_count": null,
   "metadata": {},
   "outputs": [],
   "source": []
  },
  {
   "cell_type": "code",
   "execution_count": null,
   "metadata": {},
   "outputs": [],
   "source": []
  },
  {
   "cell_type": "code",
   "execution_count": null,
   "metadata": {},
   "outputs": [],
   "source": []
  },
  {
   "cell_type": "code",
   "execution_count": null,
   "metadata": {},
   "outputs": [],
   "source": []
  },
  {
   "cell_type": "code",
   "execution_count": null,
   "metadata": {},
   "outputs": [],
   "source": []
  },
  {
   "cell_type": "code",
   "execution_count": null,
   "metadata": {},
   "outputs": [],
   "source": []
  },
  {
   "cell_type": "code",
   "execution_count": null,
   "metadata": {},
   "outputs": [],
   "source": []
  },
  {
   "cell_type": "code",
   "execution_count": null,
   "metadata": {},
   "outputs": [],
   "source": []
  },
  {
   "cell_type": "code",
   "execution_count": null,
   "metadata": {},
   "outputs": [],
   "source": [
    "print('toxic',train[(train['toxic'] == 1) & (train['severe_toxic']==0)].shape[0],'vs',train[(train['toxic'] == 1) & (train['severe_toxic']==1)].shape[0])"
   ]
  },
  {
   "cell_type": "code",
   "execution_count": null,
   "metadata": {},
   "outputs": [],
   "source": [
    "train[train['toxic'] == 1].sample(10)"
   ]
  },
  {
   "cell_type": "code",
   "execution_count": null,
   "metadata": {},
   "outputs": [],
   "source": []
  },
  {
   "cell_type": "code",
   "execution_count": null,
   "metadata": {},
   "outputs": [],
   "source": []
  },
  {
   "cell_type": "code",
   "execution_count": null,
   "metadata": {},
   "outputs": [],
   "source": []
  },
  {
   "cell_type": "code",
   "execution_count": null,
   "metadata": {},
   "outputs": [],
   "source": []
  },
  {
   "cell_type": "code",
   "execution_count": null,
   "metadata": {},
   "outputs": [],
   "source": []
  },
  {
   "cell_type": "code",
   "execution_count": null,
   "metadata": {},
   "outputs": [],
   "source": []
  },
  {
   "cell_type": "code",
   "execution_count": null,
   "metadata": {},
   "outputs": [],
   "source": []
  },
  {
   "cell_type": "code",
   "execution_count": null,
   "metadata": {},
   "outputs": [],
   "source": []
  },
  {
   "cell_type": "code",
   "execution_count": null,
   "metadata": {},
   "outputs": [],
   "source": []
  },
  {
   "cell_type": "code",
   "execution_count": null,
   "metadata": {},
   "outputs": [],
   "source": []
  },
  {
   "cell_type": "code",
   "execution_count": null,
   "metadata": {},
   "outputs": [],
   "source": []
  },
  {
   "cell_type": "code",
   "execution_count": null,
   "metadata": {},
   "outputs": [],
   "source": []
  },
  {
   "cell_type": "code",
   "execution_count": null,
   "metadata": {},
   "outputs": [],
   "source": []
  },
  {
   "cell_type": "code",
   "execution_count": null,
   "metadata": {},
   "outputs": [],
   "source": []
  },
  {
   "cell_type": "code",
   "execution_count": null,
   "metadata": {},
   "outputs": [],
   "source": [
    "from util import labels, clean"
   ]
  },
  {
   "cell_type": "code",
   "execution_count": null,
   "metadata": {},
   "outputs": [],
   "source": [
    "value_count = [train[label].value_counts()[1] for label in labels]\n",
    "pd.DataFrame({'count':value_count}, index=labels).plot.pie(y='count')\n",
    "plt.show()"
   ]
  },
  {
   "cell_type": "code",
   "execution_count": null,
   "metadata": {},
   "outputs": [],
   "source": [
    "from sklearn.feature_extraction.text import CountVectorizer"
   ]
  },
  {
   "cell_type": "code",
   "execution_count": null,
   "metadata": {},
   "outputs": [],
   "source": [
    "vect = CountVectorizer(stop_words='english').fit(train['comment_text'].append(test['comment_text']))"
   ]
  },
  {
   "cell_type": "code",
   "execution_count": null,
   "metadata": {},
   "outputs": [],
   "source": [
    "len(vect.vocabulary_)"
   ]
  },
  {
   "cell_type": "code",
   "execution_count": null,
   "metadata": {},
   "outputs": [],
   "source": [
    "train['comment_text'] = train['comment_text'].apply(clean)\n",
    "test['comment_text'] = test['comment_text'].apply(clean)"
   ]
  },
  {
   "cell_type": "code",
   "execution_count": null,
   "metadata": {},
   "outputs": [],
   "source": [
    "vect = CountVectorizer(stop_words='english').fit(train['comment_text'].append(test['comment_text']))"
   ]
  },
  {
   "cell_type": "code",
   "execution_count": null,
   "metadata": {},
   "outputs": [],
   "source": [
    "len(vect.vocabulary_)"
   ]
  },
  {
   "cell_type": "code",
   "execution_count": null,
   "metadata": {},
   "outputs": [],
   "source": [
    "train.to_csv('./data/train_cleaned.csv', index=False)\n",
    "test.to_csv('./data/test_cleaned.csv', index=False)"
   ]
  }
 ],
 "metadata": {
  "kernelspec": {
   "display_name": "Python 3",
   "language": "python",
   "name": "python3"
  },
  "language_info": {
   "codemirror_mode": {
    "name": "ipython",
    "version": 3
   },
   "file_extension": ".py",
   "mimetype": "text/x-python",
   "name": "python",
   "nbconvert_exporter": "python",
   "pygments_lexer": "ipython3",
   "version": "3.5.2"
  }
 },
 "nbformat": 4,
 "nbformat_minor": 2
}
