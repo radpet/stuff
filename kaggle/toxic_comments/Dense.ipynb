{
 "cells": [
  {
   "cell_type": "code",
   "execution_count": 1,
   "metadata": {},
   "outputs": [],
   "source": [
    "import pandas as pd"
   ]
  },
  {
   "cell_type": "code",
   "execution_count": 2,
   "metadata": {},
   "outputs": [],
   "source": [
    "train = pd.read_csv('./data/train_cleaned.csv')\n",
    "test = pd.read_csv('./data/test_cleaned.csv')"
   ]
  },
  {
   "cell_type": "code",
   "execution_count": 3,
   "metadata": {},
   "outputs": [],
   "source": [
    "train[\"comment_text\"].fillna(\"unknown\", inplace=True)\n",
    "test[\"comment_text\"].fillna(\"unknown\", inplace=True)"
   ]
  },
  {
   "cell_type": "code",
   "execution_count": 4,
   "metadata": {},
   "outputs": [
    {
     "name": "stderr",
     "output_type": "stream",
     "text": [
      "Using TensorFlow backend.\n"
     ]
    }
   ],
   "source": [
    "from util import labels, RocAucEvaluation"
   ]
  },
  {
   "cell_type": "code",
   "execution_count": 5,
   "metadata": {},
   "outputs": [],
   "source": [
    "num_classes = len(labels)\n",
    "max_features = 30000\n",
    "hidden = 300\n",
    "dropout = 0.4\n",
    "batch_size = 1000"
   ]
  },
  {
   "cell_type": "code",
   "execution_count": 6,
   "metadata": {},
   "outputs": [],
   "source": [
    "labels_to_id = {label:key for key,label in enumerate(labels)}"
   ]
  },
  {
   "cell_type": "code",
   "execution_count": 7,
   "metadata": {},
   "outputs": [],
   "source": [
    "from sklearn.feature_extraction.text import TfidfVectorizer"
   ]
  },
  {
   "cell_type": "code",
   "execution_count": 8,
   "metadata": {},
   "outputs": [],
   "source": [
    "vectorizer = TfidfVectorizer(max_features=max_features, stop_words='english').fit(train['comment_text'].append(test['comment_text']))"
   ]
  },
  {
   "cell_type": "code",
   "execution_count": 9,
   "metadata": {},
   "outputs": [],
   "source": [
    "from keras.layers import Input, Dense, Dropout, BatchNormalization\n",
    "from keras.models import Model"
   ]
  },
  {
   "cell_type": "code",
   "execution_count": 10,
   "metadata": {},
   "outputs": [],
   "source": [
    "def get_model():\n",
    "    input_comment = Input(shape=(max_features,), sparse=True)\n",
    "    \n",
    "    x = Dense(hidden, activation='relu')(input_comment)\n",
    "    x = BatchNormalization()(x)\n",
    "    x = Dropout(dropout)(x)\n",
    "    output_pred = Dense(num_classes, activation='sigmoid')(x)\n",
    "    \n",
    "    model = Model(inputs=input_comment, outputs=output_pred)\n",
    "    return model"
   ]
  },
  {
   "cell_type": "code",
   "execution_count": 11,
   "metadata": {},
   "outputs": [],
   "source": [
    "model = get_model()"
   ]
  },
  {
   "cell_type": "code",
   "execution_count": 12,
   "metadata": {},
   "outputs": [
    {
     "name": "stdout",
     "output_type": "stream",
     "text": [
      "_________________________________________________________________\n",
      "Layer (type)                 Output Shape              Param #   \n",
      "=================================================================\n",
      "input_1 (InputLayer)         (None, 30000)             0         \n",
      "_________________________________________________________________\n",
      "dense_1 (Dense)              (None, 300)               9000300   \n",
      "_________________________________________________________________\n",
      "batch_normalization_1 (Batch (None, 300)               1200      \n",
      "_________________________________________________________________\n",
      "dropout_1 (Dropout)          (None, 300)               0         \n",
      "_________________________________________________________________\n",
      "dense_2 (Dense)              (None, 6)                 1806      \n",
      "=================================================================\n",
      "Total params: 9,003,306\n",
      "Trainable params: 9,002,706\n",
      "Non-trainable params: 600\n",
      "_________________________________________________________________\n"
     ]
    }
   ],
   "source": [
    "model.summary()"
   ]
  },
  {
   "cell_type": "code",
   "execution_count": 13,
   "metadata": {},
   "outputs": [],
   "source": [
    "model.compile(optimizer='adam', loss='binary_crossentropy', metrics=['accuracy'])"
   ]
  },
  {
   "cell_type": "code",
   "execution_count": 14,
   "metadata": {},
   "outputs": [],
   "source": [
    "from sklearn.model_selection import train_test_split"
   ]
  },
  {
   "cell_type": "code",
   "execution_count": 15,
   "metadata": {},
   "outputs": [
    {
     "name": "stderr",
     "output_type": "stream",
     "text": [
      "/usr/local/lib/python3.5/dist-packages/sklearn/model_selection/_split.py:2010: FutureWarning: From version 0.21, test_size will always complement train_size unless both are specified.\n",
      "  FutureWarning)\n"
     ]
    }
   ],
   "source": [
    "train_fold, val_fold = train_test_split(train, train_size=0.95, random_state=123456)"
   ]
  },
  {
   "cell_type": "code",
   "execution_count": 16,
   "metadata": {},
   "outputs": [
    {
     "data": {
      "text/plain": [
       "((151592, 8), (7979, 8))"
      ]
     },
     "execution_count": 16,
     "metadata": {},
     "output_type": "execute_result"
    }
   ],
   "source": [
    "train_fold.shape, val_fold.shape"
   ]
  },
  {
   "cell_type": "code",
   "execution_count": 17,
   "metadata": {},
   "outputs": [],
   "source": [
    "train_vect = vectorizer.transform(train_fold['comment_text'])"
   ]
  },
  {
   "cell_type": "code",
   "execution_count": 18,
   "metadata": {},
   "outputs": [],
   "source": [
    "val_fold_features = vectorizer.transform(val_fold['comment_text'])"
   ]
  },
  {
   "cell_type": "code",
   "execution_count": 19,
   "metadata": {},
   "outputs": [],
   "source": [
    "roc_auc = RocAucEvaluation(validation_data=(val_fold_features, val_fold[labels]))"
   ]
  },
  {
   "cell_type": "code",
   "execution_count": 20,
   "metadata": {},
   "outputs": [
    {
     "name": "stdout",
     "output_type": "stream",
     "text": [
      "Epoch 1/4\n",
      "151000/151592 [============================>.] - ETA: 0s - loss: 0.2344 - acc: 0.9321\n",
      " ROC-AUC - epoch: 1 - score: 0.969580 \n",
      "\n",
      "151592/151592 [==============================] - 7s 44us/step - loss: 0.2337 - acc: 0.9323\n",
      "Epoch 2/4\n",
      "151000/151592 [============================>.] - ETA: 0s - loss: 0.0468 - acc: 0.9844- ETA: 0s - loss: 0.0470 - ac\n",
      " ROC-AUC - epoch: 2 - score: 0.973836 \n",
      "\n",
      "151592/151592 [==============================] - 6s 40us/step - loss: 0.0468 - acc: 0.9844\n",
      "Epoch 3/4\n",
      "151000/151592 [============================>.] - ETA: 0s - loss: 0.0331 - acc: 0.9882- ETA: 2s - loss: 0.0328 - acc - ETA: 1s - loss: 0.0330 - acc: 0 - ETA: 1s - loss: 0.0\n",
      " ROC-AUC - epoch: 3 - score: 0.972107 \n",
      "\n",
      "151592/151592 [==============================] - 6s 41us/step - loss: 0.0331 - acc: 0.9882\n",
      "Epoch 4/4\n",
      "151000/151592 [============================>.] - ETA: 0s - loss: 0.0258 - acc: 0.9910\n",
      " ROC-AUC - epoch: 4 - score: 0.969529 \n",
      "\n",
      "151592/151592 [==============================] - 6s 41us/step - loss: 0.0258 - acc: 0.9910\n"
     ]
    },
    {
     "data": {
      "text/plain": [
       "<keras.callbacks.History at 0x7f9e63a65390>"
      ]
     },
     "execution_count": 20,
     "metadata": {},
     "output_type": "execute_result"
    }
   ],
   "source": [
    "model.fit(train_vect, train_fold[labels].values, batch_size=batch_size, epochs=4, callbacks=[roc_auc])"
   ]
  },
  {
   "cell_type": "code",
   "execution_count": 21,
   "metadata": {},
   "outputs": [],
   "source": [
    "test_vect = vectorizer.transform(test['comment_text'])"
   ]
  },
  {
   "cell_type": "code",
   "execution_count": 22,
   "metadata": {},
   "outputs": [],
   "source": [
    "preds = model.predict(test_vect)"
   ]
  },
  {
   "cell_type": "code",
   "execution_count": 23,
   "metadata": {},
   "outputs": [],
   "source": [
    "subm = pd.DataFrame(preds, columns=labels, index=test['id'])"
   ]
  },
  {
   "cell_type": "code",
   "execution_count": 24,
   "metadata": {},
   "outputs": [
    {
     "data": {
      "text/html": [
       "<div>\n",
       "<table border=\"1\" class=\"dataframe\">\n",
       "  <thead>\n",
       "    <tr style=\"text-align: right;\">\n",
       "      <th></th>\n",
       "      <th>toxic</th>\n",
       "      <th>severe_toxic</th>\n",
       "      <th>obscene</th>\n",
       "      <th>threat</th>\n",
       "      <th>insult</th>\n",
       "      <th>identity_hate</th>\n",
       "    </tr>\n",
       "    <tr>\n",
       "      <th>id</th>\n",
       "      <th></th>\n",
       "      <th></th>\n",
       "      <th></th>\n",
       "      <th></th>\n",
       "      <th></th>\n",
       "      <th></th>\n",
       "    </tr>\n",
       "  </thead>\n",
       "  <tbody>\n",
       "    <tr>\n",
       "      <th>00001cee341fdb12</th>\n",
       "      <td>0.982560</td>\n",
       "      <td>0.011348</td>\n",
       "      <td>0.891086</td>\n",
       "      <td>0.003658</td>\n",
       "      <td>0.368140</td>\n",
       "      <td>0.019790</td>\n",
       "    </tr>\n",
       "    <tr>\n",
       "      <th>0000247867823ef7</th>\n",
       "      <td>0.000934</td>\n",
       "      <td>0.000541</td>\n",
       "      <td>0.000489</td>\n",
       "      <td>0.000600</td>\n",
       "      <td>0.000726</td>\n",
       "      <td>0.000677</td>\n",
       "    </tr>\n",
       "    <tr>\n",
       "      <th>00013b17ad220c46</th>\n",
       "      <td>0.003890</td>\n",
       "      <td>0.001247</td>\n",
       "      <td>0.001868</td>\n",
       "      <td>0.001195</td>\n",
       "      <td>0.003235</td>\n",
       "      <td>0.001298</td>\n",
       "    </tr>\n",
       "    <tr>\n",
       "      <th>00017563c3f7919a</th>\n",
       "      <td>0.000719</td>\n",
       "      <td>0.000682</td>\n",
       "      <td>0.000694</td>\n",
       "      <td>0.000711</td>\n",
       "      <td>0.001033</td>\n",
       "      <td>0.000480</td>\n",
       "    </tr>\n",
       "    <tr>\n",
       "      <th>00017695ad8997eb</th>\n",
       "      <td>0.000958</td>\n",
       "      <td>0.000419</td>\n",
       "      <td>0.000323</td>\n",
       "      <td>0.000589</td>\n",
       "      <td>0.000585</td>\n",
       "      <td>0.000722</td>\n",
       "    </tr>\n",
       "    <tr>\n",
       "      <th>0001ea8717f6de06</th>\n",
       "      <td>0.002850</td>\n",
       "      <td>0.001014</td>\n",
       "      <td>0.001470</td>\n",
       "      <td>0.000881</td>\n",
       "      <td>0.002315</td>\n",
       "      <td>0.001152</td>\n",
       "    </tr>\n",
       "    <tr>\n",
       "      <th>00024115d4cbde0f</th>\n",
       "      <td>0.001339</td>\n",
       "      <td>0.000939</td>\n",
       "      <td>0.000790</td>\n",
       "      <td>0.000983</td>\n",
       "      <td>0.001035</td>\n",
       "      <td>0.000723</td>\n",
       "    </tr>\n",
       "    <tr>\n",
       "      <th>000247e83dcc1211</th>\n",
       "      <td>0.132324</td>\n",
       "      <td>0.000697</td>\n",
       "      <td>0.004448</td>\n",
       "      <td>0.000493</td>\n",
       "      <td>0.010202</td>\n",
       "      <td>0.000764</td>\n",
       "    </tr>\n",
       "    <tr>\n",
       "      <th>00025358d4737918</th>\n",
       "      <td>0.001686</td>\n",
       "      <td>0.000940</td>\n",
       "      <td>0.001402</td>\n",
       "      <td>0.001141</td>\n",
       "      <td>0.001610</td>\n",
       "      <td>0.001316</td>\n",
       "    </tr>\n",
       "    <tr>\n",
       "      <th>00026d1092fe71cc</th>\n",
       "      <td>0.000912</td>\n",
       "      <td>0.000906</td>\n",
       "      <td>0.000887</td>\n",
       "      <td>0.000782</td>\n",
       "      <td>0.001335</td>\n",
       "      <td>0.000760</td>\n",
       "    </tr>\n",
       "    <tr>\n",
       "      <th>0002eadc3b301559</th>\n",
       "      <td>0.147195</td>\n",
       "      <td>0.001351</td>\n",
       "      <td>0.018947</td>\n",
       "      <td>0.001188</td>\n",
       "      <td>0.008622</td>\n",
       "      <td>0.001821</td>\n",
       "    </tr>\n",
       "    <tr>\n",
       "      <th>0002f87b16116a7f</th>\n",
       "      <td>0.001606</td>\n",
       "      <td>0.000187</td>\n",
       "      <td>0.000178</td>\n",
       "      <td>0.000245</td>\n",
       "      <td>0.000373</td>\n",
       "      <td>0.000411</td>\n",
       "    </tr>\n",
       "    <tr>\n",
       "      <th>0003806b11932181</th>\n",
       "      <td>0.001110</td>\n",
       "      <td>0.000610</td>\n",
       "      <td>0.000713</td>\n",
       "      <td>0.000723</td>\n",
       "      <td>0.001027</td>\n",
       "      <td>0.000824</td>\n",
       "    </tr>\n",
       "    <tr>\n",
       "      <th>0003e1cccfd5a40a</th>\n",
       "      <td>0.001305</td>\n",
       "      <td>0.001058</td>\n",
       "      <td>0.001258</td>\n",
       "      <td>0.000895</td>\n",
       "      <td>0.001072</td>\n",
       "      <td>0.000874</td>\n",
       "    </tr>\n",
       "    <tr>\n",
       "      <th>00059ace3e3e9a53</th>\n",
       "      <td>0.001038</td>\n",
       "      <td>0.000567</td>\n",
       "      <td>0.000585</td>\n",
       "      <td>0.000552</td>\n",
       "      <td>0.000963</td>\n",
       "      <td>0.000385</td>\n",
       "    </tr>\n",
       "    <tr>\n",
       "      <th>000634272d0d44eb</th>\n",
       "      <td>0.007569</td>\n",
       "      <td>0.000739</td>\n",
       "      <td>0.001013</td>\n",
       "      <td>0.000922</td>\n",
       "      <td>0.002500</td>\n",
       "      <td>0.001194</td>\n",
       "    </tr>\n",
       "    <tr>\n",
       "      <th>000663aff0fffc80</th>\n",
       "      <td>0.003362</td>\n",
       "      <td>0.001679</td>\n",
       "      <td>0.002408</td>\n",
       "      <td>0.001345</td>\n",
       "      <td>0.002214</td>\n",
       "      <td>0.001924</td>\n",
       "    </tr>\n",
       "    <tr>\n",
       "      <th>000689dd34e20979</th>\n",
       "      <td>0.016070</td>\n",
       "      <td>0.000674</td>\n",
       "      <td>0.002705</td>\n",
       "      <td>0.000649</td>\n",
       "      <td>0.003915</td>\n",
       "      <td>0.001704</td>\n",
       "    </tr>\n",
       "    <tr>\n",
       "      <th>000834769115370c</th>\n",
       "      <td>0.004587</td>\n",
       "      <td>0.001340</td>\n",
       "      <td>0.001306</td>\n",
       "      <td>0.001049</td>\n",
       "      <td>0.001317</td>\n",
       "      <td>0.000995</td>\n",
       "    </tr>\n",
       "    <tr>\n",
       "      <th>000844b52dee5f3f</th>\n",
       "      <td>0.003153</td>\n",
       "      <td>0.000807</td>\n",
       "      <td>0.001444</td>\n",
       "      <td>0.000499</td>\n",
       "      <td>0.001484</td>\n",
       "      <td>0.000637</td>\n",
       "    </tr>\n",
       "  </tbody>\n",
       "</table>\n",
       "</div>"
      ],
      "text/plain": [
       "                     toxic  severe_toxic   obscene    threat    insult  \\\n",
       "id                                                                       \n",
       "00001cee341fdb12  0.982560      0.011348  0.891086  0.003658  0.368140   \n",
       "0000247867823ef7  0.000934      0.000541  0.000489  0.000600  0.000726   \n",
       "00013b17ad220c46  0.003890      0.001247  0.001868  0.001195  0.003235   \n",
       "00017563c3f7919a  0.000719      0.000682  0.000694  0.000711  0.001033   \n",
       "00017695ad8997eb  0.000958      0.000419  0.000323  0.000589  0.000585   \n",
       "0001ea8717f6de06  0.002850      0.001014  0.001470  0.000881  0.002315   \n",
       "00024115d4cbde0f  0.001339      0.000939  0.000790  0.000983  0.001035   \n",
       "000247e83dcc1211  0.132324      0.000697  0.004448  0.000493  0.010202   \n",
       "00025358d4737918  0.001686      0.000940  0.001402  0.001141  0.001610   \n",
       "00026d1092fe71cc  0.000912      0.000906  0.000887  0.000782  0.001335   \n",
       "0002eadc3b301559  0.147195      0.001351  0.018947  0.001188  0.008622   \n",
       "0002f87b16116a7f  0.001606      0.000187  0.000178  0.000245  0.000373   \n",
       "0003806b11932181  0.001110      0.000610  0.000713  0.000723  0.001027   \n",
       "0003e1cccfd5a40a  0.001305      0.001058  0.001258  0.000895  0.001072   \n",
       "00059ace3e3e9a53  0.001038      0.000567  0.000585  0.000552  0.000963   \n",
       "000634272d0d44eb  0.007569      0.000739  0.001013  0.000922  0.002500   \n",
       "000663aff0fffc80  0.003362      0.001679  0.002408  0.001345  0.002214   \n",
       "000689dd34e20979  0.016070      0.000674  0.002705  0.000649  0.003915   \n",
       "000834769115370c  0.004587      0.001340  0.001306  0.001049  0.001317   \n",
       "000844b52dee5f3f  0.003153      0.000807  0.001444  0.000499  0.001484   \n",
       "\n",
       "                  identity_hate  \n",
       "id                               \n",
       "00001cee341fdb12       0.019790  \n",
       "0000247867823ef7       0.000677  \n",
       "00013b17ad220c46       0.001298  \n",
       "00017563c3f7919a       0.000480  \n",
       "00017695ad8997eb       0.000722  \n",
       "0001ea8717f6de06       0.001152  \n",
       "00024115d4cbde0f       0.000723  \n",
       "000247e83dcc1211       0.000764  \n",
       "00025358d4737918       0.001316  \n",
       "00026d1092fe71cc       0.000760  \n",
       "0002eadc3b301559       0.001821  \n",
       "0002f87b16116a7f       0.000411  \n",
       "0003806b11932181       0.000824  \n",
       "0003e1cccfd5a40a       0.000874  \n",
       "00059ace3e3e9a53       0.000385  \n",
       "000634272d0d44eb       0.001194  \n",
       "000663aff0fffc80       0.001924  \n",
       "000689dd34e20979       0.001704  \n",
       "000834769115370c       0.000995  \n",
       "000844b52dee5f3f       0.000637  "
      ]
     },
     "execution_count": 24,
     "metadata": {},
     "output_type": "execute_result"
    }
   ],
   "source": [
    "subm.head(20)"
   ]
  },
  {
   "cell_type": "code",
   "execution_count": null,
   "metadata": {},
   "outputs": [],
   "source": []
  }
 ],
 "metadata": {
  "kernelspec": {
   "display_name": "Python 3",
   "language": "python",
   "name": "python3"
  },
  "language_info": {
   "codemirror_mode": {
    "name": "ipython",
    "version": 3
   },
   "file_extension": ".py",
   "mimetype": "text/x-python",
   "name": "python",
   "nbconvert_exporter": "python",
   "pygments_lexer": "ipython3",
   "version": "3.5.2"
  }
 },
 "nbformat": 4,
 "nbformat_minor": 2
}
