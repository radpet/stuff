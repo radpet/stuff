{
 "cells": [
  {
   "cell_type": "code",
   "execution_count": 2,
   "metadata": {},
   "outputs": [],
   "source": [
    "import numpy as np"
   ]
  },
  {
   "cell_type": "code",
   "execution_count": 16,
   "metadata": {},
   "outputs": [],
   "source": [
    "def read_data(filename):\n",
    "    return np.array(list(set(list(open(filename)))))"
   ]
  },
  {
   "cell_type": "code",
   "execution_count": 17,
   "metadata": {},
   "outputs": [],
   "source": [
    "male = read_data(\"male.txt\")\n",
    "female = read_data(\"female.txt\")"
   ]
  },
  {
   "cell_type": "code",
   "execution_count": 18,
   "metadata": {},
   "outputs": [
    {
     "data": {
      "text/plain": [
       "((2943,), (5001,))"
      ]
     },
     "execution_count": 18,
     "metadata": {},
     "output_type": "execute_result"
    }
   ],
   "source": [
    "male.shape, female.shape"
   ]
  },
  {
   "cell_type": "code",
   "execution_count": 19,
   "metadata": {},
   "outputs": [
    {
     "data": {
      "text/plain": [
       "array(['Pincas\\n', 'Bard\\n', 'Sterne\\n', 'Dominique\\n', 'Tammy\\n'],\n",
       "      dtype='<U16')"
      ]
     },
     "execution_count": 19,
     "metadata": {},
     "output_type": "execute_result"
    }
   ],
   "source": [
    "male[:5]"
   ]
  },
  {
   "cell_type": "code",
   "execution_count": 34,
   "metadata": {},
   "outputs": [
    {
     "data": {
      "text/plain": [
       "array(['Merl\\n', 'Clari\\n', 'Emmie\\n', 'Lucia\\n', 'Celestina\\n'],\n",
       "      dtype='<U16')"
      ]
     },
     "execution_count": 34,
     "metadata": {},
     "output_type": "execute_result"
    }
   ],
   "source": [
    "female[:5]"
   ]
  },
  {
   "cell_type": "code",
   "execution_count": 24,
   "metadata": {},
   "outputs": [],
   "source": [
    "import pandas as pd"
   ]
  },
  {
   "cell_type": "code",
   "execution_count": 104,
   "metadata": {},
   "outputs": [],
   "source": [
    "def create_pd_from_data(data, gender):\n",
    "    df = pd.DataFrame(data={\"name\":data})\n",
    "    df[\"name\"] = df[\"name\"].str.lower()\n",
    "    df[\"name\"] = df[\"name\"].str.replace(\"\\n\", \"\")\n",
    "    df[\"gender\"] = gender\n",
    "    return df"
   ]
  },
  {
   "cell_type": "code",
   "execution_count": 105,
   "metadata": {},
   "outputs": [
    {
     "data": {
      "text/html": [
       "<div>\n",
       "<table border=\"1\" class=\"dataframe\">\n",
       "  <thead>\n",
       "    <tr style=\"text-align: right;\">\n",
       "      <th></th>\n",
       "      <th>name</th>\n",
       "      <th>gender</th>\n",
       "    </tr>\n",
       "  </thead>\n",
       "  <tbody>\n",
       "    <tr>\n",
       "      <th>0</th>\n",
       "      <td>pincas</td>\n",
       "      <td>0</td>\n",
       "    </tr>\n",
       "    <tr>\n",
       "      <th>1</th>\n",
       "      <td>bard</td>\n",
       "      <td>0</td>\n",
       "    </tr>\n",
       "    <tr>\n",
       "      <th>2</th>\n",
       "      <td>sterne</td>\n",
       "      <td>0</td>\n",
       "    </tr>\n",
       "    <tr>\n",
       "      <th>3</th>\n",
       "      <td>dominique</td>\n",
       "      <td>0</td>\n",
       "    </tr>\n",
       "    <tr>\n",
       "      <th>4</th>\n",
       "      <td>tammy</td>\n",
       "      <td>0</td>\n",
       "    </tr>\n",
       "  </tbody>\n",
       "</table>\n",
       "</div>"
      ],
      "text/plain": [
       "        name  gender\n",
       "0     pincas       0\n",
       "1       bard       0\n",
       "2     sterne       0\n",
       "3  dominique       0\n",
       "4      tammy       0"
      ]
     },
     "execution_count": 105,
     "metadata": {},
     "output_type": "execute_result"
    }
   ],
   "source": [
    "df_male = create_pd_from_data(male, 0)\n",
    "df_male.head()"
   ]
  },
  {
   "cell_type": "code",
   "execution_count": 106,
   "metadata": {},
   "outputs": [
    {
     "data": {
      "text/html": [
       "<div>\n",
       "<table border=\"1\" class=\"dataframe\">\n",
       "  <thead>\n",
       "    <tr style=\"text-align: right;\">\n",
       "      <th></th>\n",
       "      <th>name</th>\n",
       "      <th>gender</th>\n",
       "    </tr>\n",
       "  </thead>\n",
       "  <tbody>\n",
       "    <tr>\n",
       "      <th>0</th>\n",
       "      <td>merl</td>\n",
       "      <td>1</td>\n",
       "    </tr>\n",
       "    <tr>\n",
       "      <th>1</th>\n",
       "      <td>clari</td>\n",
       "      <td>1</td>\n",
       "    </tr>\n",
       "    <tr>\n",
       "      <th>2</th>\n",
       "      <td>emmie</td>\n",
       "      <td>1</td>\n",
       "    </tr>\n",
       "    <tr>\n",
       "      <th>3</th>\n",
       "      <td>lucia</td>\n",
       "      <td>1</td>\n",
       "    </tr>\n",
       "    <tr>\n",
       "      <th>4</th>\n",
       "      <td>celestina</td>\n",
       "      <td>1</td>\n",
       "    </tr>\n",
       "  </tbody>\n",
       "</table>\n",
       "</div>"
      ],
      "text/plain": [
       "        name  gender\n",
       "0       merl       1\n",
       "1      clari       1\n",
       "2      emmie       1\n",
       "3      lucia       1\n",
       "4  celestina       1"
      ]
     },
     "execution_count": 106,
     "metadata": {},
     "output_type": "execute_result"
    }
   ],
   "source": [
    "df_female = create_pd_from_data(female, 1)\n",
    "df_female.head()"
   ]
  },
  {
   "cell_type": "code",
   "execution_count": 107,
   "metadata": {},
   "outputs": [
    {
     "data": {
      "text/plain": [
       "(7944, 2)"
      ]
     },
     "execution_count": 107,
     "metadata": {},
     "output_type": "execute_result"
    }
   ],
   "source": [
    "corpus = df_female.append(df_male)\n",
    "corpus.shape"
   ]
  },
  {
   "cell_type": "code",
   "execution_count": 119,
   "metadata": {},
   "outputs": [
    {
     "data": {
      "text/plain": [
       "count       7944\n",
       "unique      7576\n",
       "top       mickie\n",
       "freq           2\n",
       "Name: name, dtype: object"
      ]
     },
     "execution_count": 119,
     "metadata": {},
     "output_type": "execute_result"
    }
   ],
   "source": [
    "corpus[\"name\"].describe()"
   ]
  },
  {
   "cell_type": "code",
   "execution_count": 127,
   "metadata": {},
   "outputs": [
    {
     "data": {
      "text/plain": [
       "15"
      ]
     },
     "execution_count": 127,
     "metadata": {},
     "output_type": "execute_result"
    }
   ],
   "source": [
    "# wow what a long name\n",
    "max_len = max([len(x) for x in corpus[\"name\"]])\n",
    "max_len"
   ]
  },
  {
   "cell_type": "code",
   "execution_count": 126,
   "metadata": {},
   "outputs": [
    {
     "data": {
      "text/plain": [
       "{2: 'ez',\n",
       " 3: 'art',\n",
       " 4: 'winn',\n",
       " 5: 'bernd',\n",
       " 6: 'kermie',\n",
       " 7: 'abelard',\n",
       " 8: 'montague',\n",
       " 9: 'standford',\n",
       " 10: 'heathcliff',\n",
       " 11: 'bartholomew',\n",
       " 12: 'christorpher',\n",
       " 13: 'jean-francois',\n",
       " 14: 'sheila-kathryn',\n",
       " 15: 'jean-christophe'}"
      ]
     },
     "execution_count": 126,
     "metadata": {},
     "output_type": "execute_result"
    }
   ],
   "source": [
    "{len(x):x for x in corpus[\"name\"]}"
   ]
  },
  {
   "cell_type": "code",
   "execution_count": 108,
   "metadata": {},
   "outputs": [],
   "source": [
    "from sklearn.model_selection import train_test_split"
   ]
  },
  {
   "cell_type": "code",
   "execution_count": 109,
   "metadata": {},
   "outputs": [
    {
     "data": {
      "text/plain": [
       "((5560, 2), (2384, 2))"
      ]
     },
     "execution_count": 109,
     "metadata": {},
     "output_type": "execute_result"
    }
   ],
   "source": [
    "train, dev_test = train_test_split(corpus, stratify=corpus[\"gender\"],test_size=0.3, random_state=26)\n",
    "train.shape, dev_test.shape"
   ]
  },
  {
   "cell_type": "code",
   "execution_count": 72,
   "metadata": {},
   "outputs": [],
   "source": [
    "dev, test = train_test_split(dev_test, stratify=dev_test[\"gender\"], test_size = 0.3, random_state=26  )"
   ]
  },
  {
   "cell_type": "code",
   "execution_count": 73,
   "metadata": {},
   "outputs": [
    {
     "data": {
      "text/plain": [
       "((1668, 2), (716, 2))"
      ]
     },
     "execution_count": 73,
     "metadata": {},
     "output_type": "execute_result"
    }
   ],
   "source": [
    "dev.shape, test.shape"
   ]
  },
  {
   "cell_type": "code",
   "execution_count": 111,
   "metadata": {},
   "outputs": [
    {
     "data": {
      "text/plain": [
       "1    3500\n",
       "0    2060\n",
       "Name: gender, dtype: int64"
      ]
     },
     "execution_count": 111,
     "metadata": {},
     "output_type": "execute_result"
    }
   ],
   "source": [
    "train[\"gender\"].value_counts()"
   ]
  },
  {
   "cell_type": "code",
   "execution_count": 110,
   "metadata": {},
   "outputs": [
    {
     "data": {
      "text/plain": [
       "1    1050\n",
       "0     618\n",
       "Name: gender, dtype: int64"
      ]
     },
     "execution_count": 110,
     "metadata": {},
     "output_type": "execute_result"
    }
   ],
   "source": [
    "dev[\"gender\"].value_counts()"
   ]
  },
  {
   "cell_type": "code",
   "execution_count": 112,
   "metadata": {},
   "outputs": [
    {
     "data": {
      "text/plain": [
       "1    451\n",
       "0    265\n",
       "Name: gender, dtype: int64"
      ]
     },
     "execution_count": 112,
     "metadata": {},
     "output_type": "execute_result"
    }
   ],
   "source": [
    "test[\"gender\"].value_counts()"
   ]
  },
  {
   "cell_type": "code",
   "execution_count": 128,
   "metadata": {},
   "outputs": [],
   "source": [
    "from keras.preprocessing.text import Tokenizer\n",
    "from keras.preprocessing.sequence import pad_sequences"
   ]
  },
  {
   "cell_type": "code",
   "execution_count": 23,
   "metadata": {},
   "outputs": [],
   "source": [
    "tokenizer = Tokenizer(char_level=True)"
   ]
  },
  {
   "cell_type": "code",
   "execution_count": 113,
   "metadata": {},
   "outputs": [],
   "source": [
    "tokenizer.fit_on_texts(train[\"name\"].append(dev[\"name\"])) # i wont fit on test"
   ]
  },
  {
   "cell_type": "code",
   "execution_count": 157,
   "metadata": {},
   "outputs": [],
   "source": [
    "def create_features(data):\n",
    "    seq = tokenizer.texts_to_sequences(data)\n",
    "    seq = pad_sequences(seq, maxlen=max_len)\n",
    "    return seq"
   ]
  },
  {
   "cell_type": "code",
   "execution_count": 160,
   "metadata": {},
   "outputs": [
    {
     "data": {
      "text/plain": [
       "(5560, 15)"
      ]
     },
     "execution_count": 160,
     "metadata": {},
     "output_type": "execute_result"
    }
   ],
   "source": [
    "train_seq = create_features(train[\"name\"])\n",
    "train_seq.shape"
   ]
  },
  {
   "cell_type": "code",
   "execution_count": 230,
   "metadata": {},
   "outputs": [],
   "source": [
    "from keras.models import Sequential\n",
    "from keras.layers import LSTM, Dense, Dropout, Embedding, Bidirectional, MaxPooling1D, Convolution1D, GlobalMaxPooling1D"
   ]
  },
  {
   "cell_type": "code",
   "execution_count": 251,
   "metadata": {},
   "outputs": [],
   "source": [
    "model = Sequential([\n",
    "    Embedding(input_length=max_len, input_dim=len(tokenizer.word_counts) + 1, output_dim=26),\n",
    "    Bidirectional(LSTM(100)),\n",
    "    Dropout(0.4),\n",
    "    Dense(8, activation=\"relu\"),\n",
    "    Dropout(0.3),\n",
    "    Dense(4, activation=\"relu\"),\n",
    "    Dropout(0.1),\n",
    "    Dense(1, activation=\"sigmoid\")\n",
    "])"
   ]
  },
  {
   "cell_type": "code",
   "execution_count": 252,
   "metadata": {},
   "outputs": [
    {
     "name": "stdout",
     "output_type": "stream",
     "text": [
      "_________________________________________________________________\n",
      "Layer (type)                 Output Shape              Param #   \n",
      "=================================================================\n",
      "embedding_18 (Embedding)     (None, 15, 26)            1456      \n",
      "_________________________________________________________________\n",
      "bidirectional_17 (Bidirectio (None, 200)               101600    \n",
      "_________________________________________________________________\n",
      "dropout_40 (Dropout)         (None, 200)               0         \n",
      "_________________________________________________________________\n",
      "dense_54 (Dense)             (None, 8)                 1608      \n",
      "_________________________________________________________________\n",
      "dropout_41 (Dropout)         (None, 8)                 0         \n",
      "_________________________________________________________________\n",
      "dense_55 (Dense)             (None, 4)                 36        \n",
      "_________________________________________________________________\n",
      "dropout_42 (Dropout)         (None, 4)                 0         \n",
      "_________________________________________________________________\n",
      "dense_56 (Dense)             (None, 1)                 5         \n",
      "=================================================================\n",
      "Total params: 104,705\n",
      "Trainable params: 104,705\n",
      "Non-trainable params: 0\n",
      "_________________________________________________________________\n"
     ]
    }
   ],
   "source": [
    "model.summary()"
   ]
  },
  {
   "cell_type": "code",
   "execution_count": 142,
   "metadata": {},
   "outputs": [],
   "source": [
    "from keras.callbacks import EarlyStopping"
   ]
  },
  {
   "cell_type": "code",
   "execution_count": 143,
   "metadata": {},
   "outputs": [],
   "source": [
    "stopping = EarlyStopping(patience=2) # should also restart training sometimes"
   ]
  },
  {
   "cell_type": "code",
   "execution_count": 149,
   "metadata": {},
   "outputs": [],
   "source": [
    "def per_sample(data):\n",
    "    return data[\"gender\"].values.reshape(-1,1)"
   ]
  },
  {
   "cell_type": "code",
   "execution_count": 254,
   "metadata": {},
   "outputs": [
    {
     "name": "stdout",
     "output_type": "stream",
     "text": [
      "Train on 5560 samples, validate on 1668 samples\n",
      "Epoch 1/30\n",
      "5560/5560 [==============================] - 9s 2ms/step - loss: 0.4294 - val_loss: 0.4308\n",
      "Epoch 2/30\n",
      "5560/5560 [==============================] - 5s 943us/step - loss: 0.4312 - val_loss: 0.4291\n",
      "Epoch 3/30\n",
      "5560/5560 [==============================] - 5s 934us/step - loss: 0.4329 - val_loss: 0.4252\n",
      "Epoch 4/30\n",
      "5560/5560 [==============================] - 5s 932us/step - loss: 0.4310 - val_loss: 0.4252\n",
      "Epoch 5/30\n",
      "5560/5560 [==============================] - 5s 938us/step - loss: 0.4249 - val_loss: 0.4362\n",
      "Epoch 6/30\n",
      "5560/5560 [==============================] - 5s 944us/step - loss: 0.4251 - val_loss: 0.4252\n",
      "Epoch 7/30\n",
      "5560/5560 [==============================] - 5s 928us/step - loss: 0.4218 - val_loss: 0.4233\n",
      "Epoch 8/30\n",
      "5560/5560 [==============================] - 5s 989us/step - loss: 0.4201 - val_loss: 0.4269\n",
      "Epoch 9/30\n",
      "5560/5560 [==============================] - 5s 957us/step - loss: 0.4188 - val_loss: 0.4326\n"
     ]
    },
    {
     "data": {
      "text/plain": [
       "<keras.callbacks.History at 0x7ff2f57f2be0>"
      ]
     },
     "execution_count": 254,
     "metadata": {},
     "output_type": "execute_result"
    }
   ],
   "source": [
    "model.compile(optimizer=\"adam\", loss=\"binary_crossentropy\")\n",
    "model.fit(create_features(train[\"name\"]), per_sample(train),validation_data=(create_features(dev[\"name\"]), per_sample(dev)), epochs=30, batch_size=32, callbacks=[stopping])"
   ]
  },
  {
   "cell_type": "code",
   "execution_count": 256,
   "metadata": {},
   "outputs": [],
   "source": [
    "from sklearn.metrics import confusion_matrix, classification_report, accuracy_score"
   ]
  },
  {
   "cell_type": "code",
   "execution_count": 257,
   "metadata": {},
   "outputs": [],
   "source": [
    "def score_on(dataset, model):\n",
    "    prediction = np.round(model.predict(create_features(dataset[\"name\"])))\n",
    "    print(confusion_matrix(y_true=dataset[\"gender\"], y_pred=prediction, labels=[0,1]))\n",
    "    print(classification_report(y_true=dataset[\"gender\"], y_pred=prediction, labels=[0,1], target_names=[\"Male\", \"Female\"]))\n",
    "    print(\"acc\", accuracy_score(y_true=dataset[\"gender\"], y_pred=prediction))\n",
    "    "
   ]
  },
  {
   "cell_type": "code",
   "execution_count": 258,
   "metadata": {},
   "outputs": [
    {
     "name": "stdout",
     "output_type": "stream",
     "text": [
      "[[486 132]\n",
      " [189 861]]\n",
      "             precision    recall  f1-score   support\n",
      "\n",
      "       Male       0.72      0.79      0.75       618\n",
      "     Female       0.87      0.82      0.84      1050\n",
      "\n",
      "avg / total       0.81      0.81      0.81      1668\n",
      "\n",
      "acc 0.807553956835\n"
     ]
    }
   ],
   "source": [
    "score_on(dev, model)"
   ]
  },
  {
   "cell_type": "code",
   "execution_count": 260,
   "metadata": {},
   "outputs": [
    {
     "name": "stdout",
     "output_type": "stream",
     "text": [
      "[[190  75]\n",
      " [ 83 368]]\n",
      "             precision    recall  f1-score   support\n",
      "\n",
      "       Male       0.70      0.72      0.71       265\n",
      "     Female       0.83      0.82      0.82       451\n",
      "\n",
      "avg / total       0.78      0.78      0.78       716\n",
      "\n",
      "acc 0.779329608939\n"
     ]
    }
   ],
   "source": [
    "score_on(test, model)"
   ]
  }
 ],
 "metadata": {
  "kernelspec": {
   "display_name": "Python 3",
   "language": "python",
   "name": "python3"
  },
  "language_info": {
   "codemirror_mode": {
    "name": "ipython",
    "version": 3
   },
   "file_extension": ".py",
   "mimetype": "text/x-python",
   "name": "python",
   "nbconvert_exporter": "python",
   "pygments_lexer": "ipython3",
   "version": "3.5.2"
  }
 },
 "nbformat": 4,
 "nbformat_minor": 2
}
