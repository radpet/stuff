{
 "cells": [
  {
   "cell_type": "markdown",
   "metadata": {},
   "source": [
    "# Metrics of model used for classification.\n",
    "# Cross Validation.\n",
    "# Titanic Dataset.\n",
    "-----------------------------\n",
    "Radoslav Petkov"
   ]
  },
  {
   "cell_type": "markdown",
   "metadata": {},
   "source": [
    "### About me\n",
    "--------------\n",
    "* Contact: https://www.linkedin.com/in/radoslav-petkov-8a4a53144/\n",
    "* Sofia University, Computer Science, Bsc (2nd year)\n",
    "* Has been working for Sirma since the end of 2014"
   ]
  },
  {
   "cell_type": "markdown",
   "metadata": {},
   "source": [
    "# Summary\n",
    "* Classification Metrics\n",
    "    * Accuracy\n",
    "    * Confusion Matrix\n",
    "        * Precision\n",
    "        * Recall\n",
    "        * F1\n",
    "* Cross Validation\n",
    "* Titanic"
   ]
  },
  {
   "cell_type": "markdown",
   "metadata": {},
   "source": []
  },
  {
   "cell_type": "markdown",
   "metadata": {},
   "source": []
  },
  {
   "cell_type": "markdown",
   "metadata": {},
   "source": [
    "# References\n",
    "* http://fmi.machine-learning.bg/lectures/07-model-validation\n",
    "* http://scikit-learn.org/stable/modules/model_evaluation.html\n",
    "* https://turi.com/learn/userguide/evaluation/classification.html"
   ]
  }
 ],
 "metadata": {
  "kernelspec": {
   "display_name": "Python 3",
   "language": "python",
   "name": "python3"
  },
  "language_info": {
   "codemirror_mode": {
    "name": "ipython",
    "version": 3
   },
   "file_extension": ".py",
   "mimetype": "text/x-python",
   "name": "python",
   "nbconvert_exporter": "python",
   "pygments_lexer": "ipython3",
   "version": "3.5.2"
  }
 },
 "nbformat": 4,
 "nbformat_minor": 2
}
