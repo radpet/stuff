{
 "cells": [
  {
   "cell_type": "markdown",
   "metadata": {
    "slideshow": {
     "slide_type": "slide"
    }
   },
   "source": [
    "# Classification and Similarity Metrics.\n",
    "# Cross Validation.\n",
    "# Titanic Dataset.\n",
    "-----------------------------\n",
    "Radoslav Petkov"
   ]
  },
  {
   "cell_type": "markdown",
   "metadata": {
    "slideshow": {
     "slide_type": "slide"
    }
   },
   "source": [
    "### About me\n",
    "--------------\n",
    "* Contact: https://www.linkedin.com/in/radoslav-petkov-8a4a53144/"
   ]
  },
  {
   "cell_type": "markdown",
   "metadata": {
    "slideshow": {
     "slide_type": "slide"
    }
   },
   "source": [
    "# Agenda\n",
    "* Recap\n",
    "    * Supervised vs Unsupervised\n",
    "    * Classification vs Regression\n",
    "* Similarity Metrics\n",
    "    * Euclidian distance\n",
    "    * Manhattan distance\n",
    "    * Cosine similarity\n",
    "* Classification Metrics\n",
    "    * Accuracy\n",
    "    * Confusion Matrix\n",
    "        * Precision\n",
    "        * Recall\n",
    "        * F1\n",
    "* Cross Validation\n",
    "* Titanic"
   ]
  },
  {
   "cell_type": "markdown",
   "metadata": {
    "slideshow": {
     "slide_type": "slide"
    }
   },
   "source": [
    "# Recap\n",
    "\n",
    "### Supervised vs Unsupervised\n",
    "### Classification vs Regression"
   ]
  },
  {
   "cell_type": "markdown",
   "metadata": {
    "slideshow": {
     "slide_type": "slide"
    }
   },
   "source": [
    "# Similarity Metrics\n",
    "\n",
    "Def: Real valued function that measures the similarity between 2 objects (vectors)."
   ]
  },
  {
   "cell_type": "markdown",
   "metadata": {
    "slideshow": {
     "slide_type": "subslide"
    }
   },
   "source": [
    "## Euclidian distance\n",
    "\n",
    "Def : Ordinary straight line distance: $ \\sqrt{\\sum_{i=1}^n (x_i-y_i)^2} $\n",
    "\n",
    "![](euclidean.png)\n",
    "\n"
   ]
  },
  {
   "cell_type": "markdown",
   "metadata": {
    "slideshow": {
     "slide_type": "subslide"
    }
   },
   "source": [
    "## Manhattan distance\n",
    "\n",
    "Def: Simple sum of the horizontal and vertical components $ \\sum_{i=1}^n |x_i-y_i| $\n",
    "\n",
    "![](manhattan.png)"
   ]
  },
  {
   "cell_type": "markdown",
   "metadata": {
    "slideshow": {
     "slide_type": "subslide"
    }
   },
   "source": [
    "## Cosine similarity\n",
    "Def: Measure of similarity between 2 non-zero vectors of a nordmed space that measures the cosine of the angle between them. $ cos(\\pmb x, \\pmb y) = \\frac {\\pmb x \\cdot \\pmb y}{||\\pmb x|| \\cdot ||\\pmb y||} $\n",
    "\n",
    "![](cosine.png)"
   ]
  },
  {
   "cell_type": "markdown",
   "metadata": {
    "slideshow": {
     "slide_type": "subslide"
    }
   },
   "source": [
    "# Summarized\n",
    "![](cover_post_final.png)"
   ]
  },
  {
   "cell_type": "markdown",
   "metadata": {
    "slideshow": {
     "slide_type": "slide"
    }
   },
   "source": [
    "# Cross Validation\n",
    "\n",
    "### We overfit. We do not have enought data. What we do?"
   ]
  },
  {
   "cell_type": "markdown",
   "metadata": {
    "slideshow": {
     "slide_type": "subslide"
    }
   },
   "source": [
    "# K-Fold Cross Validation\n",
    "\n",
    "\n",
    "Split the dataset in K subsets and use K-1 for training and K for testing. The error rate is avaraged over all K trials.\n",
    "![](K-fold_cross_validation_EN.jpg)"
   ]
  },
  {
   "cell_type": "markdown",
   "metadata": {
    "slideshow": {
     "slide_type": "slide"
    }
   },
   "source": [
    "# Classification metrics\n",
    "\n",
    "How to measure the performance of a model?"
   ]
  },
  {
   "cell_type": "markdown",
   "metadata": {
    "slideshow": {
     "slide_type": "subslide"
    }
   },
   "source": [
    "## Accuracy\n",
    "The number of correct predictions from all predictions made.\n",
    "![](accuracy.jpg)"
   ]
  },
  {
   "cell_type": "markdown",
   "metadata": {
    "slideshow": {
     "slide_type": "subslide"
    }
   },
   "source": [
    "Problem statement: \n",
    "\n",
    "Imagine having labels (False and True) distributed like this: \n",
    "***90% False and 10% True***\n",
    "\n",
    "The model that constantly output ***False*** will have ***90%*** accuracy. Not bad. "
   ]
  },
  {
   "cell_type": "markdown",
   "metadata": {
    "slideshow": {
     "slide_type": "subslide"
    }
   },
   "source": [
    "# The solution: Confusion matrix\n",
    "\n",
    "Table that allows visualization of the performance of a supervised algorithm\n",
    "\n",
    "![](sphx_glr_plot_confusion_matrix_002.png)"
   ]
  },
  {
   "cell_type": "markdown",
   "metadata": {
    "slideshow": {
     "slide_type": "subslide"
    }
   },
   "source": [
    "# Binary Confusion Matrix\n",
    "![](confusion_matrix_1.png)"
   ]
  },
  {
   "cell_type": "markdown",
   "metadata": {
    "slideshow": {
     "slide_type": "subslide"
    }
   },
   "source": [
    "## Precision\n",
    "Precision is: $ \\frac{TP}{TP + FP} \\ $\n",
    "\n",
    "True Positives divided by the sum of True Positives and False Positives\n",
    "\n",
    "![](confusion_matrix_1.png)"
   ]
  },
  {
   "cell_type": "markdown",
   "metadata": {
    "slideshow": {
     "slide_type": "subslide"
    }
   },
   "source": [
    "## Recall\n",
    "\n",
    "Recall is: $ \\frac{TP}{TP + FN} \\ $\n",
    "\n",
    "True Positives divided by the sum of True Positives and False Negatives.\n",
    "![](confusion_matrix_1.png)"
   ]
  },
  {
   "cell_type": "markdown",
   "metadata": {
    "slideshow": {
     "slide_type": "subslide"
    }
   },
   "source": [
    "# F1 score\n",
    "\n",
    "F1 score is the harmonic mean of Recall and Precision: $\\frac{2*Recall*Precision}{Recall + Precission} $"
   ]
  },
  {
   "cell_type": "markdown",
   "metadata": {},
   "source": [
    "# Titanic: Machine Learning from Disaster\n",
    "\n",
    "![](hqdefault.jpg)"
   ]
  },
  {
   "cell_type": "code",
   "execution_count": null,
   "metadata": {},
   "outputs": [],
   "source": []
  },
  {
   "cell_type": "markdown",
   "metadata": {
    "slideshow": {
     "slide_type": "slide"
    }
   },
   "source": [
    "# References\n",
    "* http://fmi.machine-learning.bg/lectures/07-model-validation\n",
    "* http://scikit-learn.org/stable/modules/model_evaluation.html\n",
    "* https://turi.com/learn/userguide/evaluation/classification.html\n",
    "* http://dataaspirant.com/2015/04/11/five-most-popular-similarity-measures-implementation-in-python/\n",
    "* https://en.wikipedia.org/wiki/Cross-validation_(statistics)\n",
    "* https://www.kaggle.com/c/titanic"
   ]
  }
 ],
 "metadata": {
  "celltoolbar": "Slideshow",
  "kernelspec": {
   "display_name": "Python 3",
   "language": "python",
   "name": "python3"
  },
  "language_info": {
   "codemirror_mode": {
    "name": "ipython",
    "version": 3
   },
   "file_extension": ".py",
   "mimetype": "text/x-python",
   "name": "python",
   "nbconvert_exporter": "python",
   "pygments_lexer": "ipython3",
   "version": "3.5.2"
  }
 },
 "nbformat": 4,
 "nbformat_minor": 2
}
