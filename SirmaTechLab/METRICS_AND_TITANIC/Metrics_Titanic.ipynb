{
 "cells": [
  {
   "cell_type": "markdown",
   "metadata": {
    "slideshow": {
     "slide_type": "slide"
    }
   },
   "source": [
    "# Classification and Similarity Metrics.\n",
    "# Cross Validation.\n",
    "# Titanic Dataset.\n",
    "-----------------------------\n",
    "Radoslav Petkov"
   ]
  },
  {
   "cell_type": "markdown",
   "metadata": {
    "slideshow": {
     "slide_type": "slide"
    }
   },
   "source": [
    "### About me\n",
    "--------------\n",
    "* Contact: https://www.linkedin.com/in/radoslav-petkov-8a4a53144/"
   ]
  },
  {
   "cell_type": "markdown",
   "metadata": {
    "slideshow": {
     "slide_type": "slide"
    }
   },
   "source": [
    "# Agenda\n",
    "* Recap\n",
    "    * Supervised vs Unsupervised\n",
    "    * Classification vs Regression\n",
    "* Similarity Metrics\n",
    "    * Euclidian distance\n",
    "    * Manhattan distance\n",
    "    * Cosine similarity\n",
    "* Classification Metrics\n",
    "    * Accuracy\n",
    "    * Confusion Matrix\n",
    "        * Precision\n",
    "        * Recall\n",
    "        * F1\n",
    "* Cross Validation\n",
    "* Titanic"
   ]
  },
  {
   "cell_type": "markdown",
   "metadata": {
    "slideshow": {
     "slide_type": "slide"
    }
   },
   "source": [
    "# Recap\n",
    "\n",
    "### Supervised vs Unsupervised\n",
    "### Classification vs Regression"
   ]
  },
  {
   "cell_type": "markdown",
   "metadata": {
    "slideshow": {
     "slide_type": "slide"
    }
   },
   "source": [
    "# Similarity Metrics\n",
    "\n",
    "Def: Real valued function that measures the similarity between 2 objects (vectors)."
   ]
  },
  {
   "cell_type": "markdown",
   "metadata": {
    "slideshow": {
     "slide_type": "subslide"
    }
   },
   "source": [
    "## Euclidian distance\n",
    "\n",
    "Def : Ordinary straight line distance: $ \\sqrt{\\sum_{i=1}^n (x_i-y_i)^2} $\n",
    "\n",
    "![](euclidean.png)\n",
    "\n"
   ]
  },
  {
   "cell_type": "markdown",
   "metadata": {
    "slideshow": {
     "slide_type": "subslide"
    }
   },
   "source": [
    "## Manhattan distance\n",
    "\n",
    "Def: Simple sum of the horizontal and vertical components $ \\sum_{i=1}^n |x_i-y_i| $\n",
    "\n",
    "![](manhattan.png)"
   ]
  },
  {
   "cell_type": "markdown",
   "metadata": {
    "slideshow": {
     "slide_type": "subslide"
    }
   },
   "source": [
    "## Cosine similarity\n",
    "Def: Measure of similarity between 2 non-zero vectors of a normed space that measures the cosine of the angle between them. $ cos(\\pmb x, \\pmb y) = \\frac {\\pmb x \\cdot \\pmb y}{||\\pmb x|| \\cdot ||\\pmb y||} $\n",
    "\n",
    "![](cosine.png)"
   ]
  },
  {
   "cell_type": "markdown",
   "metadata": {
    "slideshow": {
     "slide_type": "subslide"
    }
   },
   "source": [
    "# Summarized\n",
    "![](cover_post_final.png)"
   ]
  },
  {
   "cell_type": "markdown",
   "metadata": {
    "slideshow": {
     "slide_type": "slide"
    }
   },
   "source": [
    "# Cross Validation\n",
    "\n",
    "### We overfit. We do not have enought data. What we do?"
   ]
  },
  {
   "cell_type": "markdown",
   "metadata": {
    "slideshow": {
     "slide_type": "subslide"
    }
   },
   "source": [
    "# K-Fold Cross Validation\n",
    "\n",
    "\n",
    "Split the dataset in K subsets and use K-1 for training and 1 for testing. The error rate is avaraged over all K trials.\n",
    "![](K-fold_cross_validation_EN.jpg)"
   ]
  },
  {
   "cell_type": "markdown",
   "metadata": {
    "slideshow": {
     "slide_type": "slide"
    }
   },
   "source": [
    "# Classification metrics\n",
    "\n",
    "How to measure the performance of a model?"
   ]
  },
  {
   "cell_type": "markdown",
   "metadata": {
    "slideshow": {
     "slide_type": "subslide"
    }
   },
   "source": [
    "## Accuracy\n",
    "The number of correct predictions from all predictions made.\n",
    "![](accuracy.jpg)"
   ]
  },
  {
   "cell_type": "markdown",
   "metadata": {
    "slideshow": {
     "slide_type": "subslide"
    }
   },
   "source": [
    "Problem statement: \n",
    "\n",
    "Imagine having labels (False and True) distributed like this: \n",
    "***90% False and 10% True***\n",
    "\n",
    "The model that constantly output ***False*** will have ***90%*** accuracy. Not bad. "
   ]
  },
  {
   "cell_type": "markdown",
   "metadata": {
    "slideshow": {
     "slide_type": "subslide"
    }
   },
   "source": [
    "# The solution: Confusion matrix\n",
    "\n",
    "Table that allows visualization of the performance of a supervised algorithm\n",
    "\n",
    "![](sphx_glr_plot_confusion_matrix_002.png)"
   ]
  },
  {
   "cell_type": "markdown",
   "metadata": {
    "slideshow": {
     "slide_type": "subslide"
    }
   },
   "source": [
    "# Binary Confusion Matrix\n",
    "![](confusion_matrix_1.png)"
   ]
  },
  {
   "cell_type": "markdown",
   "metadata": {
    "slideshow": {
     "slide_type": "subslide"
    }
   },
   "source": [
    "## Precision\n",
    "Precision is: $\\frac{TP}{TP + FP}$\n",
    "\n",
    "True Positives divided by the sum of True Positives and False Positives\n",
    "\n",
    "![](confusion_matrix_1.png)"
   ]
  },
  {
   "cell_type": "markdown",
   "metadata": {
    "slideshow": {
     "slide_type": "subslide"
    }
   },
   "source": [
    "## Recall\n",
    "\n",
    "Recall is: $\\frac{TP}{TP + FN}$\n",
    "\n",
    "True Positives divided by the sum of True Positives and False Negatives.\n",
    "![](confusion_matrix_1.png)"
   ]
  },
  {
   "cell_type": "markdown",
   "metadata": {
    "slideshow": {
     "slide_type": "subslide"
    }
   },
   "source": [
    "# F1 score\n",
    "\n",
    "F1 score is the harmonic mean of Recall and Precision: $\\frac{2*Recall*Precision}{Recall + Precission} $"
   ]
  },
  {
   "cell_type": "markdown",
   "metadata": {
    "slideshow": {
     "slide_type": "slide"
    }
   },
   "source": [
    "# Titanic: Machine Learning from Disaster\n",
    "\n",
    "![](hqdefault.jpg)"
   ]
  },
  {
   "cell_type": "markdown",
   "metadata": {
    "slideshow": {
     "slide_type": "subslide"
    }
   },
   "source": [
    "| Variable |\tDefinition |\tKey|\n",
    "--- | --- | ---\n",
    "|survival|\tSurvival|\t0 = No, 1 = Yes\n",
    "|pclass|\tTicket class|\t1 = 1st, 2 = 2nd, 3 = 3rd\n",
    "|sex\t|Sex\t\n",
    "|Age\t|Age in years\t\n",
    "|sibsp|\t# of siblings / spouses aboard the Titanic\t\n",
    "|parch|\t# of parents / children aboard the Titanic\t\n",
    "|ticket\t|Ticket number\t\n",
    "|fare|\tPassenger fare\t\n",
    "|cabin|\tCabin number\t\n",
    "|embarked|\tPort of Embarkation|\tC = Cherbourg, Q = Queenstown, S = Southampton"
   ]
  },
  {
   "cell_type": "code",
   "execution_count": 1,
   "metadata": {
    "slideshow": {
     "slide_type": "fragment"
    }
   },
   "outputs": [
    {
     "name": "stdout",
     "output_type": "stream",
     "text": [
      "Train (668, 11)\n",
      "Test (223, 11)\n"
     ]
    },
    {
     "data": {
      "text/html": [
       "<div>\n",
       "<table border=\"1\" class=\"dataframe\">\n",
       "  <thead>\n",
       "    <tr style=\"text-align: right;\">\n",
       "      <th></th>\n",
       "      <th>Survived</th>\n",
       "      <th>Pclass</th>\n",
       "      <th>Name</th>\n",
       "      <th>Sex</th>\n",
       "      <th>Age</th>\n",
       "      <th>SibSp</th>\n",
       "      <th>Parch</th>\n",
       "      <th>Ticket</th>\n",
       "      <th>Fare</th>\n",
       "      <th>Cabin</th>\n",
       "      <th>Embarked</th>\n",
       "    </tr>\n",
       "    <tr>\n",
       "      <th>PassengerId</th>\n",
       "      <th></th>\n",
       "      <th></th>\n",
       "      <th></th>\n",
       "      <th></th>\n",
       "      <th></th>\n",
       "      <th></th>\n",
       "      <th></th>\n",
       "      <th></th>\n",
       "      <th></th>\n",
       "      <th></th>\n",
       "      <th></th>\n",
       "    </tr>\n",
       "  </thead>\n",
       "  <tbody>\n",
       "    <tr>\n",
       "      <th>684</th>\n",
       "      <td>0</td>\n",
       "      <td>3</td>\n",
       "      <td>Goodwin, Mr. Charles Edward</td>\n",
       "      <td>male</td>\n",
       "      <td>14.0</td>\n",
       "      <td>5</td>\n",
       "      <td>2</td>\n",
       "      <td>CA 2144</td>\n",
       "      <td>46.9000</td>\n",
       "      <td>NaN</td>\n",
       "      <td>S</td>\n",
       "    </tr>\n",
       "    <tr>\n",
       "      <th>422</th>\n",
       "      <td>0</td>\n",
       "      <td>3</td>\n",
       "      <td>Charters, Mr. David</td>\n",
       "      <td>male</td>\n",
       "      <td>21.0</td>\n",
       "      <td>0</td>\n",
       "      <td>0</td>\n",
       "      <td>A/5. 13032</td>\n",
       "      <td>7.7333</td>\n",
       "      <td>NaN</td>\n",
       "      <td>Q</td>\n",
       "    </tr>\n",
       "    <tr>\n",
       "      <th>337</th>\n",
       "      <td>0</td>\n",
       "      <td>1</td>\n",
       "      <td>Pears, Mr. Thomas Clinton</td>\n",
       "      <td>male</td>\n",
       "      <td>29.0</td>\n",
       "      <td>1</td>\n",
       "      <td>0</td>\n",
       "      <td>113776</td>\n",
       "      <td>66.6000</td>\n",
       "      <td>C2</td>\n",
       "      <td>S</td>\n",
       "    </tr>\n",
       "    <tr>\n",
       "      <th>682</th>\n",
       "      <td>1</td>\n",
       "      <td>1</td>\n",
       "      <td>Hassab, Mr. Hammad</td>\n",
       "      <td>male</td>\n",
       "      <td>27.0</td>\n",
       "      <td>0</td>\n",
       "      <td>0</td>\n",
       "      <td>PC 17572</td>\n",
       "      <td>76.7292</td>\n",
       "      <td>D49</td>\n",
       "      <td>C</td>\n",
       "    </tr>\n",
       "    <tr>\n",
       "      <th>611</th>\n",
       "      <td>0</td>\n",
       "      <td>3</td>\n",
       "      <td>Andersson, Mrs. Anders Johan (Alfrida Konstant...</td>\n",
       "      <td>female</td>\n",
       "      <td>39.0</td>\n",
       "      <td>1</td>\n",
       "      <td>5</td>\n",
       "      <td>347082</td>\n",
       "      <td>31.2750</td>\n",
       "      <td>NaN</td>\n",
       "      <td>S</td>\n",
       "    </tr>\n",
       "  </tbody>\n",
       "</table>\n",
       "</div>"
      ],
      "text/plain": [
       "             Survived  Pclass  \\\n",
       "PassengerId                     \n",
       "684                 0       3   \n",
       "422                 0       3   \n",
       "337                 0       1   \n",
       "682                 1       1   \n",
       "611                 0       3   \n",
       "\n",
       "                                                          Name     Sex   Age  \\\n",
       "PassengerId                                                                    \n",
       "684                                Goodwin, Mr. Charles Edward    male  14.0   \n",
       "422                                        Charters, Mr. David    male  21.0   \n",
       "337                                  Pears, Mr. Thomas Clinton    male  29.0   \n",
       "682                                         Hassab, Mr. Hammad    male  27.0   \n",
       "611          Andersson, Mrs. Anders Johan (Alfrida Konstant...  female  39.0   \n",
       "\n",
       "             SibSp  Parch      Ticket     Fare Cabin Embarked  \n",
       "PassengerId                                                    \n",
       "684              5      2     CA 2144  46.9000   NaN        S  \n",
       "422              0      0  A/5. 13032   7.7333   NaN        Q  \n",
       "337              1      0      113776  66.6000    C2        S  \n",
       "682              0      0    PC 17572  76.7292   D49        C  \n",
       "611              1      5      347082  31.2750   NaN        S  "
      ]
     },
     "execution_count": 1,
     "metadata": {},
     "output_type": "execute_result"
    }
   ],
   "source": [
    "import pandas as pd\n",
    "from sklearn.model_selection import train_test_split\n",
    "\n",
    "data = pd.read_csv('https://raw.githubusercontent.com/radpet/fmi-ml/master/titanic/train.csv', index_col='PassengerId')\n",
    "\n",
    "train,test = train_test_split(data, stratify=data['Survived'], random_state=123)\n",
    "print('Train', train.shape)\n",
    "print('Test', test.shape)\n",
    "train.head()"
   ]
  },
  {
   "cell_type": "code",
   "execution_count": 2,
   "metadata": {
    "slideshow": {
     "slide_type": "subslide"
    }
   },
   "outputs": [
    {
     "data": {
      "image/png": "[encoded data removed]",
      "text/plain": [
       "<matplotlib.figure.Figure at 0x7fa065a600b8>"
      ]
     },
     "metadata": {},
     "output_type": "display_data"
    }
   ],
   "source": [
    "import matplotlib.pyplot as plt\n",
    "train['Survived'].value_counts().plot(kind='bar', title='Survival rate')\n",
    "plt.show()"
   ]
  },
  {
   "cell_type": "markdown",
   "metadata": {
    "slideshow": {
     "slide_type": "subslide"
    }
   },
   "source": [
    "# Now lets explore how some of the variables affect the survival"
   ]
  },
  {
   "cell_type": "code",
   "execution_count": 3,
   "metadata": {
    "slideshow": {
     "slide_type": "subslide"
    }
   },
   "outputs": [
    {
     "data": {
      "image/png": "[encoded data removed]",
      "text/plain": [
       "<matplotlib.figure.Figure at 0x7fa061d1c438>"
      ]
     },
     "metadata": {},
     "output_type": "display_data"
    }
   ],
   "source": [
    "fig = plt.figure(figsize=(10,10))\n",
    "fig.subplots_adjust(wspace=0.5)\n",
    "fig.add_subplot(2, 3, 1)\n",
    "train['Pclass'].value_counts(sort=False).plot(kind=\"bar\", title=\"Class\")\n",
    "fig.add_subplot(2, 3, 2)\n",
    "train[ train['Survived'] == 1]['Pclass'].value_counts(sort=False).sort_index().plot(kind='bar', title='Survived')\n",
    "plt.show()"
   ]
  },
  {
   "cell_type": "code",
   "execution_count": 4,
   "metadata": {
    "slideshow": {
     "slide_type": "subslide"
    }
   },
   "outputs": [
    {
     "data": {
      "image/png": "[encoded data removed]",
      "text/plain": [
       "<matplotlib.figure.Figure at 0x7fa061cbdfd0>"
      ]
     },
     "metadata": {},
     "output_type": "display_data"
    }
   ],
   "source": [
    "fig = plt.figure(figsize=(10,10))\n",
    "fig.subplots_adjust(wspace=0.5)\n",
    "fig.add_subplot(2, 3,1)\n",
    "train['Sex'].value_counts(sort=False).sort_index().plot(kind=\"bar\", title=\"Sex\")\n",
    "fig.add_subplot(2, 3,2)\n",
    "train[ train['Survived'] == 1]['Sex'].value_counts(sort=False).sort_index().plot(kind='bar', title='Survive')\n",
    "plt.show()"
   ]
  },
  {
   "cell_type": "code",
   "execution_count": 5,
   "metadata": {
    "slideshow": {
     "slide_type": "subslide"
    }
   },
   "outputs": [
    {
     "data": {
      "image/png": "[encoded data removed]",
      "text/plain": [
       "<matplotlib.figure.Figure at 0x7fa061c421d0>"
      ]
     },
     "metadata": {},
     "output_type": "display_data"
    }
   ],
   "source": [
    "import matplotlib.pyplot as plt\n",
    "fig = plt.figure(figsize=(10, 10))\n",
    "fig.subplots_adjust(wspace=0.5)\n",
    "fig.add_subplot(2, 3, 1)\n",
    "train['Embarked'].value_counts(sort=False).sort_index().plot(kind=\"bar\", title=\"Embarked\")\n",
    "fig.add_subplot(2, 3, 2)\n",
    "train[ train['Survived'] == 1]['Embarked'].value_counts(sort=False).sort_index().plot(kind='bar', title='Survive')\n",
    "plt.show()"
   ]
  },
  {
   "cell_type": "code",
   "execution_count": 6,
   "metadata": {
    "slideshow": {
     "slide_type": "subslide"
    }
   },
   "outputs": [
    {
     "data": {
      "text/plain": [
       "Survived      0\n",
       "Pclass        0\n",
       "Name          0\n",
       "Sex           0\n",
       "Age         131\n",
       "SibSp         0\n",
       "Parch         0\n",
       "Ticket        0\n",
       "Fare          0\n",
       "Cabin       532\n",
       "Embarked      1\n",
       "dtype: int64"
      ]
     },
     "execution_count": 6,
     "metadata": {},
     "output_type": "execute_result"
    }
   ],
   "source": [
    "train.isnull().sum()"
   ]
  },
  {
   "cell_type": "markdown",
   "metadata": {
    "slideshow": {
     "slide_type": "fragment"
    }
   },
   "source": [
    "### We have missing data! What can we do now?\n",
    "\n",
    "* Remove whole sample\n",
    "* Fill with mean\n",
    "* Fill with data augmentation\n",
    "* Create model that predicts the missing values"
   ]
  },
  {
   "cell_type": "markdown",
   "metadata": {
    "slideshow": {
     "slide_type": "subslide"
    }
   },
   "source": [
    "# Lets explore the data more and find if we can find a way to fill Age,Cabin,Embarked\n",
    "\n",
    "Lets look what the names might tell us. A quick search in wikipedia (https://en.wikipedia.org/wiki/English_honorifics) gives:\n",
    "\n",
    "* Master: for boys or young men and as a title for the heir apparent of a Scottish baron or viscount.\n",
    "* Mr: for men, regardless of marital status, who do not have another professional or academic title\n",
    "* Miss: for girls, unmarried women and (in the UK) married women who continue to use their maiden name (although \"Ms\" is often preferred for the last two). \n",
    "* Ms: for women, regardless of marital status or when marital status is unknown."
   ]
  },
  {
   "cell_type": "code",
   "execution_count": 7,
   "metadata": {
    "slideshow": {
     "slide_type": "subslide"
    }
   },
   "outputs": [
    {
     "data": {
      "text/html": [
       "<div>\n",
       "<table border=\"1\" class=\"dataframe\">\n",
       "  <thead>\n",
       "    <tr style=\"text-align: right;\">\n",
       "      <th></th>\n",
       "      <th>Survived</th>\n",
       "      <th>Pclass</th>\n",
       "      <th>Name</th>\n",
       "      <th>Sex</th>\n",
       "      <th>Age</th>\n",
       "      <th>SibSp</th>\n",
       "      <th>Parch</th>\n",
       "      <th>Ticket</th>\n",
       "      <th>Fare</th>\n",
       "      <th>Cabin</th>\n",
       "      <th>Embarked</th>\n",
       "    </tr>\n",
       "    <tr>\n",
       "      <th>PassengerId</th>\n",
       "      <th></th>\n",
       "      <th></th>\n",
       "      <th></th>\n",
       "      <th></th>\n",
       "      <th></th>\n",
       "      <th></th>\n",
       "      <th></th>\n",
       "      <th></th>\n",
       "      <th></th>\n",
       "      <th></th>\n",
       "      <th></th>\n",
       "    </tr>\n",
       "  </thead>\n",
       "  <tbody>\n",
       "    <tr>\n",
       "      <th>64</th>\n",
       "      <td>0</td>\n",
       "      <td>3</td>\n",
       "      <td>Skoog, Master. Harald</td>\n",
       "      <td>male</td>\n",
       "      <td>4.0</td>\n",
       "      <td>3</td>\n",
       "      <td>2</td>\n",
       "      <td>347088</td>\n",
       "      <td>27.9000</td>\n",
       "      <td>NaN</td>\n",
       "      <td>S</td>\n",
       "    </tr>\n",
       "    <tr>\n",
       "      <th>60</th>\n",
       "      <td>0</td>\n",
       "      <td>3</td>\n",
       "      <td>Goodwin, Master. William Frederick</td>\n",
       "      <td>male</td>\n",
       "      <td>11.0</td>\n",
       "      <td>5</td>\n",
       "      <td>2</td>\n",
       "      <td>CA 2144</td>\n",
       "      <td>46.9000</td>\n",
       "      <td>NaN</td>\n",
       "      <td>S</td>\n",
       "    </tr>\n",
       "    <tr>\n",
       "      <th>870</th>\n",
       "      <td>1</td>\n",
       "      <td>3</td>\n",
       "      <td>Johnson, Master. Harold Theodor</td>\n",
       "      <td>male</td>\n",
       "      <td>4.0</td>\n",
       "      <td>1</td>\n",
       "      <td>1</td>\n",
       "      <td>347742</td>\n",
       "      <td>11.1333</td>\n",
       "      <td>NaN</td>\n",
       "      <td>S</td>\n",
       "    </tr>\n",
       "    <tr>\n",
       "      <th>165</th>\n",
       "      <td>0</td>\n",
       "      <td>3</td>\n",
       "      <td>Panula, Master. Eino Viljami</td>\n",
       "      <td>male</td>\n",
       "      <td>1.0</td>\n",
       "      <td>4</td>\n",
       "      <td>1</td>\n",
       "      <td>3101295</td>\n",
       "      <td>39.6875</td>\n",
       "      <td>NaN</td>\n",
       "      <td>S</td>\n",
       "    </tr>\n",
       "    <tr>\n",
       "      <th>536</th>\n",
       "      <td>1</td>\n",
       "      <td>2</td>\n",
       "      <td>Hart, Miss. Eva Miriam</td>\n",
       "      <td>female</td>\n",
       "      <td>7.0</td>\n",
       "      <td>0</td>\n",
       "      <td>2</td>\n",
       "      <td>F.C.C. 13529</td>\n",
       "      <td>26.2500</td>\n",
       "      <td>NaN</td>\n",
       "      <td>S</td>\n",
       "    </tr>\n",
       "  </tbody>\n",
       "</table>\n",
       "</div>"
      ],
      "text/plain": [
       "             Survived  Pclass                                Name     Sex  \\\n",
       "PassengerId                                                                 \n",
       "64                  0       3               Skoog, Master. Harald    male   \n",
       "60                  0       3  Goodwin, Master. William Frederick    male   \n",
       "870                 1       3     Johnson, Master. Harold Theodor    male   \n",
       "165                 0       3        Panula, Master. Eino Viljami    male   \n",
       "536                 1       2              Hart, Miss. Eva Miriam  female   \n",
       "\n",
       "              Age  SibSp  Parch        Ticket     Fare Cabin Embarked  \n",
       "PassengerId                                                            \n",
       "64            4.0      3      2        347088  27.9000   NaN        S  \n",
       "60           11.0      5      2       CA 2144  46.9000   NaN        S  \n",
       "870           4.0      1      1        347742  11.1333   NaN        S  \n",
       "165           1.0      4      1       3101295  39.6875   NaN        S  \n",
       "536           7.0      0      2  F.C.C. 13529  26.2500   NaN        S  "
      ]
     },
     "execution_count": 7,
     "metadata": {},
     "output_type": "execute_result"
    }
   ],
   "source": [
    "train[ train['Age']<12].head()"
   ]
  },
  {
   "cell_type": "code",
   "execution_count": 8,
   "metadata": {
    "slideshow": {
     "slide_type": "fragment"
    }
   },
   "outputs": [
    {
     "data": {
      "text/html": [
       "<div>\n",
       "<table border=\"1\" class=\"dataframe\">\n",
       "  <thead>\n",
       "    <tr style=\"text-align: right;\">\n",
       "      <th></th>\n",
       "      <th>Survived</th>\n",
       "      <th>Pclass</th>\n",
       "      <th>Name</th>\n",
       "      <th>Sex</th>\n",
       "      <th>Age</th>\n",
       "      <th>SibSp</th>\n",
       "      <th>Parch</th>\n",
       "      <th>Ticket</th>\n",
       "      <th>Fare</th>\n",
       "      <th>Cabin</th>\n",
       "      <th>Embarked</th>\n",
       "    </tr>\n",
       "    <tr>\n",
       "      <th>PassengerId</th>\n",
       "      <th></th>\n",
       "      <th></th>\n",
       "      <th></th>\n",
       "      <th></th>\n",
       "      <th></th>\n",
       "      <th></th>\n",
       "      <th></th>\n",
       "      <th></th>\n",
       "      <th></th>\n",
       "      <th></th>\n",
       "      <th></th>\n",
       "    </tr>\n",
       "  </thead>\n",
       "  <tbody>\n",
       "    <tr>\n",
       "      <th>684</th>\n",
       "      <td>0</td>\n",
       "      <td>3</td>\n",
       "      <td>Goodwin, Mr. Charles Edward</td>\n",
       "      <td>male</td>\n",
       "      <td>14.0</td>\n",
       "      <td>5</td>\n",
       "      <td>2</td>\n",
       "      <td>CA 2144</td>\n",
       "      <td>46.9000</td>\n",
       "      <td>NaN</td>\n",
       "      <td>S</td>\n",
       "    </tr>\n",
       "    <tr>\n",
       "      <th>422</th>\n",
       "      <td>0</td>\n",
       "      <td>3</td>\n",
       "      <td>Charters, Mr. David</td>\n",
       "      <td>male</td>\n",
       "      <td>21.0</td>\n",
       "      <td>0</td>\n",
       "      <td>0</td>\n",
       "      <td>A/5. 13032</td>\n",
       "      <td>7.7333</td>\n",
       "      <td>NaN</td>\n",
       "      <td>Q</td>\n",
       "    </tr>\n",
       "    <tr>\n",
       "      <th>337</th>\n",
       "      <td>0</td>\n",
       "      <td>1</td>\n",
       "      <td>Pears, Mr. Thomas Clinton</td>\n",
       "      <td>male</td>\n",
       "      <td>29.0</td>\n",
       "      <td>1</td>\n",
       "      <td>0</td>\n",
       "      <td>113776</td>\n",
       "      <td>66.6000</td>\n",
       "      <td>C2</td>\n",
       "      <td>S</td>\n",
       "    </tr>\n",
       "    <tr>\n",
       "      <th>682</th>\n",
       "      <td>1</td>\n",
       "      <td>1</td>\n",
       "      <td>Hassab, Mr. Hammad</td>\n",
       "      <td>male</td>\n",
       "      <td>27.0</td>\n",
       "      <td>0</td>\n",
       "      <td>0</td>\n",
       "      <td>PC 17572</td>\n",
       "      <td>76.7292</td>\n",
       "      <td>D49</td>\n",
       "      <td>C</td>\n",
       "    </tr>\n",
       "    <tr>\n",
       "      <th>611</th>\n",
       "      <td>0</td>\n",
       "      <td>3</td>\n",
       "      <td>Andersson, Mrs. Anders Johan (Alfrida Konstant...</td>\n",
       "      <td>female</td>\n",
       "      <td>39.0</td>\n",
       "      <td>1</td>\n",
       "      <td>5</td>\n",
       "      <td>347082</td>\n",
       "      <td>31.2750</td>\n",
       "      <td>NaN</td>\n",
       "      <td>S</td>\n",
       "    </tr>\n",
       "  </tbody>\n",
       "</table>\n",
       "</div>"
      ],
      "text/plain": [
       "             Survived  Pclass  \\\n",
       "PassengerId                     \n",
       "684                 0       3   \n",
       "422                 0       3   \n",
       "337                 0       1   \n",
       "682                 1       1   \n",
       "611                 0       3   \n",
       "\n",
       "                                                          Name     Sex   Age  \\\n",
       "PassengerId                                                                    \n",
       "684                                Goodwin, Mr. Charles Edward    male  14.0   \n",
       "422                                        Charters, Mr. David    male  21.0   \n",
       "337                                  Pears, Mr. Thomas Clinton    male  29.0   \n",
       "682                                         Hassab, Mr. Hammad    male  27.0   \n",
       "611          Andersson, Mrs. Anders Johan (Alfrida Konstant...  female  39.0   \n",
       "\n",
       "             SibSp  Parch      Ticket     Fare Cabin Embarked  \n",
       "PassengerId                                                    \n",
       "684              5      2     CA 2144  46.9000   NaN        S  \n",
       "422              0      0  A/5. 13032   7.7333   NaN        Q  \n",
       "337              1      0      113776  66.6000    C2        S  \n",
       "682              0      0    PC 17572  76.7292   D49        C  \n",
       "611              1      5      347082  31.2750   NaN        S  "
      ]
     },
     "execution_count": 8,
     "metadata": {},
     "output_type": "execute_result"
    }
   ],
   "source": [
    "train[ train['Age']>12].head()"
   ]
  },
  {
   "cell_type": "code",
   "execution_count": 9,
   "metadata": {
    "slideshow": {
     "slide_type": "notes"
    }
   },
   "outputs": [
    {
     "name": "stdout",
     "output_type": "stream",
     "text": [
      "{'Mrs.': 35.53012048192771, 'Master.': 4.2279999999999998, 'Mr.': 31.506644518272424, 'Miss': 22.323809523809523}\n",
      "0\n"
     ]
    }
   ],
   "source": [
    "import numpy as np\n",
    "title_list = ['Mr.', 'Master.', 'Mrs.', 'Miss']\n",
    "def fill_age(dataset):\n",
    "    dt = dataset.copy()\n",
    "    def map_names(name):\n",
    "        for title in title_list:\n",
    "            if title in name:\n",
    "                return title\n",
    "        return 'Unknown'\n",
    "\n",
    "    dt['Name'] = dt['Name'].map(map_names)\n",
    "\n",
    "    def slice_and_get_mean_age_by_name(name):\n",
    "        return dt.loc[dt['Name'] == name, 'Age'].mean()\n",
    "\n",
    "    age_means = {title:slice_and_get_mean_age_by_name(title) for title in title_list}\n",
    "    print(age_means)\n",
    "    def fill_age(person):\n",
    "        if person['Name'] == 'Unknown':\n",
    "            person['Age'] = dt['Age'].mean()\n",
    "        else:\n",
    "            if pd.isnull(person['Age']):\n",
    "                person['Age'] = age_means[person['Name']]\n",
    "        return person\n",
    "       \n",
    "    \n",
    "    dt = dt.apply(fill_age, axis=1)\n",
    "    \n",
    "    print(dt['Age'].isnull().sum())\n",
    "    return dt\n",
    "train_filled = fill_age(train)\n"
   ]
  },
  {
   "cell_type": "code",
   "execution_count": 47,
   "metadata": {
    "slideshow": {
     "slide_type": "subslide"
    }
   },
   "outputs": [
    {
     "data": {
      "text/html": [
       "<div>\n",
       "<table border=\"1\" class=\"dataframe\">\n",
       "  <thead>\n",
       "    <tr style=\"text-align: right;\">\n",
       "      <th></th>\n",
       "      <th>Survived</th>\n",
       "      <th>Pclass</th>\n",
       "      <th>Name</th>\n",
       "      <th>Sex</th>\n",
       "      <th>Age</th>\n",
       "      <th>SibSp</th>\n",
       "      <th>Parch</th>\n",
       "      <th>Ticket</th>\n",
       "      <th>Fare</th>\n",
       "      <th>Cabin</th>\n",
       "      <th>Embarked</th>\n",
       "    </tr>\n",
       "    <tr>\n",
       "      <th>PassengerId</th>\n",
       "      <th></th>\n",
       "      <th></th>\n",
       "      <th></th>\n",
       "      <th></th>\n",
       "      <th></th>\n",
       "      <th></th>\n",
       "      <th></th>\n",
       "      <th></th>\n",
       "      <th></th>\n",
       "      <th></th>\n",
       "      <th></th>\n",
       "    </tr>\n",
       "  </thead>\n",
       "  <tbody>\n",
       "    <tr>\n",
       "      <th>155</th>\n",
       "      <td>0</td>\n",
       "      <td>3</td>\n",
       "      <td>Olsen, Mr. Ole Martin</td>\n",
       "      <td>male</td>\n",
       "      <td>NaN</td>\n",
       "      <td>0</td>\n",
       "      <td>0</td>\n",
       "      <td>Fa 265302</td>\n",
       "      <td>7.3125</td>\n",
       "      <td>NaN</td>\n",
       "      <td>S</td>\n",
       "    </tr>\n",
       "    <tr>\n",
       "      <th>465</th>\n",
       "      <td>0</td>\n",
       "      <td>3</td>\n",
       "      <td>Maisner, Mr. Simon</td>\n",
       "      <td>male</td>\n",
       "      <td>NaN</td>\n",
       "      <td>0</td>\n",
       "      <td>0</td>\n",
       "      <td>A/S 2816</td>\n",
       "      <td>8.0500</td>\n",
       "      <td>NaN</td>\n",
       "      <td>S</td>\n",
       "    </tr>\n",
       "    <tr>\n",
       "      <th>670</th>\n",
       "      <td>1</td>\n",
       "      <td>1</td>\n",
       "      <td>Taylor, Mrs. Elmer Zebley (Juliet Cummins Wright)</td>\n",
       "      <td>female</td>\n",
       "      <td>NaN</td>\n",
       "      <td>1</td>\n",
       "      <td>0</td>\n",
       "      <td>19996</td>\n",
       "      <td>52.0000</td>\n",
       "      <td>C126</td>\n",
       "      <td>S</td>\n",
       "    </tr>\n",
       "    <tr>\n",
       "      <th>539</th>\n",
       "      <td>0</td>\n",
       "      <td>3</td>\n",
       "      <td>Risien, Mr. Samuel Beard</td>\n",
       "      <td>male</td>\n",
       "      <td>NaN</td>\n",
       "      <td>0</td>\n",
       "      <td>0</td>\n",
       "      <td>364498</td>\n",
       "      <td>14.5000</td>\n",
       "      <td>NaN</td>\n",
       "      <td>S</td>\n",
       "    </tr>\n",
       "    <tr>\n",
       "      <th>733</th>\n",
       "      <td>0</td>\n",
       "      <td>2</td>\n",
       "      <td>Knight, Mr. Robert J</td>\n",
       "      <td>male</td>\n",
       "      <td>NaN</td>\n",
       "      <td>0</td>\n",
       "      <td>0</td>\n",
       "      <td>239855</td>\n",
       "      <td>0.0000</td>\n",
       "      <td>NaN</td>\n",
       "      <td>S</td>\n",
       "    </tr>\n",
       "    <tr>\n",
       "      <th>634</th>\n",
       "      <td>0</td>\n",
       "      <td>1</td>\n",
       "      <td>Parr, Mr. William Henry Marsh</td>\n",
       "      <td>male</td>\n",
       "      <td>NaN</td>\n",
       "      <td>0</td>\n",
       "      <td>0</td>\n",
       "      <td>112052</td>\n",
       "      <td>0.0000</td>\n",
       "      <td>NaN</td>\n",
       "      <td>S</td>\n",
       "    </tr>\n",
       "    <tr>\n",
       "      <th>412</th>\n",
       "      <td>0</td>\n",
       "      <td>3</td>\n",
       "      <td>Hart, Mr. Henry</td>\n",
       "      <td>male</td>\n",
       "      <td>NaN</td>\n",
       "      <td>0</td>\n",
       "      <td>0</td>\n",
       "      <td>394140</td>\n",
       "      <td>6.8583</td>\n",
       "      <td>NaN</td>\n",
       "      <td>Q</td>\n",
       "    </tr>\n",
       "    <tr>\n",
       "      <th>649</th>\n",
       "      <td>0</td>\n",
       "      <td>3</td>\n",
       "      <td>Willey, Mr. Edward</td>\n",
       "      <td>male</td>\n",
       "      <td>NaN</td>\n",
       "      <td>0</td>\n",
       "      <td>0</td>\n",
       "      <td>S.O./P.P. 751</td>\n",
       "      <td>7.5500</td>\n",
       "      <td>NaN</td>\n",
       "      <td>S</td>\n",
       "    </tr>\n",
       "    <tr>\n",
       "      <th>296</th>\n",
       "      <td>0</td>\n",
       "      <td>1</td>\n",
       "      <td>Lewy, Mr. Ervin G</td>\n",
       "      <td>male</td>\n",
       "      <td>NaN</td>\n",
       "      <td>0</td>\n",
       "      <td>0</td>\n",
       "      <td>PC 17612</td>\n",
       "      <td>27.7208</td>\n",
       "      <td>NaN</td>\n",
       "      <td>C</td>\n",
       "    </tr>\n",
       "    <tr>\n",
       "      <th>65</th>\n",
       "      <td>0</td>\n",
       "      <td>1</td>\n",
       "      <td>Stewart, Mr. Albert A</td>\n",
       "      <td>male</td>\n",
       "      <td>NaN</td>\n",
       "      <td>0</td>\n",
       "      <td>0</td>\n",
       "      <td>PC 17605</td>\n",
       "      <td>27.7208</td>\n",
       "      <td>NaN</td>\n",
       "      <td>C</td>\n",
       "    </tr>\n",
       "  </tbody>\n",
       "</table>\n",
       "</div>"
      ],
      "text/plain": [
       "             Survived  Pclass  \\\n",
       "PassengerId                     \n",
       "155                 0       3   \n",
       "465                 0       3   \n",
       "670                 1       1   \n",
       "539                 0       3   \n",
       "733                 0       2   \n",
       "634                 0       1   \n",
       "412                 0       3   \n",
       "649                 0       3   \n",
       "296                 0       1   \n",
       "65                  0       1   \n",
       "\n",
       "                                                          Name     Sex  Age  \\\n",
       "PassengerId                                                                   \n",
       "155                                      Olsen, Mr. Ole Martin    male  NaN   \n",
       "465                                         Maisner, Mr. Simon    male  NaN   \n",
       "670          Taylor, Mrs. Elmer Zebley (Juliet Cummins Wright)  female  NaN   \n",
       "539                                   Risien, Mr. Samuel Beard    male  NaN   \n",
       "733                                       Knight, Mr. Robert J    male  NaN   \n",
       "634                              Parr, Mr. William Henry Marsh    male  NaN   \n",
       "412                                            Hart, Mr. Henry    male  NaN   \n",
       "649                                         Willey, Mr. Edward    male  NaN   \n",
       "296                                          Lewy, Mr. Ervin G    male  NaN   \n",
       "65                                       Stewart, Mr. Albert A    male  NaN   \n",
       "\n",
       "             SibSp  Parch         Ticket     Fare Cabin Embarked  \n",
       "PassengerId                                                       \n",
       "155              0      0      Fa 265302   7.3125   NaN        S  \n",
       "465              0      0       A/S 2816   8.0500   NaN        S  \n",
       "670              1      0          19996  52.0000  C126        S  \n",
       "539              0      0         364498  14.5000   NaN        S  \n",
       "733              0      0         239855   0.0000   NaN        S  \n",
       "634              0      0         112052   0.0000   NaN        S  \n",
       "412              0      0         394140   6.8583   NaN        Q  \n",
       "649              0      0  S.O./P.P. 751   7.5500   NaN        S  \n",
       "296              0      0       PC 17612  27.7208   NaN        C  \n",
       "65               0      0       PC 17605  27.7208   NaN        C  "
      ]
     },
     "execution_count": 47,
     "metadata": {},
     "output_type": "execute_result"
    }
   ],
   "source": [
    "null_age_idx = train[train['Age'].isnull()][:10].index\n",
    "train[train['Age'].isnull()][:10]"
   ]
  },
  {
   "cell_type": "code",
   "execution_count": 48,
   "metadata": {
    "slideshow": {
     "slide_type": "fragment"
    }
   },
   "outputs": [
    {
     "data": {
      "text/html": [
       "<div>\n",
       "<table border=\"1\" class=\"dataframe\">\n",
       "  <thead>\n",
       "    <tr style=\"text-align: right;\">\n",
       "      <th></th>\n",
       "      <th>Survived</th>\n",
       "      <th>Pclass</th>\n",
       "      <th>Name</th>\n",
       "      <th>Sex</th>\n",
       "      <th>Age</th>\n",
       "      <th>SibSp</th>\n",
       "      <th>Parch</th>\n",
       "      <th>Ticket</th>\n",
       "      <th>Fare</th>\n",
       "      <th>Cabin</th>\n",
       "      <th>Embarked</th>\n",
       "    </tr>\n",
       "    <tr>\n",
       "      <th>PassengerId</th>\n",
       "      <th></th>\n",
       "      <th></th>\n",
       "      <th></th>\n",
       "      <th></th>\n",
       "      <th></th>\n",
       "      <th></th>\n",
       "      <th></th>\n",
       "      <th></th>\n",
       "      <th></th>\n",
       "      <th></th>\n",
       "      <th></th>\n",
       "    </tr>\n",
       "  </thead>\n",
       "  <tbody>\n",
       "    <tr>\n",
       "      <th>155</th>\n",
       "      <td>0</td>\n",
       "      <td>3</td>\n",
       "      <td>Mr.</td>\n",
       "      <td>male</td>\n",
       "      <td>31.506645</td>\n",
       "      <td>0</td>\n",
       "      <td>0</td>\n",
       "      <td>Fa 265302</td>\n",
       "      <td>7.3125</td>\n",
       "      <td>NaN</td>\n",
       "      <td>S</td>\n",
       "    </tr>\n",
       "    <tr>\n",
       "      <th>465</th>\n",
       "      <td>0</td>\n",
       "      <td>3</td>\n",
       "      <td>Mr.</td>\n",
       "      <td>male</td>\n",
       "      <td>31.506645</td>\n",
       "      <td>0</td>\n",
       "      <td>0</td>\n",
       "      <td>A/S 2816</td>\n",
       "      <td>8.0500</td>\n",
       "      <td>NaN</td>\n",
       "      <td>S</td>\n",
       "    </tr>\n",
       "    <tr>\n",
       "      <th>670</th>\n",
       "      <td>1</td>\n",
       "      <td>1</td>\n",
       "      <td>Mrs.</td>\n",
       "      <td>female</td>\n",
       "      <td>35.530120</td>\n",
       "      <td>1</td>\n",
       "      <td>0</td>\n",
       "      <td>19996</td>\n",
       "      <td>52.0000</td>\n",
       "      <td>C126</td>\n",
       "      <td>S</td>\n",
       "    </tr>\n",
       "    <tr>\n",
       "      <th>539</th>\n",
       "      <td>0</td>\n",
       "      <td>3</td>\n",
       "      <td>Mr.</td>\n",
       "      <td>male</td>\n",
       "      <td>31.506645</td>\n",
       "      <td>0</td>\n",
       "      <td>0</td>\n",
       "      <td>364498</td>\n",
       "      <td>14.5000</td>\n",
       "      <td>NaN</td>\n",
       "      <td>S</td>\n",
       "    </tr>\n",
       "    <tr>\n",
       "      <th>733</th>\n",
       "      <td>0</td>\n",
       "      <td>2</td>\n",
       "      <td>Mr.</td>\n",
       "      <td>male</td>\n",
       "      <td>31.506645</td>\n",
       "      <td>0</td>\n",
       "      <td>0</td>\n",
       "      <td>239855</td>\n",
       "      <td>0.0000</td>\n",
       "      <td>NaN</td>\n",
       "      <td>S</td>\n",
       "    </tr>\n",
       "    <tr>\n",
       "      <th>634</th>\n",
       "      <td>0</td>\n",
       "      <td>1</td>\n",
       "      <td>Mr.</td>\n",
       "      <td>male</td>\n",
       "      <td>31.506645</td>\n",
       "      <td>0</td>\n",
       "      <td>0</td>\n",
       "      <td>112052</td>\n",
       "      <td>0.0000</td>\n",
       "      <td>NaN</td>\n",
       "      <td>S</td>\n",
       "    </tr>\n",
       "    <tr>\n",
       "      <th>412</th>\n",
       "      <td>0</td>\n",
       "      <td>3</td>\n",
       "      <td>Mr.</td>\n",
       "      <td>male</td>\n",
       "      <td>31.506645</td>\n",
       "      <td>0</td>\n",
       "      <td>0</td>\n",
       "      <td>394140</td>\n",
       "      <td>6.8583</td>\n",
       "      <td>NaN</td>\n",
       "      <td>Q</td>\n",
       "    </tr>\n",
       "    <tr>\n",
       "      <th>649</th>\n",
       "      <td>0</td>\n",
       "      <td>3</td>\n",
       "      <td>Mr.</td>\n",
       "      <td>male</td>\n",
       "      <td>31.506645</td>\n",
       "      <td>0</td>\n",
       "      <td>0</td>\n",
       "      <td>S.O./P.P. 751</td>\n",
       "      <td>7.5500</td>\n",
       "      <td>NaN</td>\n",
       "      <td>S</td>\n",
       "    </tr>\n",
       "    <tr>\n",
       "      <th>296</th>\n",
       "      <td>0</td>\n",
       "      <td>1</td>\n",
       "      <td>Mr.</td>\n",
       "      <td>male</td>\n",
       "      <td>31.506645</td>\n",
       "      <td>0</td>\n",
       "      <td>0</td>\n",
       "      <td>PC 17612</td>\n",
       "      <td>27.7208</td>\n",
       "      <td>NaN</td>\n",
       "      <td>C</td>\n",
       "    </tr>\n",
       "    <tr>\n",
       "      <th>65</th>\n",
       "      <td>0</td>\n",
       "      <td>1</td>\n",
       "      <td>Mr.</td>\n",
       "      <td>male</td>\n",
       "      <td>31.506645</td>\n",
       "      <td>0</td>\n",
       "      <td>0</td>\n",
       "      <td>PC 17605</td>\n",
       "      <td>27.7208</td>\n",
       "      <td>NaN</td>\n",
       "      <td>C</td>\n",
       "    </tr>\n",
       "  </tbody>\n",
       "</table>\n",
       "</div>"
      ],
      "text/plain": [
       "             Survived  Pclass  Name     Sex        Age  SibSp  Parch  \\\n",
       "PassengerId                                                            \n",
       "155                 0       3   Mr.    male  31.506645      0      0   \n",
       "465                 0       3   Mr.    male  31.506645      0      0   \n",
       "670                 1       1  Mrs.  female  35.530120      1      0   \n",
       "539                 0       3   Mr.    male  31.506645      0      0   \n",
       "733                 0       2   Mr.    male  31.506645      0      0   \n",
       "634                 0       1   Mr.    male  31.506645      0      0   \n",
       "412                 0       3   Mr.    male  31.506645      0      0   \n",
       "649                 0       3   Mr.    male  31.506645      0      0   \n",
       "296                 0       1   Mr.    male  31.506645      0      0   \n",
       "65                  0       1   Mr.    male  31.506645      0      0   \n",
       "\n",
       "                    Ticket     Fare Cabin Embarked  \n",
       "PassengerId                                         \n",
       "155              Fa 265302   7.3125   NaN        S  \n",
       "465               A/S 2816   8.0500   NaN        S  \n",
       "670                  19996  52.0000  C126        S  \n",
       "539                 364498  14.5000   NaN        S  \n",
       "733                 239855   0.0000   NaN        S  \n",
       "634                 112052   0.0000   NaN        S  \n",
       "412                 394140   6.8583   NaN        Q  \n",
       "649          S.O./P.P. 751   7.5500   NaN        S  \n",
       "296               PC 17612  27.7208   NaN        C  \n",
       "65                PC 17605  27.7208   NaN        C  "
      ]
     },
     "execution_count": 48,
     "metadata": {},
     "output_type": "execute_result"
    }
   ],
   "source": [
    "train_filled.loc[null_age_idx]"
   ]
  },
  {
   "cell_type": "code",
   "execution_count": 61,
   "metadata": {
    "slideshow": {
     "slide_type": "subslide"
    }
   },
   "outputs": [
    {
     "data": {
      "text/plain": [
       "13.0000    35\n",
       "7.8958     32\n",
       "8.0500     28\n",
       "26.0000    25\n",
       "7.7500     25\n",
       "10.5000    19\n",
       "7.9250     14\n",
       "7.2292     14\n",
       "7.7750     12\n",
       "0.0000     12\n",
       "26.5500    11\n",
       "7.2500     11\n",
       "7.2250     10\n",
       "8.6625     10\n",
       "7.8542      9\n",
       "Name: Fare, dtype: int64"
      ]
     },
     "execution_count": 61,
     "metadata": {},
     "output_type": "execute_result"
    }
   ],
   "source": [
    "train['Fare'].value_counts().iloc[:15]"
   ]
  },
  {
   "cell_type": "code",
   "execution_count": 12,
   "metadata": {
    "slideshow": {
     "slide_type": "subslide"
    }
   },
   "outputs": [],
   "source": [
    "def get_labels(dataset):\n",
    "    return dataset['Survived']"
   ]
  },
  {
   "cell_type": "code",
   "execution_count": 13,
   "metadata": {
    "slideshow": {
     "slide_type": "fragment"
    }
   },
   "outputs": [],
   "source": [
    "def get_features(dataset):\n",
    "    features = pd.DataFrame()\n",
    "    features['male'] = (dataset['Sex'] == 'male').astype('float')\n",
    "    features['female'] = (dataset['Sex'] == 'female').astype('float')\n",
    "    for pclass in range(1,4):\n",
    "        features['pclass_' + str(pclass)] = (dataset['Pclass'] == pclass).astype('float')\n",
    "        \n",
    "    for embarked in ['S','C','Q']:\n",
    "        features['embarked_' + embarked] = (dataset['Embarked'] == embarked).astype('float')\n",
    "    \n",
    "    features['age'] = dataset['Age']\n",
    "    features['sibsp'] = dataset['SibSp']\n",
    "    features['Parch'] = dataset['Parch']\n",
    "    features['Fare'] = dataset['Fare'] \n",
    "    \n",
    "    return features"
   ]
  },
  {
   "cell_type": "code",
   "execution_count": 14,
   "metadata": {
    "slideshow": {
     "slide_type": "subslide"
    }
   },
   "outputs": [
    {
     "data": {
      "text/html": [
       "<div>\n",
       "<table border=\"1\" class=\"dataframe\">\n",
       "  <thead>\n",
       "    <tr style=\"text-align: right;\">\n",
       "      <th></th>\n",
       "      <th>male</th>\n",
       "      <th>female</th>\n",
       "      <th>pclass_1</th>\n",
       "      <th>pclass_2</th>\n",
       "      <th>pclass_3</th>\n",
       "      <th>embarked_S</th>\n",
       "      <th>embarked_C</th>\n",
       "      <th>embarked_Q</th>\n",
       "      <th>age</th>\n",
       "      <th>sibsp</th>\n",
       "      <th>Parch</th>\n",
       "      <th>Fare</th>\n",
       "    </tr>\n",
       "    <tr>\n",
       "      <th>PassengerId</th>\n",
       "      <th></th>\n",
       "      <th></th>\n",
       "      <th></th>\n",
       "      <th></th>\n",
       "      <th></th>\n",
       "      <th></th>\n",
       "      <th></th>\n",
       "      <th></th>\n",
       "      <th></th>\n",
       "      <th></th>\n",
       "      <th></th>\n",
       "      <th></th>\n",
       "    </tr>\n",
       "  </thead>\n",
       "  <tbody>\n",
       "    <tr>\n",
       "      <th>684</th>\n",
       "      <td>1.0</td>\n",
       "      <td>0.0</td>\n",
       "      <td>0.0</td>\n",
       "      <td>0.0</td>\n",
       "      <td>1.0</td>\n",
       "      <td>1.0</td>\n",
       "      <td>0.0</td>\n",
       "      <td>0.0</td>\n",
       "      <td>14.0</td>\n",
       "      <td>5</td>\n",
       "      <td>2</td>\n",
       "      <td>46.9000</td>\n",
       "    </tr>\n",
       "    <tr>\n",
       "      <th>422</th>\n",
       "      <td>1.0</td>\n",
       "      <td>0.0</td>\n",
       "      <td>0.0</td>\n",
       "      <td>0.0</td>\n",
       "      <td>1.0</td>\n",
       "      <td>0.0</td>\n",
       "      <td>0.0</td>\n",
       "      <td>1.0</td>\n",
       "      <td>21.0</td>\n",
       "      <td>0</td>\n",
       "      <td>0</td>\n",
       "      <td>7.7333</td>\n",
       "    </tr>\n",
       "    <tr>\n",
       "      <th>337</th>\n",
       "      <td>1.0</td>\n",
       "      <td>0.0</td>\n",
       "      <td>1.0</td>\n",
       "      <td>0.0</td>\n",
       "      <td>0.0</td>\n",
       "      <td>1.0</td>\n",
       "      <td>0.0</td>\n",
       "      <td>0.0</td>\n",
       "      <td>29.0</td>\n",
       "      <td>1</td>\n",
       "      <td>0</td>\n",
       "      <td>66.6000</td>\n",
       "    </tr>\n",
       "    <tr>\n",
       "      <th>682</th>\n",
       "      <td>1.0</td>\n",
       "      <td>0.0</td>\n",
       "      <td>1.0</td>\n",
       "      <td>0.0</td>\n",
       "      <td>0.0</td>\n",
       "      <td>0.0</td>\n",
       "      <td>1.0</td>\n",
       "      <td>0.0</td>\n",
       "      <td>27.0</td>\n",
       "      <td>0</td>\n",
       "      <td>0</td>\n",
       "      <td>76.7292</td>\n",
       "    </tr>\n",
       "    <tr>\n",
       "      <th>611</th>\n",
       "      <td>0.0</td>\n",
       "      <td>1.0</td>\n",
       "      <td>0.0</td>\n",
       "      <td>0.0</td>\n",
       "      <td>1.0</td>\n",
       "      <td>1.0</td>\n",
       "      <td>0.0</td>\n",
       "      <td>0.0</td>\n",
       "      <td>39.0</td>\n",
       "      <td>1</td>\n",
       "      <td>5</td>\n",
       "      <td>31.2750</td>\n",
       "    </tr>\n",
       "  </tbody>\n",
       "</table>\n",
       "</div>"
      ],
      "text/plain": [
       "             male  female  pclass_1  pclass_2  pclass_3  embarked_S  \\\n",
       "PassengerId                                                           \n",
       "684           1.0     0.0       0.0       0.0       1.0         1.0   \n",
       "422           1.0     0.0       0.0       0.0       1.0         0.0   \n",
       "337           1.0     0.0       1.0       0.0       0.0         1.0   \n",
       "682           1.0     0.0       1.0       0.0       0.0         0.0   \n",
       "611           0.0     1.0       0.0       0.0       1.0         1.0   \n",
       "\n",
       "             embarked_C  embarked_Q   age  sibsp  Parch     Fare  \n",
       "PassengerId                                                       \n",
       "684                 0.0         0.0  14.0      5      2  46.9000  \n",
       "422                 0.0         1.0  21.0      0      0   7.7333  \n",
       "337                 0.0         0.0  29.0      1      0  66.6000  \n",
       "682                 1.0         0.0  27.0      0      0  76.7292  \n",
       "611                 0.0         0.0  39.0      1      5  31.2750  "
      ]
     },
     "execution_count": 14,
     "metadata": {},
     "output_type": "execute_result"
    }
   ],
   "source": [
    "x_train = get_features(train_filled)\n",
    "y_train = get_labels(train)\n",
    "x_train.head()"
   ]
  },
  {
   "cell_type": "code",
   "execution_count": 15,
   "metadata": {
    "slideshow": {
     "slide_type": "fragment"
    }
   },
   "outputs": [
    {
     "data": {
      "text/plain": [
       "PassengerId\n",
       "684    0\n",
       "422    0\n",
       "337    0\n",
       "682    1\n",
       "611    0\n",
       "Name: Survived, dtype: int64"
      ]
     },
     "execution_count": 15,
     "metadata": {},
     "output_type": "execute_result"
    }
   ],
   "source": [
    "y_train.head()"
   ]
  },
  {
   "cell_type": "code",
   "execution_count": 16,
   "metadata": {
    "slideshow": {
     "slide_type": "subslide"
    }
   },
   "outputs": [
    {
     "name": "stdout",
     "output_type": "stream",
     "text": [
      "[ 0.80740741  0.80597015  0.78947368  0.78947368  0.78947368]\n",
      "0.796359721859\n",
      "{'C': 1, 'class_weight': None}\n"
     ]
    }
   ],
   "source": [
    "from sklearn.linear_model import LogisticRegression\n",
    "from sklearn.model_selection import cross_val_score\n",
    "\n",
    "C = [0.01, 1, 100]\n",
    "class_weight=[None, 'balanced']\n",
    "best_model = None\n",
    "best_scores = np.zeros((5,))\n",
    "best_params = {}\n",
    "\n",
    "for c in C:\n",
    "    for weight in class_weight:\n",
    "        model_logistic = LogisticRegression(C=c,class_weight=weight, random_state=123)\n",
    "        scores = cross_val_score(model_logistic,x_train, y_train, cv=5, scoring='accuracy')\n",
    "        if(best_scores.mean() < scores.mean()):\n",
    "            best_scores = scores\n",
    "            best_model = model_logistic\n",
    "            best_params['C'] = c\n",
    "            best_params['class_weight'] = weight\n",
    "\n",
    "print(best_scores)\n",
    "print(best_scores.mean())\n",
    "print(best_params)"
   ]
  },
  {
   "cell_type": "code",
   "execution_count": 17,
   "metadata": {
    "slideshow": {
     "slide_type": "subslide"
    }
   },
   "outputs": [
    {
     "name": "stdout",
     "output_type": "stream",
     "text": [
      "[ 0.79259259  0.81343284  0.79699248  0.76691729  0.78947368]\n",
      "0.791881777412\n",
      "{'C': 0.01, 'class_weight': None}\n"
     ]
    }
   ],
   "source": [
    "from sklearn.svm import LinearSVC\n",
    "\n",
    "C = [0.001, 0.01, 1, 10, 100]\n",
    "class_weight=[None, 'balanced']\n",
    "best_model = None\n",
    "best_scores = np.zeros((5,))\n",
    "best_params = {}\n",
    "\n",
    "for c in C:\n",
    "    for weight in class_weight:\n",
    "        model_svm = LinearSVC(C=c,class_weight=weight, random_state=123)\n",
    "        scores = cross_val_score(model_svm,x_train, y_train, cv=5, scoring='accuracy')\n",
    "        if(best_scores.mean() < scores.mean()):\n",
    "            best_scores = scores\n",
    "            best_model = model_svm\n",
    "            best_params['C'] = c\n",
    "            best_params['class_weight'] = weight\n",
    "\n",
    "print(best_scores)\n",
    "print(best_scores.mean())\n",
    "print(best_params)"
   ]
  },
  {
   "cell_type": "code",
   "execution_count": 18,
   "metadata": {
    "slideshow": {
     "slide_type": "subslide"
    }
   },
   "outputs": [
    {
     "name": "stdout",
     "output_type": "stream",
     "text": [
      "[ 0.85185185  0.79104478  0.80451128  0.81954887  0.81203008]\n",
      "0.815797370707\n",
      "{'n_estimators': 100, 'class_weight': None}\n"
     ]
    }
   ],
   "source": [
    "from sklearn.ensemble import RandomForestClassifier\n",
    "\n",
    "n_estimators = [10, 50, 100]\n",
    "class_weight=[None, 'balanced']\n",
    "best_model = None\n",
    "best_scores = np.zeros((5,))\n",
    "best_params = {}\n",
    "\n",
    "for num_est in n_estimators:\n",
    "    for weight in class_weight:\n",
    "        model_forest = RandomForestClassifier(n_estimators=num_est, class_weight=weight, random_state=123)\n",
    "        scores = cross_val_score(model_forest,x_train, get_labels(train), cv=5, scoring='accuracy')\n",
    "        if(best_scores.mean() < scores.mean()):\n",
    "            best_scores = scores\n",
    "            best_model = model_forest\n",
    "            best_params['n_estimators'] = num_est\n",
    "            best_params['class_weight'] = weight\n",
    "\n",
    "\n",
    "print(best_scores)\n",
    "print(best_scores.mean())\n",
    "print(best_params)"
   ]
  },
  {
   "cell_type": "markdown",
   "metadata": {
    "slideshow": {
     "slide_type": "subslide"
    }
   },
   "source": [
    "More information about hyperparameter tuning can be found at the links below:\n",
    "https://en.wikipedia.org/wiki/Hyperparameter_optimization , http://scikit-learn.org/stable/modules/grid_search.html "
   ]
  },
  {
   "cell_type": "markdown",
   "metadata": {
    "slideshow": {
     "slide_type": "subslide"
    }
   },
   "source": [
    "# Lets test our models with best scores"
   ]
  },
  {
   "cell_type": "code",
   "execution_count": 19,
   "metadata": {
    "slideshow": {
     "slide_type": "notes"
    }
   },
   "outputs": [
    {
     "name": "stdout",
     "output_type": "stream",
     "text": [
      "{'Mrs.': 37.119999999999997, 'Master.': 6.3049999999999997, 'Mr.': 35.041237113402062, 'Miss': 20.365853658536587}\n",
      "0\n"
     ]
    }
   ],
   "source": [
    "x_test = get_features(fill_age(test)) # we may set age by title to constant once we obtain it from train set\n",
    "y_test = get_labels(test)"
   ]
  },
  {
   "cell_type": "code",
   "execution_count": 20,
   "metadata": {
    "slideshow": {
     "slide_type": "subslide"
    }
   },
   "outputs": [
    {
     "name": "stdout",
     "output_type": "stream",
     "text": [
      "0.784753363229\n"
     ]
    }
   ],
   "source": [
    "model_logistic = LogisticRegression(C=100,class_weight='balanced', random_state=123)\n",
    "model_logistic.fit(x_train, y_train)\n",
    "\n",
    "score = model_logistic.score(x_test,y_test)\n",
    "print(score)"
   ]
  },
  {
   "cell_type": "code",
   "execution_count": 21,
   "metadata": {
    "slideshow": {
     "slide_type": "fragment"
    }
   },
   "outputs": [
    {
     "name": "stdout",
     "output_type": "stream",
     "text": [
      "0.775784753363\n"
     ]
    }
   ],
   "source": [
    "model_svm = LinearSVC(C=0.01, random_state=123)\n",
    "model_svm.fit(x_train, y_train)\n",
    "\n",
    "score = model_svm.score(x_test,y_test)\n",
    "print(score)"
   ]
  },
  {
   "cell_type": "code",
   "execution_count": 22,
   "metadata": {
    "slideshow": {
     "slide_type": "fragment"
    }
   },
   "outputs": [
    {
     "name": "stdout",
     "output_type": "stream",
     "text": [
      "0.811659192825\n"
     ]
    }
   ],
   "source": [
    "model_forest = RandomForestClassifier(n_estimators=100, random_state=123)\n",
    "model_forest.fit(x_train, y_train)\n",
    "\n",
    "score = model_forest.score(x_test,y_test)\n",
    "print(score)"
   ]
  },
  {
   "cell_type": "code",
   "execution_count": 23,
   "metadata": {
    "slideshow": {
     "slide_type": "notes"
    }
   },
   "outputs": [],
   "source": [
    "import itertools\n",
    "def plot_confusion_matrix(cm, classes,\n",
    "                          normalize=False,\n",
    "                          title='Confusion matrix',\n",
    "                          cmap=plt.cm.Blues):\n",
    "    \"\"\"\n",
    "    This function prints and plots the confusion matrix.\n",
    "    Normalization can be applied by setting `normalize=True`.\n",
    "    \"\"\"\n",
    "    if normalize:\n",
    "        cm = cm.astype('float') / cm.sum(axis=1)[:, np.newaxis]\n",
    "\n",
    "    plt.imshow(cm, interpolation='nearest', cmap=cmap)\n",
    "    plt.title(title)\n",
    "    plt.colorbar()\n",
    "    tick_marks = np.arange(len(classes))\n",
    "    plt.xticks(tick_marks, classes, rotation=45)\n",
    "    plt.yticks(tick_marks, classes)\n",
    "\n",
    "    fmt = '.2f' if normalize else 'd'\n",
    "    thresh = cm.max() / 2.\n",
    "    for i, j in itertools.product(range(cm.shape[0]), range(cm.shape[1])):\n",
    "        plt.text(j, i, format(cm[i, j], fmt),\n",
    "                 horizontalalignment=\"center\",\n",
    "                 color=\"white\" if cm[i, j] > thresh else \"black\", fontsize=25)\n",
    "\n",
    "    plt.tight_layout()\n",
    "    plt.ylabel('True label')\n",
    "    plt.xlabel('Predicted label')"
   ]
  },
  {
   "cell_type": "code",
   "execution_count": 63,
   "metadata": {
    "slideshow": {
     "slide_type": "notes"
    }
   },
   "outputs": [],
   "source": [
    "from sklearn.metrics import confusion_matrix\n",
    "cnf_matrix = confusion_matrix(y_pred=model_forest.predict(x_test), y_true=y_test, labels=model_forest.classes_)\n",
    "class_names = model_forest.classes_\n",
    "from sklearn.metrics import classification_report\n",
    "report = classification_report(y_pred=model_forest.predict(x_test), y_true=y_test, labels=model_forest.classes_)"
   ]
  },
  {
   "cell_type": "code",
   "execution_count": 64,
   "metadata": {
    "slideshow": {
     "slide_type": "subslide"
    }
   },
   "outputs": [
    {
     "data": {
      "image/png": "[encoded data removed]",
      "text/plain": [
       "<matplotlib.figure.Figure at 0x7fa061ce2048>"
      ]
     },
     "metadata": {},
     "output_type": "display_data"
    },
    {
     "name": "stdout",
     "output_type": "stream",
     "text": [
      "             precision    recall  f1-score   support\n",
      "\n",
      "          0       0.83      0.87      0.85       137\n",
      "          1       0.78      0.72      0.75        86\n",
      "\n",
      "avg / total       0.81      0.81      0.81       223\n",
      "\n"
     ]
    }
   ],
   "source": [
    "plt.figure(figsize=(8,8))\n",
    "plot_confusion_matrix(cnf_matrix, classes=class_names,\n",
    "                      title='Confusion matrix')\n",
    "plt.show()\n",
    "print(report)"
   ]
  },
  {
   "cell_type": "markdown",
   "metadata": {
    "slideshow": {
     "slide_type": "slide"
    }
   },
   "source": [
    "![](the_end_thank.jpg)"
   ]
  },
  {
   "cell_type": "markdown",
   "metadata": {
    "slideshow": {
     "slide_type": "slide"
    }
   },
   "source": [
    "![](qa.jpg)"
   ]
  },
  {
   "cell_type": "markdown",
   "metadata": {
    "slideshow": {
     "slide_type": "slide"
    }
   },
   "source": [
    "# References\n",
    "* http://fmi.machine-learning.bg/lectures/07-model-validation\n",
    "* http://scikit-learn.org/stable/modules/model_evaluation.html\n",
    "* https://turi.com/learn/userguide/evaluation/classification.html\n",
    "* http://dataaspirant.com/2015/04/11/five-most-popular-similarity-measures-implementation-in-python/\n",
    "* https://en.wikipedia.org/wiki/Cross-validation_(statistics)\n",
    "* https://www.kaggle.com/c/titanic\n",
    "* https://medium.com/@klintcho/explaining-precision-and-recall-c770eb9c69e9"
   ]
  }
 ],
 "metadata": {
  "celltoolbar": "Slideshow",
  "kernelspec": {
   "display_name": "Python 3",
   "language": "python",
   "name": "python3"
  },
  "language_info": {
   "codemirror_mode": {
    "name": "ipython",
    "version": 3
   },
   "file_extension": ".py",
   "mimetype": "text/x-python",
   "name": "python",
   "nbconvert_exporter": "python",
   "pygments_lexer": "ipython3",
   "version": "3.5.2"
  }
 },
 "nbformat": 4,
 "nbformat_minor": 2
}
