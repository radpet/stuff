{
 "cells": [
  {
   "cell_type": "markdown",
   "metadata": {},
   "source": [
    "# Softmax exercise\n",
    "\n",
    "*Complete and hand in this completed worksheet (including its outputs and any supporting code outside of the worksheet) with your assignment submission. For more details see the [assignments page](https://deep-learning-su.github.io/assignment-requirements/) on the course website.*\n",
    "\n",
    "This exercise is analogous to the SVM exercise. You will:\n",
    "\n",
    "- implement a fully-vectorized **loss function** for the Softmax classifier\n",
    "- implement the fully-vectorized expression for its **analytic gradient**\n",
    "- **check your implementation** with numerical gradient\n",
    "- use a validation set to **tune the learning rate and regularization** strength\n",
    "- **optimize** the loss function with **SGD**\n",
    "- **visualize** the final learned weights\n"
   ]
  },
  {
   "cell_type": "code",
   "execution_count": 1,
   "metadata": {},
   "outputs": [],
   "source": [
    "import random\n",
    "import numpy as np\n",
    "from deep_learning_su.data_utils import load_CIFAR10\n",
    "import matplotlib.pyplot as plt\n",
    "\n",
    "from __future__ import print_function\n",
    "\n",
    "%matplotlib inline\n",
    "plt.rcParams['figure.figsize'] = (10.0, 8.0) # set default size of plots\n",
    "plt.rcParams['image.interpolation'] = 'nearest'\n",
    "plt.rcParams['image.cmap'] = 'gray'\n",
    "\n",
    "# for auto-reloading extenrnal modules\n",
    "# see http://stackoverflow.com/questions/1907993/autoreload-of-modules-in-ipython\n",
    "%load_ext autoreload\n",
    "%autoreload 2"
   ]
  },
  {
   "cell_type": "code",
   "execution_count": 2,
   "metadata": {},
   "outputs": [
    {
     "name": "stdout",
     "output_type": "stream",
     "text": [
      "Train data shape:  (49000, 3073)\n",
      "Train labels shape:  (49000,)\n",
      "Validation data shape:  (1000, 3073)\n",
      "Validation labels shape:  (1000,)\n",
      "Test data shape:  (1000, 3073)\n",
      "Test labels shape:  (1000,)\n",
      "dev data shape:  (500, 3073)\n",
      "dev labels shape:  (500,)\n"
     ]
    }
   ],
   "source": [
    "def get_CIFAR10_data(num_training=49000, num_validation=1000, num_test=1000, num_dev=500):\n",
    "    \"\"\"\n",
    "    Load the CIFAR-10 dataset from disk and perform preprocessing to prepare\n",
    "    it for the linear classifier. These are the same steps as we used for the\n",
    "    SVM, but condensed to a single function.  \n",
    "    \"\"\"\n",
    "    # Load the raw CIFAR-10 data\n",
    "    cifar10_dir = 'deep_learning_su/datasets/cifar-10-batches-py'\n",
    "    X_train, y_train, X_test, y_test = load_CIFAR10(cifar10_dir)\n",
    "    \n",
    "    # subsample the data\n",
    "    mask = list(range(num_training, num_training + num_validation))\n",
    "    X_val = X_train[mask]\n",
    "    y_val = y_train[mask]\n",
    "    mask = list(range(num_training))\n",
    "    X_train = X_train[mask]\n",
    "    y_train = y_train[mask]\n",
    "    mask = list(range(num_test))\n",
    "    X_test = X_test[mask]\n",
    "    y_test = y_test[mask]\n",
    "    mask = np.random.choice(num_training, num_dev, replace=False)\n",
    "    X_dev = X_train[mask]\n",
    "    y_dev = y_train[mask]\n",
    "    \n",
    "    # Preprocessing: reshape the image data into rows\n",
    "    X_train = np.reshape(X_train, (X_train.shape[0], -1))\n",
    "    X_val = np.reshape(X_val, (X_val.shape[0], -1))\n",
    "    X_test = np.reshape(X_test, (X_test.shape[0], -1))\n",
    "    X_dev = np.reshape(X_dev, (X_dev.shape[0], -1))\n",
    "    \n",
    "    # Normalize the data: subtract the mean image\n",
    "    mean_image = np.mean(X_train, axis = 0)\n",
    "    X_train -= mean_image\n",
    "    X_val -= mean_image\n",
    "    X_test -= mean_image\n",
    "    X_dev -= mean_image\n",
    "    \n",
    "    # add bias dimension and transform into columns\n",
    "    X_train = np.hstack([X_train, np.ones((X_train.shape[0], 1))])\n",
    "    X_val = np.hstack([X_val, np.ones((X_val.shape[0], 1))])\n",
    "    X_test = np.hstack([X_test, np.ones((X_test.shape[0], 1))])\n",
    "    X_dev = np.hstack([X_dev, np.ones((X_dev.shape[0], 1))])\n",
    "    \n",
    "    return X_train, y_train, X_val, y_val, X_test, y_test, X_dev, y_dev\n",
    "\n",
    "\n",
    "# Invoke the above function to get our data.\n",
    "X_train, y_train, X_val, y_val, X_test, y_test, X_dev, y_dev = get_CIFAR10_data()\n",
    "print('Train data shape: ', X_train.shape)\n",
    "print('Train labels shape: ', y_train.shape)\n",
    "print('Validation data shape: ', X_val.shape)\n",
    "print('Validation labels shape: ', y_val.shape)\n",
    "print('Test data shape: ', X_test.shape)\n",
    "print('Test labels shape: ', y_test.shape)\n",
    "print('dev data shape: ', X_dev.shape)\n",
    "print('dev labels shape: ', y_dev.shape)"
   ]
  },
  {
   "cell_type": "markdown",
   "metadata": {},
   "source": [
    "## Softmax Classifier\n",
    "\n",
    "Your code for this section will all be written inside **deep_learning_su/classifiers/softmax.py**. \n"
   ]
  },
  {
   "cell_type": "code",
   "execution_count": 173,
   "metadata": {},
   "outputs": [
    {
     "name": "stdout",
     "output_type": "stream",
     "text": [
      "loss: 2.376641\n",
      "sanity check: 2.302585\n"
     ]
    }
   ],
   "source": [
    "# First implement the naive softmax loss function with nested loops.\n",
    "# Open the file deep_learning_su/classifiers/softmax.py and implement the\n",
    "# softmax_loss_naive function.\n",
    "\n",
    "from deep_learning_su.classifiers.softmax import softmax_loss_naive\n",
    "import time\n",
    "\n",
    "# Generate a random softmax weight matrix and use it to compute the loss.\n",
    "W = np.random.randn(3073, 10) * 0.0001\n",
    "loss, grad = softmax_loss_naive(W, X_dev, y_dev, 0.0)\n",
    "\n",
    "# As a rough sanity check, our loss should be something close to -log(0.1).\n",
    "print('loss: %f' % loss)\n",
    "print('sanity check: %f' % (-np.log(0.1)))"
   ]
  },
  {
   "cell_type": "markdown",
   "metadata": {},
   "source": [
    "## Inline Question 1:\n",
    "Why do we expect our loss to be close to -log(0.1)? Explain briefly.**\n",
    "\n",
    "**Your answer:** *Понеже log loss-a работи с вероятности, то в началото е нормално да имаме еднаква вероятност за всеки от класовете т.е 1/10, т.е 0.1*\n"
   ]
  },
  {
   "cell_type": "code",
   "execution_count": 192,
   "metadata": {},
   "outputs": [
    {
     "name": "stdout",
     "output_type": "stream",
     "text": [
      "numerical: 0.476270 analytic: 0.476270, relative error: 1.597390e-08\n",
      "numerical: 0.129010 analytic: 0.129010, relative error: 1.837450e-07\n",
      "numerical: -3.482872 analytic: -3.482872, relative error: 1.948218e-09\n",
      "numerical: -0.151255 analytic: -0.151255, relative error: 2.424498e-07\n",
      "numerical: -1.513477 analytic: -1.513477, relative error: 1.452999e-08\n",
      "numerical: -1.263239 analytic: -1.263239, relative error: 1.514730e-08\n",
      "numerical: -1.667911 analytic: -1.667911, relative error: 3.905909e-08\n",
      "numerical: -0.743110 analytic: -0.743110, relative error: 2.007550e-08\n",
      "numerical: 1.272117 analytic: 1.272117, relative error: 1.295974e-08\n",
      "numerical: -1.196715 analytic: -1.196715, relative error: 1.547958e-08\n",
      "numerical: 3.673391 analytic: 3.659645, relative error: 1.874579e-03\n",
      "numerical: 2.810212 analytic: 2.807869, relative error: 4.170619e-04\n",
      "numerical: 0.489228 analytic: 0.472061, relative error: 1.785851e-02\n",
      "numerical: -1.488299 analytic: -1.483099, relative error: 1.750158e-03\n",
      "numerical: 0.984421 analytic: 0.985706, relative error: 6.520635e-04\n",
      "numerical: -1.813859 analytic: -1.831394, relative error: 4.810521e-03\n",
      "numerical: 1.031173 analytic: 1.030191, relative error: 4.767056e-04\n",
      "numerical: 0.359255 analytic: 0.346713, relative error: 1.776550e-02\n",
      "numerical: -3.096419 analytic: -3.086927, relative error: 1.534943e-03\n",
      "numerical: -0.050750 analytic: -0.039671, relative error: 1.225272e-01\n"
     ]
    }
   ],
   "source": [
    "# Complete the implementation of softmax_loss_naive and implement a (naive)\n",
    "# version of the gradient that uses nested loops.\n",
    "loss, grad = softmax_loss_naive(W, X_dev, y_dev, 0.0)\n",
    "\n",
    "# As we did for the SVM, use numeric gradient checking as a debugging tool.\n",
    "# The numeric gradient should be close to the analytic gradient.\n",
    "from deep_learning_su.gradient_check import grad_check_sparse\n",
    "f = lambda w: softmax_loss_naive(w, X_dev, y_dev, 0.0)[0]\n",
    "grad_numerical = grad_check_sparse(f, W, grad, 10)\n",
    "\n",
    "# similar to SVM case, do another gradient check with regularization\n",
    "loss, grad = softmax_loss_naive(W, X_dev, y_dev, 5e1)\n",
    "f = lambda w: softmax_loss_naive(w, X_dev, y_dev, 5e1)[0]\n",
    "grad_numerical = grad_check_sparse(f, W, grad, 10)"
   ]
  },
  {
   "cell_type": "code",
   "execution_count": 200,
   "metadata": {},
   "outputs": [
    {
     "name": "stdout",
     "output_type": "stream",
     "text": [
      "naive loss: 2.376641e+00 computed in 0.107581s\n",
      "[[-2.23503819e+00 -3.41799623e+00  1.31219316e+00 ... -5.12138783e-01\n",
      "  -1.90685107e+00 -1.94477270e+00]\n",
      " [-3.87254853e+00 -3.34077454e+00  1.56563134e+00 ... -3.14610541e-01\n",
      "  -2.74019590e+00 -3.05899189e+00]\n",
      " [-6.14569866e+00 -3.91234657e+00  3.29021322e+00 ...  2.07301778e-01\n",
      "  -4.59301623e+00 -4.54775674e+00]\n",
      " ...\n",
      " [-1.00691251e+00  6.69003923e-02 -1.06964407e+00 ... -3.15770380e-01\n",
      "  -3.20032392e-01 -1.62246744e-01]\n",
      " [-1.68601287e+00 -1.65598448e+00  5.75586899e-01 ...  1.39174256e+00\n",
      "  -2.07222351e+00 -1.02961096e+00]\n",
      " [-6.88279317e-03  1.51027840e-02 -7.76964152e-03 ... -1.80932941e-03\n",
      "   1.15775225e-02 -2.39570223e-03]]\n",
      "vectorized loss: 2.376641e+00 computed in 0.008748s\n",
      "Loss difference: 0.000000\n",
      "Gradient difference: 0.000000\n"
     ]
    }
   ],
   "source": [
    "# Now that we have a naive implementation of the softmax loss function and its gradient,\n",
    "# implement a vectorized version in softmax_loss_vectorized.\n",
    "# The two versions should compute the same results, but the vectorized version should be\n",
    "# much faster.\n",
    "tic = time.time()\n",
    "loss_naive, grad_naive = softmax_loss_naive(W, X_dev, y_dev, 0.000005)\n",
    "toc = time.time()\n",
    "print('naive loss: %e computed in %fs' % (loss_naive, toc - tic))\n",
    "\n",
    "from deep_learning_su.classifiers.softmax import softmax_loss_vectorized\n",
    "tic = time.time()\n",
    "loss_vectorized, grad_vectorized = softmax_loss_vectorized(W, X_dev, y_dev, 0.000005)\n",
    "toc = time.time()\n",
    "print('vectorized loss: %e computed in %fs' % (loss_vectorized, toc - tic))\n",
    "\n",
    "# As we did for the SVM, we use the Frobenius norm to compare the two versions\n",
    "# of the gradient.\n",
    "grad_difference = np.linalg.norm(grad_naive - grad_vectorized, ord='fro')\n",
    "print('Loss difference: %f' % np.abs(loss_naive - loss_vectorized))\n",
    "print('Gradient difference: %f' % grad_difference)"
   ]
  },
  {
   "cell_type": "code",
   "execution_count": 206,
   "metadata": {},
   "outputs": [
    {
     "name": "stdout",
     "output_type": "stream",
     "text": [
      "iteration 0 / 1500: loss 775.572029\n",
      "iteration 100 / 1500: loss 284.526255\n",
      "iteration 200 / 1500: loss 105.516173\n",
      "iteration 300 / 1500: loss 39.940206\n",
      "iteration 400 / 1500: loss 15.854437\n",
      "iteration 500 / 1500: loss 7.145201\n",
      "iteration 600 / 1500: loss 3.979766\n",
      "iteration 700 / 1500: loss 2.752342\n",
      "iteration 800 / 1500: loss 2.369586\n",
      "iteration 900 / 1500: loss 2.131234\n",
      "iteration 1000 / 1500: loss 2.126122\n",
      "iteration 1100 / 1500: loss 2.054341\n",
      "iteration 1200 / 1500: loss 2.038133\n",
      "iteration 1300 / 1500: loss 2.086052\n",
      "iteration 1400 / 1500: loss 2.115529\n",
      "iteration 0 / 1500: loss 620.807228\n",
      "iteration 100 / 1500: loss 278.235511\n",
      "iteration 200 / 1500: loss 125.550442\n",
      "iteration 300 / 1500: loss 57.236753\n",
      "iteration 400 / 1500: loss 26.785632\n",
      "iteration 500 / 1500: loss 13.188828\n",
      "iteration 600 / 1500: loss 7.030322\n",
      "iteration 700 / 1500: loss 4.318744\n",
      "iteration 800 / 1500: loss 3.086557\n",
      "iteration 900 / 1500: loss 2.524021\n",
      "iteration 1000 / 1500: loss 2.229835\n",
      "iteration 1100 / 1500: loss 2.140333\n",
      "iteration 1200 / 1500: loss 2.074640\n",
      "iteration 1300 / 1500: loss 2.083443\n",
      "iteration 1400 / 1500: loss 2.129283\n",
      "iteration 0 / 1500: loss 759.464852\n",
      "iteration 100 / 1500: loss 6.851696\n",
      "iteration 200 / 1500: loss 2.122070\n",
      "iteration 300 / 1500: loss 2.118024\n",
      "iteration 400 / 1500: loss 2.056712\n",
      "iteration 500 / 1500: loss 2.071560\n",
      "iteration 600 / 1500: loss 2.088087\n",
      "iteration 700 / 1500: loss 2.043834\n",
      "iteration 800 / 1500: loss 2.024554\n",
      "iteration 900 / 1500: loss 2.175276\n",
      "iteration 1000 / 1500: loss 2.085985\n",
      "iteration 1100 / 1500: loss 2.092750\n",
      "iteration 1200 / 1500: loss 2.032204\n",
      "iteration 1300 / 1500: loss 2.160332\n",
      "iteration 1400 / 1500: loss 2.092227\n",
      "iteration 0 / 1500: loss 620.677281\n",
      "iteration 100 / 1500: loss 12.805212\n",
      "iteration 200 / 1500: loss 2.240367\n",
      "iteration 300 / 1500: loss 2.073350\n",
      "iteration 400 / 1500: loss 2.094961\n",
      "iteration 500 / 1500: loss 2.071056\n",
      "iteration 600 / 1500: loss 2.019368\n",
      "iteration 700 / 1500: loss 1.988445\n",
      "iteration 800 / 1500: loss 2.097397\n",
      "iteration 900 / 1500: loss 2.102987\n",
      "iteration 1000 / 1500: loss 2.134200\n",
      "iteration 1100 / 1500: loss 2.001393\n",
      "iteration 1200 / 1500: loss 2.040954\n",
      "iteration 1300 / 1500: loss 2.097506\n",
      "iteration 1400 / 1500: loss 1.986966\n",
      "lr 1.000000e-07 reg 2.000000e+04 train accuracy: 0.341122 val accuracy: 0.358000\n",
      "lr 1.000000e-07 reg 2.500000e+04 train accuracy: 0.331837 val accuracy: 0.345000\n",
      "lr 5.000000e-07 reg 2.000000e+04 train accuracy: 0.334551 val accuracy: 0.344000\n",
      "lr 5.000000e-07 reg 2.500000e+04 train accuracy: 0.324408 val accuracy: 0.339000\n",
      "best validation accuracy achieved during cross-validation: 0.358000\n"
     ]
    }
   ],
   "source": [
    "# Use the validation set to tune hyperparameters (regularization strength and\n",
    "# learning rate). You should experiment with different ranges for the learning\n",
    "# rates and regularization strengths; if you are careful you should be able to\n",
    "# get a classification accuracy of over 0.35 on the validation set.\n",
    "from deep_learning_su.classifiers import Softmax\n",
    "results = {}\n",
    "best_val = -1\n",
    "best_softmax = None\n",
    "learning_rates = [1e-7, 5e-7]\n",
    "regularization_strengths = [2.5e4, 2.0e4]\n",
    "\n",
    "################################################################################\n",
    "# TODO:                                                                        #\n",
    "# Use the validation set to set the learning rate and regularization strength. #\n",
    "# This should be identical to the validation that you did for the SVM; save    #\n",
    "# the best trained softmax classifer in best_softmax.                          #\n",
    "################################################################################\n",
    "def score(y_pred, y):\n",
    "    return np.mean(y_pred== y)\n",
    "\n",
    "for rate in learning_rates:\n",
    "    for c in regularization_strengths:\n",
    "        model = Softmax()\n",
    "        model.train(X_train, y_train, learning_rate=rate, reg=c,\n",
    "                      num_iters=1500, verbose=True)\n",
    "        train_score = score(model.predict(X_train),y_train)\n",
    "        val_score = score(model.predict(X_val), y_val)\n",
    "        if(best_val < val_score):\n",
    "            best_val = val_score\n",
    "            best_softmax = model\n",
    "        results[(rate,c)] = (train_score, val_score)\n",
    "################################################################################\n",
    "#                              END OF YOUR CODE                                #\n",
    "################################################################################\n",
    "    \n",
    "# Print out results.\n",
    "for lr, reg in sorted(results):\n",
    "    train_accuracy, val_accuracy = results[(lr, reg)]\n",
    "    print('lr %e reg %e train accuracy: %f val accuracy: %f' % (\n",
    "                lr, reg, train_accuracy, val_accuracy))\n",
    "    \n",
    "print('best validation accuracy achieved during cross-validation: %f' % best_val)"
   ]
  },
  {
   "cell_type": "code",
   "execution_count": 207,
   "metadata": {},
   "outputs": [
    {
     "name": "stdout",
     "output_type": "stream",
     "text": [
      "softmax on raw pixels final test set accuracy: 0.359000\n"
     ]
    }
   ],
   "source": [
    "# evaluate on test set\n",
    "# Evaluate the best softmax on test set\n",
    "y_test_pred = best_softmax.predict(X_test)\n",
    "test_accuracy = np.mean(y_test == y_test_pred)\n",
    "print('softmax on raw pixels final test set accuracy: %f' % (test_accuracy, ))"
   ]
  },
  {
   "cell_type": "code",
   "execution_count": 208,
   "metadata": {},
   "outputs": [
    {
     "data": {
      "image/png": "[encoded data removed]",
      "text/plain": [
       "<matplotlib.figure.Figure at 0x7f8eb8c122b0>"
      ]
     },
     "metadata": {},
     "output_type": "display_data"
    }
   ],
   "source": [
    "# Visualize the learned weights for each class\n",
    "w = best_softmax.W[:-1,:] # strip out the bias\n",
    "w = w.reshape(32, 32, 3, 10)\n",
    "\n",
    "w_min, w_max = np.min(w), np.max(w)\n",
    "\n",
    "classes = ['plane', 'car', 'bird', 'cat', 'deer', 'dog', 'frog', 'horse', 'ship', 'truck']\n",
    "for i in range(10):\n",
    "    plt.subplot(2, 5, i + 1)\n",
    "    \n",
    "    # Rescale the weights to be between 0 and 255\n",
    "    wimg = 255.0 * (w[:, :, :, i].squeeze() - w_min) / (w_max - w_min)\n",
    "    plt.imshow(wimg.astype('uint8'))\n",
    "    plt.axis('off')\n",
    "    plt.title(classes[i])"
   ]
  }
 ],
 "metadata": {
  "kernelspec": {
   "display_name": "Python 3",
   "language": "python",
   "name": "python3"
  },
  "language_info": {
   "codemirror_mode": {
    "name": "ipython",
    "version": 3
   },
   "file_extension": ".py",
   "mimetype": "text/x-python",
   "name": "python",
   "nbconvert_exporter": "python",
   "pygments_lexer": "ipython3",
   "version": "3.5.2"
  }
 },
 "nbformat": 4,
 "nbformat_minor": 1
}
