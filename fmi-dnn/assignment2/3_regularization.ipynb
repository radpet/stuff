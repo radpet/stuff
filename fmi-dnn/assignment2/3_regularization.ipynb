{
 "cells": [
  {
   "cell_type": "markdown",
   "metadata": {
    "colab_type": "text",
    "id": "kR-4eNdK6lYS"
   },
   "source": [
    "Deep Learning\n",
    "=============\n",
    "\n",
    "Assignment 3\n",
    "------------\n",
    "\n",
    "Previously in `2_fullyconnected.ipynb`, you trained a logistic regression and a neural network model.\n",
    "\n",
    "The goal of this assignment is to explore regularization techniques."
   ]
  },
  {
   "cell_type": "code",
   "execution_count": 1,
   "metadata": {
    "cellView": "both",
    "colab": {
     "autoexec": {
      "startup": false,
      "wait_interval": 0
     }
    },
    "colab_type": "code",
    "id": "JLpLa8Jt7Vu4"
   },
   "outputs": [],
   "source": [
    "# These are all the modules we'll be using later. Make sure you can import them\n",
    "# before proceeding further.\n",
    "from __future__ import print_function\n",
    "import numpy as np\n",
    "import tensorflow as tf\n",
    "from six.moves import cPickle as pickle"
   ]
  },
  {
   "cell_type": "markdown",
   "metadata": {
    "colab_type": "text",
    "id": "1HrCK6e17WzV"
   },
   "source": [
    "First reload the data we generated in `1_notmnist.ipynb`."
   ]
  },
  {
   "cell_type": "code",
   "execution_count": 2,
   "metadata": {
    "cellView": "both",
    "colab": {
     "autoexec": {
      "startup": false,
      "wait_interval": 0
     },
     "output_extras": [
      {
       "item_id": 1
      }
     ]
    },
    "colab_type": "code",
    "executionInfo": {
     "elapsed": 11777,
     "status": "ok",
     "timestamp": 1449849322348,
     "user": {
      "color": "",
      "displayName": "",
      "isAnonymous": false,
      "isMe": true,
      "permissionId": "",
      "photoUrl": "",
      "sessionId": "0",
      "userId": ""
     },
     "user_tz": 480
    },
    "id": "y3-cj1bpmuxc",
    "outputId": "e03576f1-ebbe-4838-c388-f1777bcc9873"
   },
   "outputs": [
    {
     "name": "stdout",
     "output_type": "stream",
     "text": [
      "Training set (200000, 28, 28) (200000,)\n",
      "Validation set (10000, 28, 28) (10000,)\n",
      "Test set (10000, 28, 28) (10000,)\n"
     ]
    }
   ],
   "source": [
    "pickle_file = 'notMNIST.pickle'\n",
    "\n",
    "with open(pickle_file, 'rb') as f:\n",
    "    save = pickle.load(f)\n",
    "    train_dataset = save['train_dataset']\n",
    "    train_labels = save['train_labels']\n",
    "    valid_dataset = save['valid_dataset']\n",
    "    valid_labels = save['valid_labels']\n",
    "    test_dataset = save['test_dataset']\n",
    "    test_labels = save['test_labels']\n",
    "    del save  # hint to help gc free up memory\n",
    "    print('Training set', train_dataset.shape, train_labels.shape)\n",
    "    print('Validation set', valid_dataset.shape, valid_labels.shape)\n",
    "    print('Test set', test_dataset.shape, test_labels.shape)"
   ]
  },
  {
   "cell_type": "markdown",
   "metadata": {
    "colab_type": "text",
    "id": "L7aHrm6nGDMB"
   },
   "source": [
    "Reformat into a shape that's more adapted to the models we're going to train:\n",
    "- data as a flat matrix,\n",
    "- labels as float 1-hot encodings."
   ]
  },
  {
   "cell_type": "code",
   "execution_count": 3,
   "metadata": {
    "cellView": "both",
    "colab": {
     "autoexec": {
      "startup": false,
      "wait_interval": 0
     },
     "output_extras": [
      {
       "item_id": 1
      }
     ]
    },
    "colab_type": "code",
    "executionInfo": {
     "elapsed": 11728,
     "status": "ok",
     "timestamp": 1449849322356,
     "user": {
      "color": "",
      "displayName": "",
      "isAnonymous": false,
      "isMe": true,
      "permissionId": "",
      "photoUrl": "",
      "sessionId": "0",
      "userId": ""
     },
     "user_tz": 480
    },
    "id": "IRSyYiIIGIzS",
    "outputId": "3f8996ee-3574-4f44-c953-5c8a04636582"
   },
   "outputs": [
    {
     "name": "stdout",
     "output_type": "stream",
     "text": [
      "Training set (200000, 784) (200000, 10)\n",
      "Validation set (10000, 784) (10000, 10)\n",
      "Test set (10000, 784) (10000, 10)\n"
     ]
    }
   ],
   "source": [
    "image_size = 28\n",
    "num_labels = 10\n",
    "\n",
    "def reformat(dataset, labels):\n",
    "    dataset = dataset.reshape((-1, image_size * image_size)).astype(np.float32)\n",
    "    # Map 1 to [0.0, 1.0, 0.0 ...], 2 to [0.0, 0.0, 1.0 ...]\n",
    "    labels = (np.arange(num_labels) == labels[:,None]).astype(np.float32)\n",
    "    return dataset, labels\n",
    "train_dataset, train_labels = reformat(train_dataset, train_labels)\n",
    "valid_dataset, valid_labels = reformat(valid_dataset, valid_labels)\n",
    "test_dataset, test_labels = reformat(test_dataset, test_labels)\n",
    "print('Training set', train_dataset.shape, train_labels.shape)\n",
    "print('Validation set', valid_dataset.shape, valid_labels.shape)\n",
    "print('Test set', test_dataset.shape, test_labels.shape)"
   ]
  },
  {
   "cell_type": "code",
   "execution_count": 4,
   "metadata": {
    "cellView": "both",
    "colab": {
     "autoexec": {
      "startup": false,
      "wait_interval": 0
     }
    },
    "colab_type": "code",
    "id": "RajPLaL_ZW6w"
   },
   "outputs": [],
   "source": [
    "def accuracy(predictions, labels):\n",
    "    return (100.0 * np.sum(np.argmax(predictions, 1) == np.argmax(labels, 1))\n",
    "          / predictions.shape[0])"
   ]
  },
  {
   "cell_type": "markdown",
   "metadata": {
    "colab_type": "text",
    "id": "sgLbUAQ1CW-1"
   },
   "source": [
    "---\n",
    "Problem 1\n",
    "---------\n",
    "\n",
    "Introduce and tune L2 regularization for both logistic and neural network models. Remember that L2 amounts to adding a penalty on the norm of the weights to the loss. In TensorFlow, you can compute the L2 loss for a tensor `t` using `nn.l2_loss(t)`. The right amount of regularization should improve your validation / test accuracy.\n",
    "\n",
    "---"
   ]
  },
  {
   "cell_type": "code",
   "execution_count": 5,
   "metadata": {},
   "outputs": [],
   "source": [
    "from sklearn.linear_model import LogisticRegression\n",
    "\n",
    "model = LogisticRegression(C=10, penalty='l2').fit(train_dataset[:50000], np.argmax(train_labels[:50000],axis=1))"
   ]
  },
  {
   "cell_type": "code",
   "execution_count": 79,
   "metadata": {},
   "outputs": [
    {
     "name": "stdout",
     "output_type": "stream",
     "text": [
      "Val report\n",
      "             precision    recall  f1-score   support\n",
      "\n",
      "          0       0.83      0.81      0.82      1000\n",
      "          1       0.82      0.77      0.80      1000\n",
      "          2       0.81      0.87      0.84      1000\n",
      "          3       0.84      0.84      0.84      1000\n",
      "          4       0.82      0.75      0.78      1000\n",
      "          5       0.83      0.86      0.84      1000\n",
      "          6       0.82      0.79      0.80      1000\n",
      "          7       0.82      0.82      0.82      1000\n",
      "          8       0.74      0.79      0.77      1000\n",
      "          9       0.81      0.82      0.82      1000\n",
      "\n",
      "avg / total       0.81      0.81      0.81     10000\n",
      "\n",
      "Test report\n",
      "             precision    recall  f1-score   support\n",
      "\n",
      "          0       0.90      0.87      0.89      1000\n",
      "          1       0.90      0.88      0.89      1000\n",
      "          2       0.86      0.93      0.89      1000\n",
      "          3       0.92      0.91      0.92      1000\n",
      "          4       0.88      0.82      0.85      1000\n",
      "          5       0.88      0.91      0.89      1000\n",
      "          6       0.89      0.85      0.87      1000\n",
      "          7       0.91      0.87      0.89      1000\n",
      "          8       0.84      0.85      0.84      1000\n",
      "          9       0.84      0.90      0.87      1000\n",
      "\n",
      "avg / total       0.88      0.88      0.88     10000\n",
      "\n"
     ]
    }
   ],
   "source": [
    "from sklearn.metrics import classification_report\n",
    "print('Val report')\n",
    "print(classification_report(y_pred=model.predict(valid_dataset), y_true=np.argmax(valid_labels, axis=1)))\n",
    "print('Test report')\n",
    "print(classification_report(y_pred=model.predict(test_dataset), y_true=np.argmax(test_labels, axis=1)))"
   ]
  },
  {
   "cell_type": "code",
   "execution_count": 80,
   "metadata": {},
   "outputs": [],
   "source": [
    "def nn_reg():\n",
    "    graph = tf.Graph()\n",
    "    with graph.as_default():\n",
    "\n",
    "      # Input data. For the training data, we use a placeholder that will be fed\n",
    "      # at run time with a training minibatch.\n",
    "      tf_train_dataset = tf.placeholder(tf.float32,\n",
    "                                        shape=(batch_size, image_size * image_size))\n",
    "      tf_train_labels = tf.placeholder(tf.float32, shape=(batch_size, num_labels))\n",
    "      tf_valid_dataset = tf.constant(valid_dataset)\n",
    "      tf_test_dataset = tf.constant(test_dataset)\n",
    "\n",
    "      tf_reg_c = tf.constant(0.001)\n",
    "\n",
    "      # my hidden layer\n",
    "      hidden_w = tf.Variable(\n",
    "        tf.truncated_normal([image_size* image_size, 1024])\n",
    "      )\n",
    "      hidden_b = tf.Variable(tf.zeros([1024]))\n",
    "      hidden = tf.nn.relu(tf.matmul(tf_train_dataset, hidden_w) + hidden_b)\n",
    "\n",
    "\n",
    "      # Variables.\n",
    "      weights = tf.Variable(\n",
    "        tf.truncated_normal([1024, num_labels]))\n",
    "      biases = tf.Variable(tf.zeros([num_labels]))\n",
    "\n",
    "      # Training computation.\n",
    "      logits = tf.matmul(hidden, weights) + biases\n",
    "      loss = tf.reduce_mean(\n",
    "        tf.nn.softmax_cross_entropy_with_logits(labels=tf_train_labels, logits=logits))\n",
    "\n",
    "      reg = tf.nn.l2_loss(hidden_w) + tf.nn.l2_loss(weights)\n",
    "      loss+=tf_reg_c * reg\n",
    "\n",
    "      # Optimizer.\n",
    "      optimizer = tf.train.GradientDescentOptimizer(0.5).minimize(loss)\n",
    "\n",
    "      # Predictions for the training, validation, and test data.\n",
    "      train_prediction = tf.nn.softmax(logits)\n",
    "\n",
    "      predict = lambda dataset: tf.nn.softmax(tf.matmul( tf.nn.relu(tf.matmul(dataset, hidden_w) + hidden_b), weights) + biases)\n",
    "\n",
    "      valid_prediction = predict(tf_valid_dataset)\n",
    "      test_prediction = predict(tf_test_dataset)"
   ]
  },
  {
   "cell_type": "code",
   "execution_count": 81,
   "metadata": {},
   "outputs": [
    {
     "name": "stdout",
     "output_type": "stream",
     "text": [
      "Initialized\n",
      "Minibatch loss at step 0: 714.850891\n",
      "Minibatch accuracy: 15.6%\n",
      "Validation accuracy: 28.0%\n",
      "Minibatch loss at step 500: 192.646881\n",
      "Minibatch accuracy: 75.0%\n",
      "Validation accuracy: 82.4%\n",
      "Minibatch loss at step 1000: 115.967949\n",
      "Minibatch accuracy: 74.2%\n",
      "Validation accuracy: 82.3%\n",
      "Minibatch loss at step 1500: 68.169044\n",
      "Minibatch accuracy: 80.9%\n",
      "Validation accuracy: 83.0%\n",
      "Minibatch loss at step 2000: 40.997562\n",
      "Minibatch accuracy: 86.3%\n",
      "Validation accuracy: 84.6%\n",
      "Minibatch loss at step 2500: 25.002024\n",
      "Minibatch accuracy: 85.9%\n",
      "Validation accuracy: 86.1%\n",
      "Minibatch loss at step 3000: 15.464198\n",
      "Minibatch accuracy: 84.0%\n",
      "Validation accuracy: 86.1%\n",
      "Test accuracy: 92.1%\n"
     ]
    }
   ],
   "source": [
    "nn_reg()\n",
    "num_steps = 3001\n",
    "\n",
    "with tf.Session(graph=graph) as session:\n",
    "  tf.global_variables_initializer().run()\n",
    "  print(\"Initialized\")\n",
    "  for step in range(num_steps):\n",
    "    # Pick an offset within the training data, which has been randomized.\n",
    "    # Note: we could use better randomization across epochs.\n",
    "    offset = (step * batch_size) % (train_labels.shape[0] - batch_size)\n",
    "    # Generate a minibatch.\n",
    "    batch_data = train_dataset[offset:(offset + batch_size), :]\n",
    "    batch_labels = train_labels[offset:(offset + batch_size), :]\n",
    "    # Prepare a dictionary telling the session where to feed the minibatch.\n",
    "    # The key of the dictionary is the placeholder node of the graph to be fed,\n",
    "    # and the value is the numpy array to feed to it.\n",
    "    feed_dict = {tf_train_dataset : batch_data, tf_train_labels : batch_labels}\n",
    "    _, l, predictions = session.run(\n",
    "      [optimizer, loss, train_prediction], feed_dict=feed_dict)\n",
    "    if (step % 500 == 0):\n",
    "      print(\"Minibatch loss at step %d: %f\" % (step, l))\n",
    "      print(\"Minibatch accuracy: %.1f%%\" % accuracy(predictions, batch_labels))\n",
    "      print(\"Validation accuracy: %.1f%%\" % accuracy(\n",
    "        valid_prediction.eval(), valid_labels))\n",
    "  print(\"Test accuracy: %.1f%%\" % accuracy(test_prediction.eval(), test_labels))"
   ]
  },
  {
   "cell_type": "markdown",
   "metadata": {
    "colab_type": "text",
    "id": "na8xX2yHZzNF"
   },
   "source": [
    "---\n",
    "Problem 2\n",
    "---------\n",
    "Let's demonstrate an extreme case of overfitting. Restrict your training data to just a few batches. What happens?\n",
    "\n",
    "---"
   ]
  },
  {
   "cell_type": "code",
   "execution_count": 82,
   "metadata": {},
   "outputs": [
    {
     "data": {
      "text/plain": [
       "((1000, 784), (1000, 10))"
      ]
     },
     "execution_count": 82,
     "metadata": {},
     "output_type": "execute_result"
    }
   ],
   "source": [
    "train_dataset_small = train_dataset[:1000]\n",
    "train_labels_small = train_labels[:1000]\n",
    "\n",
    "train_dataset_small.shape, train_labels_small.shape"
   ]
  },
  {
   "cell_type": "code",
   "execution_count": 83,
   "metadata": {},
   "outputs": [
    {
     "name": "stdout",
     "output_type": "stream",
     "text": [
      "Initialized\n",
      "Minibatch loss at step 0: 825.213501\n",
      "Minibatch accuracy: 7.4%\n",
      "Validation accuracy: 31.5%\n",
      "Minibatch loss at step 500: 190.578598\n",
      "Minibatch accuracy: 100.0%\n",
      "Validation accuracy: 79.7%\n",
      "Minibatch loss at step 1000: 115.663048\n",
      "Minibatch accuracy: 99.6%\n",
      "Validation accuracy: 80.1%\n",
      "Minibatch loss at step 1500: 70.121437\n",
      "Minibatch accuracy: 100.0%\n",
      "Validation accuracy: 79.9%\n",
      "Minibatch loss at step 2000: 42.569256\n",
      "Minibatch accuracy: 99.6%\n",
      "Validation accuracy: 79.9%\n",
      "Minibatch loss at step 2500: 25.793873\n",
      "Minibatch accuracy: 100.0%\n",
      "Validation accuracy: 80.0%\n",
      "Minibatch loss at step 3000: 15.644109\n",
      "Minibatch accuracy: 100.0%\n",
      "Validation accuracy: 80.2%\n",
      "Test accuracy: 86.8%\n"
     ]
    }
   ],
   "source": [
    "num_steps = 3001\n",
    "\n",
    "with tf.Session(graph=graph) as session:\n",
    "  tf.global_variables_initializer().run()\n",
    "  print(\"Initialized\")\n",
    "  for step in range(num_steps):\n",
    "    # Pick an offset within the training data, which has been randomized.\n",
    "    # Note: we could use better randomization across epochs.\n",
    "    offset = (step * batch_size) % (train_labels_small.shape[0] - batch_size)\n",
    "    # Generate a minibatch.\n",
    "    batch_data = train_dataset_small[offset:(offset + batch_size), :]\n",
    "    batch_labels = train_labels_small[offset:(offset + batch_size), :]\n",
    "#     print(batch_data.shape)\n",
    "#     print(batch_labels.shape)\n",
    "    # Prepare a dictionary telling the session where to feed the minibatch.\n",
    "    # The key of the dictionary is the placeholder node of the graph to be fed,\n",
    "    # and the value is the numpy array to feed to it.\n",
    "    feed_dict = {\n",
    "        tf_train_dataset : batch_data,\n",
    "        tf_train_labels : batch_labels\n",
    "    }\n",
    "    _, l, predictions = session.run( [optimizer, loss, train_prediction], feed_dict=feed_dict)\n",
    "    if (step % 500 == 0):\n",
    "      print(\"Minibatch loss at step %d: %f\" % (step, l))\n",
    "      print(\"Minibatch accuracy: %.1f%%\" % accuracy(predictions, batch_labels))\n",
    "      print(\"Validation accuracy: %.1f%%\" % accuracy(\n",
    "        valid_prediction.eval(), valid_labels))\n",
    "  print(\"Test accuracy: %.1f%%\" % accuracy(test_prediction.eval(), test_labels))"
   ]
  },
  {
   "cell_type": "markdown",
   "metadata": {
    "colab_type": "text",
    "id": "ww3SCBUdlkRc"
   },
   "source": [
    "---\n",
    "Problem 3\n",
    "---------\n",
    "Introduce Dropout on the hidden layer of the neural network. Remember: Dropout should only be introduced during training, not evaluation, otherwise your evaluation results would be stochastic as well. TensorFlow provides `nn.dropout()` for that, but you have to make sure it's only inserted during training.\n",
    "\n",
    "What happens to our extreme overfitting case?\n",
    "\n",
    "---"
   ]
  },
  {
   "cell_type": "code",
   "execution_count": 84,
   "metadata": {},
   "outputs": [],
   "source": [
    "def nn_dropout():\n",
    "    graph = tf.Graph()\n",
    "    with graph.as_default():\n",
    "\n",
    "      # Input data. For the training data, we use a placeholder that will be fed\n",
    "      # at run time with a training minibatch.\n",
    "      tf_train_dataset = tf.placeholder(tf.float32,\n",
    "                                        shape=(batch_size, image_size * image_size))\n",
    "      tf_train_labels = tf.placeholder(tf.float32, shape=(batch_size, num_labels))\n",
    "      tf_valid_dataset = tf.constant(valid_dataset)\n",
    "      tf_test_dataset = tf.constant(test_dataset)\n",
    "\n",
    "      tf_reg_c = tf.constant(0.001)\n",
    "\n",
    "      # my hidden layer\n",
    "      hidden_w = tf.Variable(\n",
    "        tf.truncated_normal([image_size* image_size, 1024])\n",
    "      )\n",
    "      hidden_b = tf.Variable(tf.zeros([1024]))\n",
    "      hidden = tf.nn.relu(tf.matmul(tf_train_dataset, hidden_w) + hidden_b)\n",
    "      hidden = tf.nn.dropout(hidden, 0.5)\n",
    "\n",
    "\n",
    "      # Variables.\n",
    "      weights = tf.Variable(\n",
    "        tf.truncated_normal([1024, num_labels]))\n",
    "      biases = tf.Variable(tf.zeros([num_labels]))\n",
    "\n",
    "      # Training computation.\n",
    "      logits = tf.matmul(hidden, weights) + biases\n",
    "      loss = tf.reduce_mean(\n",
    "        tf.nn.softmax_cross_entropy_with_logits(labels=tf_train_labels, logits=logits))\n",
    "\n",
    "      reg = tf.nn.l2_loss(hidden_w) + tf.nn.l2_loss(weights)\n",
    "      loss+=tf_reg_c * reg\n",
    "\n",
    "      # Optimizer.\n",
    "      optimizer = tf.train.GradientDescentOptimizer(0.5).minimize(loss)\n",
    "\n",
    "      # Predictions for the training, validation, and test data.\n",
    "      train_prediction = tf.nn.softmax(logits)\n",
    "\n",
    "      predict = lambda dataset: tf.nn.softmax(tf.matmul( tf.nn.relu(tf.matmul(dataset, hidden_w) + hidden_b), weights) + biases)\n",
    "\n",
    "      valid_prediction = predict(tf_valid_dataset)\n",
    "      test_prediction = predict(tf_test_dataset)\n"
   ]
  },
  {
   "cell_type": "code",
   "execution_count": 85,
   "metadata": {},
   "outputs": [
    {
     "name": "stdout",
     "output_type": "stream",
     "text": [
      "Initialized\n",
      "Minibatch loss at step 0: 815.787231\n",
      "Minibatch accuracy: 13.3%\n",
      "Validation accuracy: 34.5%\n",
      "Minibatch loss at step 500: 191.031906\n",
      "Minibatch accuracy: 98.4%\n",
      "Validation accuracy: 79.5%\n",
      "Minibatch loss at step 1000: 115.541931\n",
      "Minibatch accuracy: 100.0%\n",
      "Validation accuracy: 79.8%\n",
      "Minibatch loss at step 1500: 70.085350\n",
      "Minibatch accuracy: 99.6%\n",
      "Validation accuracy: 79.7%\n",
      "Minibatch loss at step 2000: 42.503922\n",
      "Minibatch accuracy: 100.0%\n",
      "Validation accuracy: 80.0%\n",
      "Minibatch loss at step 2500: 25.779585\n",
      "Minibatch accuracy: 100.0%\n",
      "Validation accuracy: 79.8%\n",
      "Minibatch loss at step 3000: 15.637362\n",
      "Minibatch accuracy: 100.0%\n",
      "Validation accuracy: 79.8%\n",
      "Test accuracy: 86.6%\n"
     ]
    }
   ],
   "source": [
    "num_steps = 3001\n",
    "nn_dropout()\n",
    "with tf.Session(graph=graph) as session:\n",
    "  tf.global_variables_initializer().run()\n",
    "  print(\"Initialized\")\n",
    "  for step in range(num_steps):\n",
    "    # Pick an offset within the training data, which has been randomized.\n",
    "    # Note: we could use better randomization across epochs.\n",
    "    offset = (step * batch_size) % (train_labels_small.shape[0] - batch_size)\n",
    "    # Generate a minibatch.\n",
    "    batch_data = train_dataset_small[offset:(offset + batch_size), :]\n",
    "    batch_labels = train_labels_small[offset:(offset + batch_size), :]\n",
    "#     print(batch_data.shape)\n",
    "#     print(batch_labels.shape)\n",
    "    # Prepare a dictionary telling the session where to feed the minibatch.\n",
    "    # The key of the dictionary is the placeholder node of the graph to be fed,\n",
    "    # and the value is the numpy array to feed to it.\n",
    "    feed_dict = {\n",
    "        tf_train_dataset : batch_data,\n",
    "        tf_train_labels : batch_labels\n",
    "    }\n",
    "    _, l, predictions = session.run( [optimizer, loss, train_prediction], feed_dict=feed_dict)\n",
    "    if (step % 500 == 0):\n",
    "      print(\"Minibatch loss at step %d: %f\" % (step, l))\n",
    "      print(\"Minibatch accuracy: %.1f%%\" % accuracy(predictions, batch_labels))\n",
    "      print(\"Validation accuracy: %.1f%%\" % accuracy(\n",
    "        valid_prediction.eval(), valid_labels))\n",
    "  print(\"Test accuracy: %.1f%%\" % accuracy(test_prediction.eval(), test_labels))"
   ]
  },
  {
   "cell_type": "markdown",
   "metadata": {},
   "source": [
    "Без dropout мрежата е научила train dataset-a с по-бързо"
   ]
  },
  {
   "cell_type": "markdown",
   "metadata": {
    "colab_type": "text",
    "id": "-b1hTz3VWZjw"
   },
   "source": [
    "---\n",
    "Problem 4\n",
    "---------\n",
    "\n",
    "Try to get the best performance you can using a multi-layer model! The best reported test accuracy using a deep network is [97.1%](http://yaroslavvb.blogspot.com/2011/09/notmnist-dataset.html?showComment=1391023266211#c8758720086795711595).\n",
    "\n",
    "One avenue you can explore is to add multiple layers.\n",
    "\n",
    "Another one is to use learning rate decay:\n",
    "\n",
    "    global_step = tf.Variable(0)  # count the number of steps taken.\n",
    "    learning_rate = tf.train.exponential_decay(0.5, global_step, ...)\n",
    "    optimizer = tf.train.GradientDescentOptimizer(learning_rate).minimize(loss, global_step=global_step)\n",
    " \n",
    " ---\n"
   ]
  },
  {
   "cell_type": "markdown",
   "metadata": {},
   "source": [
    "https://en.wikipedia.org/wiki/Exponential_decay"
   ]
  },
  {
   "cell_type": "code",
   "execution_count": 142,
   "metadata": {},
   "outputs": [],
   "source": [
    "def nn_3layerd():\n",
    "    '''\n",
    "    input -> hidden(1024)(relu) - > dropout(0.5) -> hidden(128)(relu) -> dropout(0.3) -> output(softmax)\n",
    "    '''\n",
    "    graph = tf.Graph()\n",
    "    with graph.as_default():\n",
    "        # Input data. For the training data, we use a placeholder that will be fed\n",
    "        # at run time with a training minibatch.\n",
    "        tf_train_dataset = tf.placeholder(tf.float32,\n",
    "                                        shape=(batch_size, image_size * image_size))\n",
    "        tf_train_labels = tf.placeholder(tf.float32, shape=(batch_size, num_labels))\n",
    "        tf_valid_dataset = tf.constant(valid_dataset)\n",
    "        tf_test_dataset = tf.constant(test_dataset)\n",
    "\n",
    "        tf_reg_c = tf.constant(0.001)\n",
    "\n",
    "        # my hidden layer\n",
    "        hidden_w = tf.Variable(\n",
    "        tf.truncated_normal([image_size* image_size, 512])\n",
    "        )\n",
    "        hidden_b = tf.Variable(tf.zeros([512]))\n",
    "        hidden = tf.nn.relu(tf.matmul(tf_train_dataset, hidden_w) + hidden_b)\n",
    "        hidden = tf.nn.dropout(hidden, 0.4)\n",
    "\n",
    "        # hidden layer 2\n",
    "        hidden2_w = tf.Variable(\n",
    "        tf.truncated_normal([512, 256])\n",
    "        )\n",
    "        hidden2_b = tf.Variable(tf.zeros([256]))\n",
    "        hidden2 = tf.nn.relu(tf.matmul(hidden, hidden2_w) + hidden2_b)\n",
    "        hidden2 = tf.nn.dropout(hidden2, 0.3)\n",
    "\n",
    "        # Variables.\n",
    "        weights = tf.Variable(\n",
    "        tf.truncated_normal([256, num_labels]))\n",
    "        biases = tf.Variable(tf.zeros([num_labels]))\n",
    "\n",
    "        # Training computation.\n",
    "        logits = tf.matmul(hidden2, weights) + biases\n",
    "        loss = tf.reduce_mean(\n",
    "        tf.nn.softmax_cross_entropy_with_logits(labels=tf_train_labels, logits=logits))\n",
    "\n",
    "        reg = tf.nn.l2_loss(hidden_w) + tf.nn.l2_loss(hidden2_w) + tf.nn.l2_loss(weights)\n",
    "        loss+=tf_reg_c * reg\n",
    "        \n",
    "        # Optimizer\n",
    "#         global_step = tf.Variable(0)\n",
    "#         start = 0.00001\n",
    "#         lr = tf.train.exponential_decay(start, global_step, 600, 0.85)\n",
    "        optimizer = tf.train.AdamOptimizer().minimize(loss)\n",
    "        \n",
    "        # Predictions for the training, validation, and test data.\n",
    "        train_prediction = tf.nn.softmax(logits)\n",
    "\n",
    "        predict = lambda dataset: tf.nn.softmax(tf.matmul( tf.nn.relu(tf.matmul( tf.nn.relu(tf.matmul(dataset, hidden_w) + hidden_b), hidden2_w) + hidden2_b) , weights) + biases)\n",
    "\n",
    "        valid_prediction = predict(tf_valid_dataset)\n",
    "        test_prediction = predict(tf_test_dataset)\n"
   ]
  },
  {
   "cell_type": "code",
   "execution_count": 144,
   "metadata": {},
   "outputs": [
    {
     "name": "stdout",
     "output_type": "stream",
     "text": [
      "Initialized\n",
      "Minibatch loss at step 0: 779.982910\n",
      "Minibatch accuracy: 5.9%\n",
      "Validation accuracy: 28.4%\n",
      "Minibatch loss at step 500: 197.421295\n",
      "Minibatch accuracy: 72.3%\n",
      "Validation accuracy: 81.7%\n",
      "Minibatch loss at step 1000: 115.119392\n",
      "Minibatch accuracy: 76.2%\n",
      "Validation accuracy: 82.6%\n",
      "Minibatch loss at step 1500: 68.590149\n",
      "Minibatch accuracy: 76.2%\n",
      "Validation accuracy: 83.3%\n",
      "Minibatch loss at step 2000: 41.190937\n",
      "Minibatch accuracy: 85.2%\n",
      "Validation accuracy: 84.7%\n",
      "Minibatch loss at step 2500: 25.031212\n",
      "Minibatch accuracy: 85.5%\n",
      "Validation accuracy: 85.6%\n",
      "Minibatch loss at step 3000: 15.487282\n",
      "Minibatch accuracy: 84.8%\n",
      "Validation accuracy: 86.3%\n",
      "Minibatch loss at step 3500: 9.546672\n",
      "Minibatch accuracy: 85.9%\n",
      "Validation accuracy: 87.2%\n",
      "Minibatch loss at step 4000: 5.993134\n",
      "Minibatch accuracy: 86.7%\n",
      "Validation accuracy: 87.3%\n",
      "Minibatch loss at step 4500: 3.831416\n",
      "Minibatch accuracy: 89.1%\n",
      "Validation accuracy: 87.6%\n",
      "Minibatch loss at step 5000: 2.481787\n",
      "Minibatch accuracy: 87.9%\n",
      "Validation accuracy: 88.2%\n",
      "Minibatch loss at step 5500: 1.820249\n",
      "Minibatch accuracy: 84.4%\n",
      "Validation accuracy: 88.0%\n",
      "Minibatch loss at step 6000: 1.237456\n",
      "Minibatch accuracy: 85.9%\n",
      "Validation accuracy: 88.1%\n",
      "Minibatch loss at step 6500: 0.858619\n",
      "Minibatch accuracy: 91.0%\n",
      "Validation accuracy: 88.4%\n",
      "Minibatch loss at step 7000: 0.794784\n",
      "Minibatch accuracy: 88.7%\n",
      "Validation accuracy: 88.2%\n",
      "Minibatch loss at step 7500: 0.724908\n",
      "Minibatch accuracy: 85.5%\n",
      "Validation accuracy: 88.8%\n",
      "Minibatch loss at step 8000: 0.608392\n",
      "Minibatch accuracy: 87.9%\n",
      "Validation accuracy: 88.4%\n",
      "Minibatch loss at step 8500: 0.597248\n",
      "Minibatch accuracy: 87.1%\n",
      "Validation accuracy: 88.3%\n",
      "Minibatch loss at step 9000: 0.529396\n",
      "Minibatch accuracy: 88.3%\n",
      "Validation accuracy: 88.7%\n",
      "Minibatch loss at step 9500: 0.608241\n",
      "Minibatch accuracy: 88.7%\n",
      "Validation accuracy: 88.6%\n",
      "Minibatch loss at step 10000: 0.459614\n",
      "Minibatch accuracy: 89.5%\n",
      "Validation accuracy: 88.7%\n",
      "Minibatch loss at step 10500: 0.487535\n",
      "Minibatch accuracy: 87.5%\n",
      "Validation accuracy: 88.9%\n",
      "Minibatch loss at step 11000: 0.482548\n",
      "Minibatch accuracy: 90.2%\n",
      "Validation accuracy: 88.6%\n",
      "Minibatch loss at step 11500: 0.500178\n",
      "Minibatch accuracy: 89.1%\n",
      "Validation accuracy: 88.7%\n",
      "Minibatch loss at step 12000: 0.482334\n",
      "Minibatch accuracy: 89.1%\n",
      "Validation accuracy: 88.8%\n",
      "Minibatch loss at step 12500: 0.472846\n",
      "Minibatch accuracy: 88.3%\n",
      "Validation accuracy: 88.6%\n",
      "Minibatch loss at step 13000: 0.521690\n",
      "Minibatch accuracy: 87.9%\n",
      "Validation accuracy: 89.0%\n",
      "Minibatch loss at step 13500: 0.483188\n",
      "Minibatch accuracy: 88.7%\n",
      "Validation accuracy: 88.6%\n",
      "Minibatch loss at step 14000: 0.492794\n",
      "Minibatch accuracy: 88.7%\n",
      "Validation accuracy: 88.8%\n",
      "Minibatch loss at step 14500: 0.553305\n",
      "Minibatch accuracy: 89.1%\n",
      "Validation accuracy: 88.8%\n",
      "Minibatch loss at step 15000: 0.436328\n",
      "Minibatch accuracy: 91.0%\n",
      "Validation accuracy: 88.7%\n",
      "Minibatch loss at step 15500: 0.450693\n",
      "Minibatch accuracy: 89.5%\n",
      "Validation accuracy: 88.8%\n",
      "Minibatch loss at step 16000: 0.533653\n",
      "Minibatch accuracy: 87.5%\n",
      "Validation accuracy: 89.0%\n",
      "Minibatch loss at step 16500: 0.509887\n",
      "Minibatch accuracy: 86.3%\n",
      "Validation accuracy: 88.9%\n",
      "Minibatch loss at step 17000: 0.499936\n",
      "Minibatch accuracy: 87.9%\n",
      "Validation accuracy: 88.9%\n",
      "Minibatch loss at step 17500: 0.491942\n",
      "Minibatch accuracy: 87.1%\n",
      "Validation accuracy: 88.9%\n",
      "Minibatch loss at step 18000: 0.615757\n",
      "Minibatch accuracy: 83.6%\n",
      "Validation accuracy: 88.8%\n",
      "Minibatch loss at step 18500: 0.651073\n",
      "Minibatch accuracy: 83.2%\n",
      "Validation accuracy: 89.1%\n",
      "Minibatch loss at step 19000: 0.480315\n",
      "Minibatch accuracy: 88.7%\n",
      "Validation accuracy: 89.0%\n",
      "Minibatch loss at step 19500: 0.434728\n",
      "Minibatch accuracy: 90.6%\n",
      "Validation accuracy: 89.0%\n",
      "Minibatch loss at step 20000: 0.511338\n",
      "Minibatch accuracy: 89.5%\n",
      "Validation accuracy: 88.9%\n",
      "Minibatch loss at step 20500: 0.604090\n",
      "Minibatch accuracy: 86.3%\n",
      "Validation accuracy: 88.9%\n",
      "Minibatch loss at step 21000: 0.511137\n",
      "Minibatch accuracy: 88.3%\n",
      "Validation accuracy: 89.1%\n",
      "Minibatch loss at step 21500: 0.431765\n",
      "Minibatch accuracy: 90.2%\n",
      "Validation accuracy: 88.9%\n",
      "Minibatch loss at step 22000: 0.407432\n",
      "Minibatch accuracy: 89.8%\n",
      "Validation accuracy: 89.0%\n",
      "Minibatch loss at step 22500: 0.546779\n",
      "Minibatch accuracy: 84.4%\n",
      "Validation accuracy: 89.0%\n",
      "Minibatch loss at step 23000: 0.410101\n",
      "Minibatch accuracy: 92.2%\n",
      "Validation accuracy: 89.2%\n",
      "Minibatch loss at step 23500: 0.525519\n",
      "Minibatch accuracy: 88.7%\n",
      "Validation accuracy: 89.0%\n",
      "Minibatch loss at step 24000: 0.552637\n",
      "Minibatch accuracy: 87.5%\n",
      "Validation accuracy: 88.8%\n",
      "Minibatch loss at step 24500: 0.461526\n",
      "Minibatch accuracy: 88.7%\n",
      "Validation accuracy: 89.1%\n",
      "Test accuracy: 94.0%\n"
     ]
    }
   ],
   "source": [
    "num_steps = 25000\n",
    "nn_3layerd()\n",
    "with tf.Session(graph=graph) as session:\n",
    "    tf.global_variables_initializer().run()\n",
    "    print(\"Initialized\")\n",
    "    for step in range(num_steps):\n",
    "        # Pick an offset within the training data, which has been randomized.\n",
    "        # Note: we could use better randomization across epochs.\n",
    "        offset = (step * batch_size) % (train_labels.shape[0] - batch_size)\n",
    "        # Generate a minibatch.\n",
    "        batch_data = train_dataset[offset:(offset + batch_size), :]\n",
    "        batch_labels = train_labels[offset:(offset + batch_size), :]\n",
    "        #     print(batch_data.shape)\n",
    "        #     print(batch_labels.shape)\n",
    "        # Prepare a dictionary telling the session where to feed the minibatch.\n",
    "        # The key of the dictionary is the placeholder node of the graph to be fed,\n",
    "        # and the value is the numpy array to feed to it.\n",
    "        feed_dict = {\n",
    "            tf_train_dataset : batch_data,\n",
    "            tf_train_labels : batch_labels\n",
    "        }\n",
    "        _, l, predictions = session.run( [optimizer, loss, train_prediction], feed_dict=feed_dict)\n",
    "        if (step % 500 == 0):\n",
    "            print(\"Minibatch loss at step %d: %f\" % (step, l))\n",
    "            print(\"Minibatch accuracy: %.1f%%\" % accuracy(predictions, batch_labels))\n",
    "            print(\"Validation accuracy: %.1f%%\" % accuracy(\n",
    "            valid_prediction.eval(), valid_labels))\n",
    "    print(\"Test accuracy: %.1f%%\" % accuracy(test_prediction.eval(), test_labels))"
   ]
  }
 ],
 "metadata": {
  "colab": {
   "default_view": {},
   "name": "3_regularization.ipynb",
   "provenance": [],
   "version": "0.3.2",
   "views": {}
  },
  "kernelspec": {
   "display_name": "Python 3",
   "language": "python",
   "name": "python3"
  },
  "language_info": {
   "codemirror_mode": {
    "name": "ipython",
    "version": 3
   },
   "file_extension": ".py",
   "mimetype": "text/x-python",
   "name": "python",
   "nbconvert_exporter": "python",
   "pygments_lexer": "ipython3",
   "version": "3.5.2"
  }
 },
 "nbformat": 4,
 "nbformat_minor": 1
}
